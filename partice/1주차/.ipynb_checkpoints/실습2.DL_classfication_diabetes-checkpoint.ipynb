{
 "cells": [
  {
   "cell_type": "code",
   "execution_count": 1,
   "id": "e06154a5-0919-4b78-a7dc-c42ca1254bb6",
   "metadata": {},
   "outputs": [],
   "source": [
    "from sklearn.datasets import load_breast_cancer\n",
    "import pandas as pd\n",
    "import numpy as np\n",
    "import matplotlib.pyplot as plt\n",
    "from sklearn.model_selection import train_test_split\n",
    "from sklearn.preprocessing import StandardScaler, LabelEncoder\n",
    "from sklearn.neighbors import KNeighborsClassifier\n",
    "import seaborn as sns"
   ]
  },
  {
   "cell_type": "code",
   "execution_count": 2,
   "id": "6010b7ea-b4ee-4d52-a8ed-4b0434837b91",
   "metadata": {},
   "outputs": [
    {
     "data": {
      "text/html": [
       "<div>\n",
       "<style scoped>\n",
       "    .dataframe tbody tr th:only-of-type {\n",
       "        vertical-align: middle;\n",
       "    }\n",
       "\n",
       "    .dataframe tbody tr th {\n",
       "        vertical-align: top;\n",
       "    }\n",
       "\n",
       "    .dataframe thead th {\n",
       "        text-align: right;\n",
       "    }\n",
       "</style>\n",
       "<table border=\"1\" class=\"dataframe\">\n",
       "  <thead>\n",
       "    <tr style=\"text-align: right;\">\n",
       "      <th></th>\n",
       "      <th>Glucose</th>\n",
       "      <th>BloodPressure</th>\n",
       "      <th>SkinThickness</th>\n",
       "      <th>Insulin</th>\n",
       "      <th>BMI</th>\n",
       "      <th>DiabetesPedigreeFunction</th>\n",
       "      <th>Age</th>\n",
       "      <th>Outcome</th>\n",
       "    </tr>\n",
       "    <tr>\n",
       "      <th>Pregnancies</th>\n",
       "      <th></th>\n",
       "      <th></th>\n",
       "      <th></th>\n",
       "      <th></th>\n",
       "      <th></th>\n",
       "      <th></th>\n",
       "      <th></th>\n",
       "      <th></th>\n",
       "    </tr>\n",
       "  </thead>\n",
       "  <tbody>\n",
       "    <tr>\n",
       "      <th>6</th>\n",
       "      <td>148</td>\n",
       "      <td>72</td>\n",
       "      <td>35</td>\n",
       "      <td>0</td>\n",
       "      <td>33.6</td>\n",
       "      <td>0.627</td>\n",
       "      <td>50</td>\n",
       "      <td>1</td>\n",
       "    </tr>\n",
       "    <tr>\n",
       "      <th>1</th>\n",
       "      <td>85</td>\n",
       "      <td>66</td>\n",
       "      <td>29</td>\n",
       "      <td>0</td>\n",
       "      <td>26.6</td>\n",
       "      <td>0.351</td>\n",
       "      <td>31</td>\n",
       "      <td>0</td>\n",
       "    </tr>\n",
       "    <tr>\n",
       "      <th>8</th>\n",
       "      <td>183</td>\n",
       "      <td>64</td>\n",
       "      <td>0</td>\n",
       "      <td>0</td>\n",
       "      <td>23.3</td>\n",
       "      <td>0.672</td>\n",
       "      <td>32</td>\n",
       "      <td>1</td>\n",
       "    </tr>\n",
       "    <tr>\n",
       "      <th>1</th>\n",
       "      <td>89</td>\n",
       "      <td>66</td>\n",
       "      <td>23</td>\n",
       "      <td>94</td>\n",
       "      <td>28.1</td>\n",
       "      <td>0.167</td>\n",
       "      <td>21</td>\n",
       "      <td>0</td>\n",
       "    </tr>\n",
       "    <tr>\n",
       "      <th>0</th>\n",
       "      <td>137</td>\n",
       "      <td>40</td>\n",
       "      <td>35</td>\n",
       "      <td>168</td>\n",
       "      <td>43.1</td>\n",
       "      <td>2.288</td>\n",
       "      <td>33</td>\n",
       "      <td>1</td>\n",
       "    </tr>\n",
       "    <tr>\n",
       "      <th>...</th>\n",
       "      <td>...</td>\n",
       "      <td>...</td>\n",
       "      <td>...</td>\n",
       "      <td>...</td>\n",
       "      <td>...</td>\n",
       "      <td>...</td>\n",
       "      <td>...</td>\n",
       "      <td>...</td>\n",
       "    </tr>\n",
       "    <tr>\n",
       "      <th>10</th>\n",
       "      <td>101</td>\n",
       "      <td>76</td>\n",
       "      <td>48</td>\n",
       "      <td>180</td>\n",
       "      <td>32.9</td>\n",
       "      <td>0.171</td>\n",
       "      <td>63</td>\n",
       "      <td>0</td>\n",
       "    </tr>\n",
       "    <tr>\n",
       "      <th>2</th>\n",
       "      <td>122</td>\n",
       "      <td>70</td>\n",
       "      <td>27</td>\n",
       "      <td>0</td>\n",
       "      <td>36.8</td>\n",
       "      <td>0.340</td>\n",
       "      <td>27</td>\n",
       "      <td>0</td>\n",
       "    </tr>\n",
       "    <tr>\n",
       "      <th>5</th>\n",
       "      <td>121</td>\n",
       "      <td>72</td>\n",
       "      <td>23</td>\n",
       "      <td>112</td>\n",
       "      <td>26.2</td>\n",
       "      <td>0.245</td>\n",
       "      <td>30</td>\n",
       "      <td>0</td>\n",
       "    </tr>\n",
       "    <tr>\n",
       "      <th>1</th>\n",
       "      <td>126</td>\n",
       "      <td>60</td>\n",
       "      <td>0</td>\n",
       "      <td>0</td>\n",
       "      <td>30.1</td>\n",
       "      <td>0.349</td>\n",
       "      <td>47</td>\n",
       "      <td>1</td>\n",
       "    </tr>\n",
       "    <tr>\n",
       "      <th>1</th>\n",
       "      <td>93</td>\n",
       "      <td>70</td>\n",
       "      <td>31</td>\n",
       "      <td>0</td>\n",
       "      <td>30.4</td>\n",
       "      <td>0.315</td>\n",
       "      <td>23</td>\n",
       "      <td>0</td>\n",
       "    </tr>\n",
       "  </tbody>\n",
       "</table>\n",
       "<p>768 rows × 8 columns</p>\n",
       "</div>"
      ],
      "text/plain": [
       "             Glucose  BloodPressure  SkinThickness  Insulin   BMI  \\\n",
       "Pregnancies                                                         \n",
       "6                148             72             35        0  33.6   \n",
       "1                 85             66             29        0  26.6   \n",
       "8                183             64              0        0  23.3   \n",
       "1                 89             66             23       94  28.1   \n",
       "0                137             40             35      168  43.1   \n",
       "...              ...            ...            ...      ...   ...   \n",
       "10               101             76             48      180  32.9   \n",
       "2                122             70             27        0  36.8   \n",
       "5                121             72             23      112  26.2   \n",
       "1                126             60              0        0  30.1   \n",
       "1                 93             70             31        0  30.4   \n",
       "\n",
       "             DiabetesPedigreeFunction  Age  Outcome  \n",
       "Pregnancies                                          \n",
       "6                               0.627   50        1  \n",
       "1                               0.351   31        0  \n",
       "8                               0.672   32        1  \n",
       "1                               0.167   21        0  \n",
       "0                               2.288   33        1  \n",
       "...                               ...  ...      ...  \n",
       "10                              0.171   63        0  \n",
       "2                               0.340   27        0  \n",
       "5                               0.245   30        0  \n",
       "1                               0.349   47        1  \n",
       "1                               0.315   23        0  \n",
       "\n",
       "[768 rows x 8 columns]"
      ]
     },
     "execution_count": 2,
     "metadata": {},
     "output_type": "execute_result"
    }
   ],
   "source": [
    "\n",
    "import numpy as np\n",
    "import pandas as pd\n",
    "import seaborn as sns\n",
    "from sklearn.model_selection import train_test_split\n",
    "import tensorflow as tf\n",
    "from tensorflow import keras\n",
    "\n",
    "df = pd.read_csv(r\"C:\\Users\\jongmin\\Downloads\\DeepLearning\\data\\diabetes.csv\", index_col=0)\n",
    "df"
   ]
  },
  {
   "cell_type": "code",
   "execution_count": 3,
   "id": "7c3be1fb-82c8-470d-8635-30654affcd83",
   "metadata": {},
   "outputs": [
    {
     "data": {
      "text/html": [
       "<div>\n",
       "<style scoped>\n",
       "    .dataframe tbody tr th:only-of-type {\n",
       "        vertical-align: middle;\n",
       "    }\n",
       "\n",
       "    .dataframe tbody tr th {\n",
       "        vertical-align: top;\n",
       "    }\n",
       "\n",
       "    .dataframe thead th {\n",
       "        text-align: right;\n",
       "    }\n",
       "</style>\n",
       "<table border=\"1\" class=\"dataframe\">\n",
       "  <thead>\n",
       "    <tr style=\"text-align: right;\">\n",
       "      <th></th>\n",
       "      <th>Glucose</th>\n",
       "      <th>BloodPressure</th>\n",
       "      <th>SkinThickness</th>\n",
       "      <th>Insulin</th>\n",
       "      <th>BMI</th>\n",
       "      <th>DiabetesPedigreeFunction</th>\n",
       "      <th>Age</th>\n",
       "    </tr>\n",
       "    <tr>\n",
       "      <th>Pregnancies</th>\n",
       "      <th></th>\n",
       "      <th></th>\n",
       "      <th></th>\n",
       "      <th></th>\n",
       "      <th></th>\n",
       "      <th></th>\n",
       "      <th></th>\n",
       "    </tr>\n",
       "  </thead>\n",
       "  <tbody>\n",
       "    <tr>\n",
       "      <th>6</th>\n",
       "      <td>148</td>\n",
       "      <td>72</td>\n",
       "      <td>35</td>\n",
       "      <td>0</td>\n",
       "      <td>33.6</td>\n",
       "      <td>0.627</td>\n",
       "      <td>50</td>\n",
       "    </tr>\n",
       "    <tr>\n",
       "      <th>1</th>\n",
       "      <td>85</td>\n",
       "      <td>66</td>\n",
       "      <td>29</td>\n",
       "      <td>0</td>\n",
       "      <td>26.6</td>\n",
       "      <td>0.351</td>\n",
       "      <td>31</td>\n",
       "    </tr>\n",
       "    <tr>\n",
       "      <th>8</th>\n",
       "      <td>183</td>\n",
       "      <td>64</td>\n",
       "      <td>0</td>\n",
       "      <td>0</td>\n",
       "      <td>23.3</td>\n",
       "      <td>0.672</td>\n",
       "      <td>32</td>\n",
       "    </tr>\n",
       "    <tr>\n",
       "      <th>1</th>\n",
       "      <td>89</td>\n",
       "      <td>66</td>\n",
       "      <td>23</td>\n",
       "      <td>94</td>\n",
       "      <td>28.1</td>\n",
       "      <td>0.167</td>\n",
       "      <td>21</td>\n",
       "    </tr>\n",
       "    <tr>\n",
       "      <th>0</th>\n",
       "      <td>137</td>\n",
       "      <td>40</td>\n",
       "      <td>35</td>\n",
       "      <td>168</td>\n",
       "      <td>43.1</td>\n",
       "      <td>2.288</td>\n",
       "      <td>33</td>\n",
       "    </tr>\n",
       "  </tbody>\n",
       "</table>\n",
       "</div>"
      ],
      "text/plain": [
       "             Glucose  BloodPressure  SkinThickness  Insulin   BMI  \\\n",
       "Pregnancies                                                         \n",
       "6                148             72             35        0  33.6   \n",
       "1                 85             66             29        0  26.6   \n",
       "8                183             64              0        0  23.3   \n",
       "1                 89             66             23       94  28.1   \n",
       "0                137             40             35      168  43.1   \n",
       "\n",
       "             DiabetesPedigreeFunction  Age  \n",
       "Pregnancies                                 \n",
       "6                               0.627   50  \n",
       "1                               0.351   31  \n",
       "8                               0.672   32  \n",
       "1                               0.167   21  \n",
       "0                               2.288   33  "
      ]
     },
     "execution_count": 3,
     "metadata": {},
     "output_type": "execute_result"
    }
   ],
   "source": [
    "X=df.drop('Outcome',axis=1)\n",
    "X.head()"
   ]
  },
  {
   "cell_type": "code",
   "execution_count": 4,
   "id": "550c520f-ebdf-43ce-a118-768d52c96aa4",
   "metadata": {},
   "outputs": [
    {
     "data": {
      "text/plain": [
       "Pregnancies\n",
       "6    1\n",
       "1    0\n",
       "8    1\n",
       "1    0\n",
       "0    1\n",
       "Name: Outcome, dtype: int64"
      ]
     },
     "execution_count": 4,
     "metadata": {},
     "output_type": "execute_result"
    }
   ],
   "source": [
    "\n",
    "y=df['Outcome']\n",
    "y.value_counts()\n",
    "y.head()"
   ]
  },
  {
   "cell_type": "code",
   "execution_count": 5,
   "id": "b3609675-f6e4-4f7b-81f6-a6a820f589ff",
   "metadata": {},
   "outputs": [],
   "source": [
    "\n",
    "Y = pd.get_dummies(y).values"
   ]
  },
  {
   "cell_type": "code",
   "execution_count": 16,
   "id": "cdf118b3",
   "metadata": {},
   "outputs": [
    {
     "data": {
      "text/plain": [
       "'Y = pd.get_dummies(y).values와 X = X.values는 각각 다음과 같은 역할을 합니다.\\n\\npd.get_dummies(y):\\n\\npandas.get_dummies는 범주형 데이터를 원-핫 인코딩(One-Hot Encoding)하는 함수입니다.\\n여기서는 y라는 데이터가 범주형(즉, 0과 1 같은 이진 값 또는 여러 범주의 값)이라고 가정합니다. 이 값을 원-핫 인코딩하여, 각 클래스에 해당하는 이진 값(0 또는 1)으로 변환합니다.\\n예를 들어, y가 [0, 1, 1, 0, 0]이라는 값이었다면, pd.get_dummies(y)는 다음과 같이 변환됩니다:\\n코드 복사\\n0  1\\n1  0\\n0  1\\n1  0\\n1  0\\n즉, 각 클래스가 별도의 열(column)로 나뉘고, 각 데이터 포인트는 해당하는 클래스에 1, 나머지에는 0을 할당합니다.\\n.values:\\n\\npandas.DataFrame이나 pandas.Series에서 .values를 사용하면, 해당 객체의 값만을 NumPy 배열(numpy array) 형태로 추출합니다.\\n여기서 pd.get_dummies(y).values는 원-핫 인코딩된 값을 NumPy 배열로 변환한 것입니다. NumPy 배열은 이후 머신러닝 모델에 쉽게 입력할 수 있습니다.\\n예를 들어, 위의 원-핫 인코딩된 값은 [[1, 0], [0, 1], [0, 1], [1, 0], [1, 0]]와 같은 형태의 NumPy 배열로 변환됩니다.\\nX = X.values:\\n\\n여기서 X는 아마도 피처(feature) 데이터일 것입니다. 즉, X는 여러 열(column)로 이루어진 데이터프레임이며, .values를 사용해 이를 NumPy 배열로 변환합니다.\\n이 변환을 통해 X도 NumPy 배열 형태로 바뀌어, 이후 모델 학습이나 예측에 쉽게 사용할 수 있게 됩니다.\\n변환된 X.values는 예를 들어, 아래와 같은 NumPy 배열이 될 수 있습니다:\\ncss\\n코드 복사\\narray([[148, 72, 35, 0, 33.6, 0.627, 50],\\n       [85, 66, 29, 0, 26.6, 0.351, 31],\\n       [183, 64, 0, 0, 23.3, 0.672, 32],\\n       ... ])\\n따라서, Y = pd.get_dummies(y).values는 라벨 데이터 y를 원-핫 인코딩하고 NumPy 배열로 변환하는 과정이고, X = X.values는 피처 데이터를 NumPy 배열로 변환하는 과정입니다. 이렇게 변환된 NumPy 배열을 머신러닝 모델에 입력할 수 있습니다.\\n'"
      ]
     },
     "execution_count": 16,
     "metadata": {},
     "output_type": "execute_result"
    }
   ],
   "source": [
    "'''Y = pd.get_dummies(y).values와 X = X.values는 각각 다음과 같은 역할을 합니다.\n",
    "\n",
    "pd.get_dummies(y):\n",
    "\n",
    "pandas.get_dummies는 범주형 데이터를 원-핫 인코딩(One-Hot Encoding)하는 함수입니다.\n",
    "여기서는 y라는 데이터가 범주형(즉, 0과 1 같은 이진 값 또는 여러 범주의 값)이라고 가정합니다. 이 값을 원-핫 인코딩하여, 각 클래스에 해당하는 이진 값(0 또는 1)으로 변환합니다.\n",
    "예를 들어, y가 [0, 1, 1, 0, 0]이라는 값이었다면, pd.get_dummies(y)는 다음과 같이 변환됩니다:\n",
    "코드 복사\n",
    "0  1\n",
    "1  0\n",
    "0  1\n",
    "1  0\n",
    "1  0\n",
    "즉, 각 클래스가 별도의 열(column)로 나뉘고, 각 데이터 포인트는 해당하는 클래스에 1, 나머지에는 0을 할당합니다.\n",
    ".values:\n",
    "\n",
    "pandas.DataFrame이나 pandas.Series에서 .values를 사용하면, 해당 객체의 값만을 NumPy 배열(numpy array) 형태로 추출합니다.\n",
    "여기서 pd.get_dummies(y).values는 원-핫 인코딩된 값을 NumPy 배열로 변환한 것입니다. NumPy 배열은 이후 머신러닝 모델에 쉽게 입력할 수 있습니다.\n",
    "예를 들어, 위의 원-핫 인코딩된 값은 [[1, 0], [0, 1], [0, 1], [1, 0], [1, 0]]와 같은 형태의 NumPy 배열로 변환됩니다.\n",
    "X = X.values:\n",
    "\n",
    "여기서 X는 아마도 피처(feature) 데이터일 것입니다. 즉, X는 여러 열(column)로 이루어진 데이터프레임이며, .values를 사용해 이를 NumPy 배열로 변환합니다.\n",
    "이 변환을 통해 X도 NumPy 배열 형태로 바뀌어, 이후 모델 학습이나 예측에 쉽게 사용할 수 있게 됩니다.\n",
    "변환된 X.values는 예를 들어, 아래와 같은 NumPy 배열이 될 수 있습니다:\n",
    "css\n",
    "코드 복사\n",
    "array([[148, 72, 35, 0, 33.6, 0.627, 50],\n",
    "       [85, 66, 29, 0, 26.6, 0.351, 31],\n",
    "       [183, 64, 0, 0, 23.3, 0.672, 32],\n",
    "       ... ])\n",
    "따라서, Y = pd.get_dummies(y).values는 라벨 데이터 y를 원-핫 인코딩하고 NumPy 배열로 변환하는 과정이고, X = X.values는 피처 데이터를 NumPy 배열로 변환하는 과정입니다. 이렇게 변환된 NumPy 배열을 머신러닝 모델에 입력할 수 있습니다.\n",
    "'''"
   ]
  },
  {
   "cell_type": "code",
   "execution_count": 17,
   "id": "4d6227ae",
   "metadata": {},
   "outputs": [
    {
     "data": {
      "text/plain": [
       "'원-핫 인코딩(One-Hot Encoding)은 범주형 데이터를 이진 벡터로 변환하는 기법입니다. 주로 머신러닝 알고리즘은 숫자형 데이터를 다루기 때문에, 텍스트나 범주형 데이터를 처리할 때 이를 숫자로 변환해야 합니다. 원-핫 인코딩은 이러한 범주형 데이터를 인코딩하는 가장 일반적인 방법 중 하나입니다.\\n\\n원-핫 인코딩의 과정\\n원-핫 인코딩은 다음의 단계를 통해 범주형 데이터를 처리합니다:\\n\\n각 범주에 고유한 정수 값을 할당:\\n\\n우선 범주형 데이터를 고유한 값으로 나눕니다.\\n예를 들어, \"Red\", \"Green\", \"Blue\"라는 세 가지 색상이 있다고 하면, 이를 각각 정수 값으로 매핑합니다:\\nmathematica\\n코드 복사\\nRed   -> 0\\nGreen -> 1\\nBlue  -> 2\\n정수 값을 이진 벡터로 변환:\\n\\n각 범주를 이진 벡터로 변환합니다. 이 벡터에서 한 범주는 1로 표시되고, 나머지 범주는 0으로 표시됩니다. 즉, 1개의 범주는 \\'활성화\\'되고 나머지는 \\'비활성화\\'됩니다.\\n예를 들어, \"Red\", \"Green\", \"Blue\"를 원-핫 인코딩하면 다음과 같이 변환됩니다:\\ncss\\n코드 복사\\nRed   -> [1, 0, 0]\\nGreen -> [0, 1, 0]\\nBlue  -> [0, 0, 1]\\n예시\\n예제 데이터:\\n범주형 데이터가 다음과 같다고 가정해보겠습니다:\\n\\nless\\n코드 복사\\n색상: [\"Red\", \"Green\", \"Blue\", \"Green\", \"Red\"]\\n이 데이터를 원-핫 인코딩하면 다음과 같습니다:\\n\\ncss\\n코드 복사\\nRed    -> [1, 0, 0]\\nGreen  -> [0, 1, 0]\\nBlue   -> [0, 0, 1]\\nGreen  -> [0, 1, 0]\\nRed    -> [1, 0, 0]\\n원-핫 인코딩은 각 범주를 0과 1로 구성된 벡터로 변환하여, 컴퓨터가 쉽게 처리할 수 있도록 합니다.\\n\\nPandas에서의 원-핫 인코딩\\npandas 라이브러리에서는 get_dummies() 함수를 사용하여 범주형 데이터를 쉽게 원-핫 인코딩할 수 있습니다.\\n\\npython\\n코드 복사\\nimport pandas as pd\\n\\n# 예제 데이터프레임 생성\\ndata = pd.DataFrame({\\n    \\'Color\\': [\\'Red\\', \\'Green\\', \\'Blue\\', \\'Green\\', \\'Red\\']\\n})\\n\\n# 원-핫 인코딩 적용\\none_hot_encoded = pd.get_dummies(data[\\'Color\\'])\\nprint(one_hot_encoded)\\n위 코드의 출력은 다음과 같습니다:\\n\\nmathematica\\n코드 복사\\n   Blue  Green  Red\\n0     0      0    1\\n1     0      1    0\\n2     1      0    0\\n3     0      1    0\\n4     0      0    1\\n원-핫 인코딩의 장점\\n모든 범주가 동등하게 취급: 원-핫 인코딩은 각 범주가 서로 독립적이며, 순서가 없다는 가정을 하므로 순서가 중요한 경우에는 문제가 되지 않습니다.\\n모델이 범주형 데이터의 차이를 직접 처리할 수 있음: 숫자형으로 변환된 데이터는 대부분의 머신러닝 모델이 처리할 수 있습니다.\\n원-핫 인코딩의 단점\\n차원이 커질 수 있음: 범주의 수가 많아질수록 벡터의 차원이 커집니다. 예를 들어, 만약 1000개의 범주가 있다면, 각 범주를 인코딩할 때 1000개의 길이를 가진 벡터가 생성되므로 메모리와 계산 성능에 부담이 될 수 있습니다.\\n다중공선성: 원-핫 인코딩된 열들 간의 다중공선성 문제가 발생할 수 있습니다. 이는 선형 회귀와 같은 모델에서는 문제를 일으킬 수 있습니다.\\n결론\\n원-핫 인코딩은 범주형 데이터를 이진 벡터로 변환하여 머신러닝 모델에서 사용할 수 있도록 하는 매우 유용한 방법입니다. 하지만 많은 범주를 가진 데이터에서는 메모리 문제를 고려해야 하므로, 필요에 따라 다른 인코딩 방식(예: 레이블 인코딩)을 사용하는 것이 좋을 수 있습니다.'"
      ]
     },
     "execution_count": 17,
     "metadata": {},
     "output_type": "execute_result"
    }
   ],
   "source": [
    "\"\"\"원-핫 인코딩(One-Hot Encoding)은 범주형 데이터를 이진 벡터로 변환하는 기법입니다. 주로 머신러닝 알고리즘은 숫자형 데이터를 다루기 때문에, 텍스트나 범주형 데이터를 처리할 때 이를 숫자로 변환해야 합니다. 원-핫 인코딩은 이러한 범주형 데이터를 인코딩하는 가장 일반적인 방법 중 하나입니다.\n",
    "\n",
    "원-핫 인코딩의 과정\n",
    "원-핫 인코딩은 다음의 단계를 통해 범주형 데이터를 처리합니다:\n",
    "\n",
    "각 범주에 고유한 정수 값을 할당:\n",
    "\n",
    "우선 범주형 데이터를 고유한 값으로 나눕니다.\n",
    "예를 들어, \"Red\", \"Green\", \"Blue\"라는 세 가지 색상이 있다고 하면, 이를 각각 정수 값으로 매핑합니다:\n",
    "mathematica\n",
    "코드 복사\n",
    "Red   -> 0\n",
    "Green -> 1\n",
    "Blue  -> 2\n",
    "정수 값을 이진 벡터로 변환:\n",
    "\n",
    "각 범주를 이진 벡터로 변환합니다. 이 벡터에서 한 범주는 1로 표시되고, 나머지 범주는 0으로 표시됩니다. 즉, 1개의 범주는 '활성화'되고 나머지는 '비활성화'됩니다.\n",
    "예를 들어, \"Red\", \"Green\", \"Blue\"를 원-핫 인코딩하면 다음과 같이 변환됩니다:\n",
    "css\n",
    "코드 복사\n",
    "Red   -> [1, 0, 0]\n",
    "Green -> [0, 1, 0]\n",
    "Blue  -> [0, 0, 1]\n",
    "예시\n",
    "예제 데이터:\n",
    "범주형 데이터가 다음과 같다고 가정해보겠습니다:\n",
    "\n",
    "less\n",
    "코드 복사\n",
    "색상: [\"Red\", \"Green\", \"Blue\", \"Green\", \"Red\"]\n",
    "이 데이터를 원-핫 인코딩하면 다음과 같습니다:\n",
    "\n",
    "css\n",
    "코드 복사\n",
    "Red    -> [1, 0, 0]\n",
    "Green  -> [0, 1, 0]\n",
    "Blue   -> [0, 0, 1]\n",
    "Green  -> [0, 1, 0]\n",
    "Red    -> [1, 0, 0]\n",
    "원-핫 인코딩은 각 범주를 0과 1로 구성된 벡터로 변환하여, 컴퓨터가 쉽게 처리할 수 있도록 합니다.\n",
    "\n",
    "Pandas에서의 원-핫 인코딩\n",
    "pandas 라이브러리에서는 get_dummies() 함수를 사용하여 범주형 데이터를 쉽게 원-핫 인코딩할 수 있습니다.\n",
    "\n",
    "python\n",
    "코드 복사\n",
    "import pandas as pd\n",
    "\n",
    "# 예제 데이터프레임 생성\n",
    "data = pd.DataFrame({\n",
    "    'Color': ['Red', 'Green', 'Blue', 'Green', 'Red']\n",
    "})\n",
    "\n",
    "# 원-핫 인코딩 적용\n",
    "one_hot_encoded = pd.get_dummies(data['Color'])\n",
    "print(one_hot_encoded)\n",
    "위 코드의 출력은 다음과 같습니다:\n",
    "\n",
    "mathematica\n",
    "코드 복사\n",
    "   Blue  Green  Red\n",
    "0     0      0    1\n",
    "1     0      1    0\n",
    "2     1      0    0\n",
    "3     0      1    0\n",
    "4     0      0    1\n",
    "원-핫 인코딩의 장점\n",
    "모든 범주가 동등하게 취급: 원-핫 인코딩은 각 범주가 서로 독립적이며, 순서가 없다는 가정을 하므로 순서가 중요한 경우에는 문제가 되지 않습니다.\n",
    "모델이 범주형 데이터의 차이를 직접 처리할 수 있음: 숫자형으로 변환된 데이터는 대부분의 머신러닝 모델이 처리할 수 있습니다.\n",
    "원-핫 인코딩의 단점\n",
    "차원이 커질 수 있음: 범주의 수가 많아질수록 벡터의 차원이 커집니다. 예를 들어, 만약 1000개의 범주가 있다면, 각 범주를 인코딩할 때 1000개의 길이를 가진 벡터가 생성되므로 메모리와 계산 성능에 부담이 될 수 있습니다.\n",
    "다중공선성: 원-핫 인코딩된 열들 간의 다중공선성 문제가 발생할 수 있습니다. 이는 선형 회귀와 같은 모델에서는 문제를 일으킬 수 있습니다.\n",
    "결론\n",
    "원-핫 인코딩은 범주형 데이터를 이진 벡터로 변환하여 머신러닝 모델에서 사용할 수 있도록 하는 매우 유용한 방법입니다. 하지만 많은 범주를 가진 데이터에서는 메모리 문제를 고려해야 하므로, 필요에 따라 다른 인코딩 방식(예: 레이블 인코딩)을 사용하는 것이 좋을 수 있습니다.\"\"\""
   ]
  },
  {
   "cell_type": "code",
   "execution_count": 6,
   "id": "5168b2da-85ad-449d-bc3a-514dd20ed923",
   "metadata": {},
   "outputs": [],
   "source": [
    "X = X.values"
   ]
  },
  {
   "cell_type": "code",
   "execution_count": 7,
   "id": "e9d7a554-e03a-41a6-87b6-17cb8b7a2722",
   "metadata": {},
   "outputs": [
    {
     "data": {
      "text/plain": [
       "array([[148.   ,  72.   ,  35.   , ...,  33.6  ,   0.627,  50.   ],\n",
       "       [ 85.   ,  66.   ,  29.   , ...,  26.6  ,   0.351,  31.   ],\n",
       "       [183.   ,  64.   ,   0.   , ...,  23.3  ,   0.672,  32.   ],\n",
       "       ...,\n",
       "       [121.   ,  72.   ,  23.   , ...,  26.2  ,   0.245,  30.   ],\n",
       "       [126.   ,  60.   ,   0.   , ...,  30.1  ,   0.349,  47.   ],\n",
       "       [ 93.   ,  70.   ,  31.   , ...,  30.4  ,   0.315,  23.   ]])"
      ]
     },
     "execution_count": 7,
     "metadata": {},
     "output_type": "execute_result"
    }
   ],
   "source": [
    "\n",
    "X"
   ]
  },
  {
   "cell_type": "code",
   "execution_count": 8,
   "id": "0e38b789-dd9a-49ee-9e82-5caec7f70ffb",
   "metadata": {},
   "outputs": [
    {
     "data": {
      "text/plain": [
       "Pregnancies\n",
       "6     1\n",
       "1     0\n",
       "8     1\n",
       "1     0\n",
       "0     1\n",
       "     ..\n",
       "10    0\n",
       "2     0\n",
       "5     0\n",
       "1     1\n",
       "1     0\n",
       "Name: Outcome, Length: 768, dtype: int64"
      ]
     },
     "execution_count": 8,
     "metadata": {},
     "output_type": "execute_result"
    }
   ],
   "source": [
    "\n",
    "y"
   ]
  },
  {
   "cell_type": "code",
   "execution_count": 9,
   "id": "343c692d-3e8c-458b-8204-946866dfef96",
   "metadata": {},
   "outputs": [
    {
     "data": {
      "text/plain": [
       "array([[0, 1],\n",
       "       [1, 0],\n",
       "       [0, 1],\n",
       "       ...,\n",
       "       [1, 0],\n",
       "       [0, 1],\n",
       "       [1, 0]], dtype=uint8)"
      ]
     },
     "execution_count": 9,
     "metadata": {},
     "output_type": "execute_result"
    }
   ],
   "source": [
    "\n",
    "Y"
   ]
  },
  {
   "cell_type": "code",
   "execution_count": 10,
   "id": "c6dc604b-834b-4876-aff0-1d85add12548",
   "metadata": {},
   "outputs": [],
   "source": [
    "\n",
    "from sklearn.model_selection import train_test_split\n",
    "X_train,X_test, y_train,y_test = train_test_split(X,Y,test_size=0.2,random_state=0)"
   ]
  },
  {
   "cell_type": "code",
   "execution_count": 11,
   "id": "971e2cd1-f969-43a3-b819-fc9b7a48aee5",
   "metadata": {},
   "outputs": [
    {
     "name": "stdout",
     "output_type": "stream",
     "text": [
      "(614, 7)\n"
     ]
    }
   ],
   "source": [
    "print(X_train.shape)"
   ]
  },
  {
   "cell_type": "code",
   "execution_count": 12,
   "id": "a60376f2-67f0-4d67-acb1-f8a90b6d11df",
   "metadata": {},
   "outputs": [
    {
     "name": "stdout",
     "output_type": "stream",
     "text": [
      "Model: \"sequential\"\n",
      "_________________________________________________________________\n",
      " Layer (type)                Output Shape              Param #   \n",
      "=================================================================\n",
      " dense (Dense)               (None, 10)                80        \n",
      "                                                                 \n",
      " dense_1 (Dense)             (None, 8)                 88        \n",
      "                                                                 \n",
      " dense_2 (Dense)             (None, 8)                 72        \n",
      "                                                                 \n",
      " dense_3 (Dense)             (None, 2)                 18        \n",
      "                                                                 \n",
      "=================================================================\n",
      "Total params: 258\n",
      "Trainable params: 258\n",
      "Non-trainable params: 0\n",
      "_________________________________________________________________\n"
     ]
    }
   ],
   "source": [
    "\n",
    "#Defining the model\n",
    "\n",
    "from keras.models import Sequential\n",
    "from keras.layers import Dense\n",
    "from keras.optimizers import SGD,Adam\n",
    "\n",
    "\n",
    "model = Sequential()\n",
    "\n",
    "model.add(Dense(10,input_shape=(7,),activation='relu'))\n",
    "model.add(Dense(8,activation='relu'))\n",
    "model.add(Dense(8,activation='relu'))\n",
    "model.add(Dense(2,activation='softmax'))\n",
    "\n",
    "model.compile(optimizer='adam',loss='categorical_crossentropy',metrics=['accuracy'])\n",
    "\n",
    "model.summary()"
   ]
  },
  {
   "cell_type": "code",
   "execution_count": 13,
   "id": "fe5655b3-9c12-4bdf-a5b3-d84c2d270bad",
   "metadata": {},
   "outputs": [
    {
     "name": "stdout",
     "output_type": "stream",
     "text": [
      "Epoch 1/30\n",
      "20/20 [==============================] - 1s 14ms/step - loss: 5.6547 - accuracy: 0.4153 - val_loss: 1.7199 - val_accuracy: 0.5779\n",
      "Epoch 2/30\n",
      "20/20 [==============================] - 0s 4ms/step - loss: 1.4608 - accuracy: 0.5733 - val_loss: 0.8622 - val_accuracy: 0.6104\n",
      "Epoch 3/30\n",
      "20/20 [==============================] - 0s 4ms/step - loss: 0.9855 - accuracy: 0.5065 - val_loss: 0.7790 - val_accuracy: 0.5649\n",
      "Epoch 4/30\n",
      "20/20 [==============================] - 0s 4ms/step - loss: 0.9008 - accuracy: 0.5440 - val_loss: 0.7703 - val_accuracy: 0.5390\n",
      "Epoch 5/30\n",
      "20/20 [==============================] - 0s 4ms/step - loss: 0.8469 - accuracy: 0.5456 - val_loss: 0.7499 - val_accuracy: 0.5584\n",
      "Epoch 6/30\n",
      "20/20 [==============================] - 0s 4ms/step - loss: 0.8229 - accuracy: 0.5586 - val_loss: 0.7560 - val_accuracy: 0.5455\n",
      "Epoch 7/30\n",
      "20/20 [==============================] - 0s 4ms/step - loss: 0.7911 - accuracy: 0.5456 - val_loss: 0.7379 - val_accuracy: 0.5844\n",
      "Epoch 8/30\n",
      "20/20 [==============================] - 0s 4ms/step - loss: 0.7696 - accuracy: 0.6010 - val_loss: 0.7267 - val_accuracy: 0.5649\n",
      "Epoch 9/30\n",
      "20/20 [==============================] - 0s 5ms/step - loss: 0.7609 - accuracy: 0.5765 - val_loss: 0.7542 - val_accuracy: 0.6299\n",
      "Epoch 10/30\n",
      "20/20 [==============================] - 0s 4ms/step - loss: 0.7317 - accuracy: 0.5684 - val_loss: 0.7183 - val_accuracy: 0.6039\n",
      "Epoch 11/30\n",
      "20/20 [==============================] - 0s 4ms/step - loss: 0.7076 - accuracy: 0.6205 - val_loss: 0.7291 - val_accuracy: 0.5844\n",
      "Epoch 12/30\n",
      "20/20 [==============================] - 0s 6ms/step - loss: 0.7013 - accuracy: 0.6091 - val_loss: 0.6957 - val_accuracy: 0.6364\n",
      "Epoch 13/30\n",
      "20/20 [==============================] - 0s 4ms/step - loss: 0.7066 - accuracy: 0.6107 - val_loss: 0.7068 - val_accuracy: 0.6364\n",
      "Epoch 14/30\n",
      "20/20 [==============================] - 0s 4ms/step - loss: 0.6854 - accuracy: 0.6287 - val_loss: 0.7027 - val_accuracy: 0.6104\n",
      "Epoch 15/30\n",
      "20/20 [==============================] - 0s 4ms/step - loss: 0.6721 - accuracy: 0.6417 - val_loss: 0.6983 - val_accuracy: 0.6169\n",
      "Epoch 16/30\n",
      "20/20 [==============================] - 0s 4ms/step - loss: 0.6698 - accuracy: 0.6466 - val_loss: 0.6921 - val_accuracy: 0.6169\n",
      "Epoch 17/30\n",
      "20/20 [==============================] - 0s 4ms/step - loss: 0.6709 - accuracy: 0.6287 - val_loss: 0.7007 - val_accuracy: 0.6818\n",
      "Epoch 18/30\n",
      "20/20 [==============================] - 0s 4ms/step - loss: 0.6590 - accuracy: 0.6531 - val_loss: 0.6826 - val_accuracy: 0.6688\n",
      "Epoch 19/30\n",
      "20/20 [==============================] - 0s 4ms/step - loss: 0.6581 - accuracy: 0.6694 - val_loss: 0.6777 - val_accuracy: 0.6688\n",
      "Epoch 20/30\n",
      "20/20 [==============================] - 0s 4ms/step - loss: 0.6675 - accuracy: 0.6515 - val_loss: 0.7214 - val_accuracy: 0.5584\n",
      "Epoch 21/30\n",
      "20/20 [==============================] - 0s 4ms/step - loss: 0.6687 - accuracy: 0.6254 - val_loss: 0.6702 - val_accuracy: 0.6494\n",
      "Epoch 22/30\n",
      "20/20 [==============================] - 0s 3ms/step - loss: 0.6778 - accuracy: 0.6352 - val_loss: 0.6738 - val_accuracy: 0.7013\n",
      "Epoch 23/30\n",
      "20/20 [==============================] - 0s 4ms/step - loss: 0.6664 - accuracy: 0.6482 - val_loss: 0.6837 - val_accuracy: 0.6623\n",
      "Epoch 24/30\n",
      "20/20 [==============================] - 0s 4ms/step - loss: 0.6809 - accuracy: 0.6498 - val_loss: 0.6696 - val_accuracy: 0.6688\n",
      "Epoch 25/30\n",
      "20/20 [==============================] - 0s 4ms/step - loss: 0.6503 - accuracy: 0.6857 - val_loss: 0.6979 - val_accuracy: 0.6299\n",
      "Epoch 26/30\n",
      "20/20 [==============================] - 0s 4ms/step - loss: 0.6369 - accuracy: 0.6726 - val_loss: 0.6601 - val_accuracy: 0.7273\n",
      "Epoch 27/30\n",
      "20/20 [==============================] - 0s 4ms/step - loss: 0.6397 - accuracy: 0.6710 - val_loss: 0.6495 - val_accuracy: 0.6883\n",
      "Epoch 28/30\n",
      "20/20 [==============================] - 0s 4ms/step - loss: 0.6425 - accuracy: 0.6645 - val_loss: 0.6739 - val_accuracy: 0.6299\n",
      "Epoch 29/30\n",
      "20/20 [==============================] - 0s 4ms/step - loss: 0.6113 - accuracy: 0.6971 - val_loss: 0.6392 - val_accuracy: 0.7078\n",
      "Epoch 30/30\n",
      "20/20 [==============================] - 0s 4ms/step - loss: 0.6134 - accuracy: 0.6808 - val_loss: 0.6363 - val_accuracy: 0.7078\n",
      "5/5 [==============================] - 0s 2ms/step\n"
     ]
    }
   ],
   "source": [
    "model_history=model.fit(x=X_train, y=y_train, epochs=30, batch_size=32,validation_data= (X_test,y_test))\n",
    "y_pred = model.predict(X_test)\n",
    "\n",
    "y_test_class = np.argmax(y_test,axis=1)\n",
    "y_pred_class = np.argmax(y_pred,axis=1)"
   ]
  },
  {
   "cell_type": "code",
   "execution_count": 14,
   "id": "6066755a-f47b-4c68-b7fe-229ec7239e37",
   "metadata": {},
   "outputs": [
    {
     "data": {
      "image/png": "[encoded data removed]",
      "text/plain": [
       "<Figure size 640x480 with 1 Axes>"
      ]
     },
     "metadata": {},
     "output_type": "display_data"
    }
   ],
   "source": [
    "import matplotlib.pyplot as plt\n",
    "import seaborn as sns\n",
    "\n",
    "loss =model_history.history['loss']\n",
    "val_loss =model_history.history['val_loss']\n",
    "epochs = range(1, len(loss) + 1)\n",
    "plt.plot(epochs, loss, 'y', label='Training loss')\n",
    "plt.plot(epochs, val_loss, 'r', label='Validation loss')\n",
    "plt.title('Training and validation loss')\n",
    "plt.xlabel('Epochs')\n",
    "plt.ylabel('Loss')\n",
    "plt.legend()\n",
    "plt.show()"
   ]
  },
  {
   "cell_type": "code",
   "execution_count": 15,
   "id": "9339a23f-bf08-46ac-88e4-5fd4c3c6a54a",
   "metadata": {},
   "outputs": [
    {
     "data": {
      "image/png": "[encoded data removed]",
      "text/plain": [
       "<Figure size 640x480 with 1 Axes>"
      ]
     },
     "metadata": {},
     "output_type": "display_data"
    }
   ],
   "source": [
    "acc =model_history.history['accuracy']\n",
    "val_acc =model_history.history['val_accuracy']\n",
    "plt.plot(epochs, acc, 'y', label='Training acc')\n",
    "plt.plot(epochs, val_acc, 'r', label='Validation acc')\n",
    "plt.title('Training and validation accuracy')\n",
    "plt.xlabel('Epochs')\n",
    "plt.ylabel('Accuracy')\n",
    "plt.legend()\n",
    "plt.show()"
   ]
  },
  {
   "cell_type": "code",
   "execution_count": 18,
   "id": "2be33d14-0c34-4df9-90dd-fc5c95b65de7",
   "metadata": {},
   "outputs": [
    {
     "data": {
      "text/plain": [
       "'두 이미지에서 작업하는 데이터는 유사하지만, 작업의 목표가 다르기 때문에 처리 방식이 약간 다릅니다. 각각의 작업은 분류와 회귀에 초점을 두고 있습니다.\\n\\n1. 첫 번째 코드 (분류 문제에 초점)\\n이 코드에서는 당뇨병 여부를 분류하는 작업을 하고 있습니다. 예를 들어, \"당뇨병이 있는지 없는지\"를 예측하는 이진 분류 문제일 가능성이 큽니다. 이때의 목표는 **특성(feature)**을 사용하여 환자가 당뇨병을 앓고 있는지 여부를 예측하는 것입니다.\\n\\ny = df[\\'Outcome\\']: 여기서 Outcome은 당뇨병 여부를 나타내는 레이블일 가능성이 큽니다. 이를 통해 이진 분류 모델에서 사용됩니다.\\nX = df.drop(\\'Outcome\\', axis=1): 데이터셋에서 레이블(즉, Outcome)을 제외한 나머지 특성들을 사용하여 모델을 훈련시킵니다.\\n이 작업은 이진 분류 문제를 다루기 때문에 레이블(예: 당뇨병 여부)이 범주형 데이터이며, 원-핫 인코딩이나 다른 방식으로 이진 분류에 적합하게 변환합니다.\\n\\n2. 두 번째 코드 (회귀 문제에 초점)\\n반면, 두 번째 코드는 회귀 문제를 해결하고 있는 것으로 보입니다. 예를 들어, **BMI(체질량지수)**를 예측하려고 하는 것 같습니다.\\n\\ny = new_df[\\'BMI\\']: 여기서 BMI는 타겟 레이블로, 특정 특성을 사용해 이 값을 예측하는 회귀 문제입니다.\\nX = new_df.drop(\\'BMI\\', axis=1): BMI 값을 제외한 나머지 특성들을 사용하여 모델을 훈련시킵니다.\\n이 작업은 회귀 문제를 다루고 있으며, 예측하려는 값이 연속형 수치 데이터(BMI)이기 때문에 분류 문제와 달리 타겟 값(BMI)이 수치형 데이터를 그대로 사용합니다.\\n\\n주요 차이점\\n분류 문제에서는 이진 또는 다중 클래스 라벨을 예측하는 것이 목표입니다. 따라서 Outcome 같은 범주형 데이터를 타겟으로 사용하며, 필요할 경우 원-핫 인코딩을 적용할 수 있습니다.\\n회귀 문제에서는 연속적인 수치를 예측하는 것이 목표입니다. 예를 들어, BMI 값은 연속된 수치이므로, 이를 타겟으로 직접 사용하여 모델을 학습시킵니다.\\n따라서, 분류 문제와 회귀 문제에 따라 타겟 레이블(y)의 처리 방식이 달라지며, 그에 따른 데이터 준비 과정이 약간씩 다릅니다.'"
      ]
     },
     "execution_count": 18,
     "metadata": {},
     "output_type": "execute_result"
    }
   ],
   "source": [
    "'''두 이미지에서 작업하는 데이터는 유사하지만, 작업의 목표가 다르기 때문에 처리 방식이 약간 다릅니다. 각각의 작업은 분류와 회귀에 초점을 두고 있습니다.\n",
    "\n",
    "1. 첫 번째 코드 (분류 문제에 초점)\n",
    "이 코드에서는 당뇨병 여부를 분류하는 작업을 하고 있습니다. 예를 들어, \"당뇨병이 있는지 없는지\"를 예측하는 이진 분류 문제일 가능성이 큽니다. 이때의 목표는 **특성(feature)**을 사용하여 환자가 당뇨병을 앓고 있는지 여부를 예측하는 것입니다.\n",
    "\n",
    "y = df['Outcome']: 여기서 Outcome은 당뇨병 여부를 나타내는 레이블일 가능성이 큽니다. 이를 통해 이진 분류 모델에서 사용됩니다.\n",
    "X = df.drop('Outcome', axis=1): 데이터셋에서 레이블(즉, Outcome)을 제외한 나머지 특성들을 사용하여 모델을 훈련시킵니다.\n",
    "이 작업은 이진 분류 문제를 다루기 때문에 레이블(예: 당뇨병 여부)이 범주형 데이터이며, 원-핫 인코딩이나 다른 방식으로 이진 분류에 적합하게 변환합니다.\n",
    "\n",
    "2. 두 번째 코드 (회귀 문제에 초점)\n",
    "반면, 두 번째 코드는 회귀 문제를 해결하고 있는 것으로 보입니다. 예를 들어, **BMI(체질량지수)**를 예측하려고 하는 것 같습니다.\n",
    "\n",
    "y = new_df['BMI']: 여기서 BMI는 타겟 레이블로, 특정 특성을 사용해 이 값을 예측하는 회귀 문제입니다.\n",
    "X = new_df.drop('BMI', axis=1): BMI 값을 제외한 나머지 특성들을 사용하여 모델을 훈련시킵니다.\n",
    "이 작업은 회귀 문제를 다루고 있으며, 예측하려는 값이 연속형 수치 데이터(BMI)이기 때문에 분류 문제와 달리 타겟 값(BMI)이 수치형 데이터를 그대로 사용합니다.\n",
    "\n",
    "주요 차이점\n",
    "분류 문제에서는 이진 또는 다중 클래스 라벨을 예측하는 것이 목표입니다. 따라서 Outcome 같은 범주형 데이터를 타겟으로 사용하며, 필요할 경우 원-핫 인코딩을 적용할 수 있습니다.\n",
    "회귀 문제에서는 연속적인 수치를 예측하는 것이 목표입니다. 예를 들어, BMI 값은 연속된 수치이므로, 이를 타겟으로 직접 사용하여 모델을 학습시킵니다.\n",
    "따라서, 분류 문제와 회귀 문제에 따라 타겟 레이블(y)의 처리 방식이 달라지며, 그에 따른 데이터 준비 과정이 약간씩 다릅니다.'''"
   ]
  },
  {
   "cell_type": "code",
   "execution_count": null,
   "id": "ede0b87c",
   "metadata": {},
   "outputs": [],
   "source": []
  }
 ],
 "metadata": {
  "kernelspec": {
   "display_name": "Python 3 (ipykernel)",
   "language": "python",
   "name": "python3"
  },
  "language_info": {
   "codemirror_mode": {
    "name": "ipython",
    "version": 3
   },
   "file_extension": ".py",
   "mimetype": "text/x-python",
   "name": "python",
   "nbconvert_exporter": "python",
   "pygments_lexer": "ipython3",
   "version": "3.9.13"
  }
 },
 "nbformat": 4,
 "nbformat_minor": 5
}
