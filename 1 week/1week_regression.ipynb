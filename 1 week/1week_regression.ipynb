{
 "cells": [
  {
   "cell_type": "code",
   "execution_count": 19,
   "metadata": {
    "id": "fm4_hL9L1K_s"
   },
   "outputs": [],
   "source": [
    "import numpy as np\n",
    "import matplotlib.pyplot as plt\n",
    "import pandas as pd\n"
   ]
  },
  {
   "cell_type": "code",
   "execution_count": 20,
   "metadata": {
    "id": "q83vuWVX2Iie"
   },
   "outputs": [],
   "source": [
    "dataset=pd.read_csv(r\"C:\\Users\\jongmin\\Downloads\\DeepLearning\\data\\diabetes.csv\")\n",
    "x=dataset.iloc[:,[0,1,2,3,4,6,7]]\n",
    "y=dataset.iloc[:,5]"
   ]
  },
  {
   "cell_type": "code",
   "execution_count": 21,
   "metadata": {
    "id": "P4vp4cY33bB5"
   },
   "outputs": [],
   "source": [
    "# test validation split 해주기\n",
    "from sklearn.model_selection import train_test_split\n",
    "x_train,x_test,y_train,y_test = train_test_split(x,y,test_size=0.2,random_state=1)"
   ]
  },
  {
   "cell_type": "code",
   "execution_count": 22,
   "metadata": {
    "id": "Uh9Ah_TG3uuA"
   },
   "outputs": [],
   "source": [
    "# feature scaling\n",
    "from sklearn.preprocessing import StandardScaler\n",
    "sc = StandardScaler()\n",
    "x_train = sc.fit_transform(x_train)\n",
    "x_test = sc.transform(x_test)\n"
   ]
  },
  {
   "cell_type": "markdown",
   "metadata": {
    "id": "XstsZNm139ys"
   },
   "source": [
    "Regression(Random Forest,Decision Tree,Linear Regression)"
   ]
  },
  {
   "cell_type": "code",
   "execution_count": 23,
   "metadata": {
    "id": "lZCpmPR63z3I"
   },
   "outputs": [],
   "source": [
    "from sklearn.ensemble import RandomForestRegressor\n",
    "from sklearn.tree import DecisionTreeRegressor\n",
    "from sklearn.svm import SVR\n",
    "from sklearn.metrics import accuracy_score,confusion_matrix\n",
    "from sklearn.metrics import mean_squared_error\n"
   ]
  },
  {
   "cell_type": "markdown",
   "metadata": {
    "id": "c8Ds5isf4jVu"
   },
   "source": [
    "Random Forest Regression"
   ]
  },
  {
   "cell_type": "code",
   "execution_count": 24,
   "metadata": {
    "colab": {
     "base_uri": "https://localhost:8080/",
     "height": 74
    },
    "id": "z02M02QC4XbO",
    "outputId": "784f4301-93c7-4b18-a7c0-55bcc027d141"
   },
   "outputs": [
    {
     "data": {
      "text/plain": [
       "RandomForestRegressor(n_estimators=10, random_state=0)"
      ]
     },
     "execution_count": 24,
     "metadata": {},
     "output_type": "execute_result"
    }
   ],
   "source": [
    "rfr=RandomForestRegressor(n_estimators=10,random_state=0)\n",
    "rfr.fit(x_train,y_train)"
   ]
  },
  {
   "cell_type": "code",
   "execution_count": 25,
   "metadata": {
    "id": "aCzLRtmh4nI5"
   },
   "outputs": [],
   "source": [
    "y_pred = rfr.predict(x_test)\n"
   ]
  },
  {
   "cell_type": "code",
   "execution_count": 26,
   "metadata": {
    "colab": {
     "base_uri": "https://localhost:8080/"
    },
    "id": "03NlxHmSehw_",
    "outputId": "c246fd28-c1ab-446a-c853-4ab3fda50f04"
   },
   "outputs": [
    {
     "name": "stdout",
     "output_type": "stream",
     "text": [
      "평균제곱근오차 53.863333766233765\n"
     ]
    }
   ],
   "source": [
    "print('평균제곱근오차', mean_squared_error(y_pred, y_test))\n"
   ]
  },
  {
   "cell_type": "markdown",
   "metadata": {
    "id": "VvEwzcgufy0a"
   },
   "source": [
    "Decision *Tree* Regression"
   ]
  },
  {
   "cell_type": "code",
   "execution_count": 27,
   "metadata": {
    "id": "3TQondRTf0HC"
   },
   "outputs": [],
   "source": [
    "dtr=DecisionTreeRegressor()\n",
    "dtr.fit(x_train,y_train)\n",
    "y_pred=dtr.predict(x_test)"
   ]
  },
  {
   "cell_type": "code",
   "execution_count": 28,
   "metadata": {
    "colab": {
     "base_uri": "https://localhost:8080/"
    },
    "id": "mgZnL1xugF2Q",
    "outputId": "e69e0669-0d4d-41d3-ef55-c17305cd805b"
   },
   "outputs": [
    {
     "name": "stdout",
     "output_type": "stream",
     "text": [
      "평균제곱근오차 80.02201298701299\n"
     ]
    }
   ],
   "source": [
    "print('평균제곱근오차', mean_squared_error(y_pred, y_test))\n"
   ]
  },
  {
   "cell_type": "markdown",
   "metadata": {
    "id": "eBOH954-gJKJ"
   },
   "source": [
    "Linear Regression"
   ]
  },
  {
   "cell_type": "code",
   "execution_count": 29,
   "metadata": {
    "id": "dcJPjSBIgQZf"
   },
   "outputs": [],
   "source": [
    "from sklearn.linear_model import LinearRegression\n",
    "\n",
    "Lr=LinearRegression()\n",
    "Lr.fit(x_train,y_train)\n",
    "y_pred=Lr.predict(x_test)"
   ]
  },
  {
   "cell_type": "code",
   "execution_count": 30,
   "metadata": {
    "colab": {
     "base_uri": "https://localhost:8080/"
    },
    "id": "CJO1WiZWgW6h",
    "outputId": "82b82d75-5790-484d-a03d-438aec9daa8b"
   },
   "outputs": [
    {
     "name": "stdout",
     "output_type": "stream",
     "text": [
      "평균제곱근오차 59.22734666529342\n"
     ]
    }
   ],
   "source": [
    "print('평균제곱근오차', mean_squared_error(y_pred, y_test))\n"
   ]
  },
  {
   "cell_type": "markdown",
   "metadata": {
    "id": "aHBfA2RDhZhz"
   },
   "source": [
    "Deep Learning Regression"
   ]
  },
  {
   "cell_type": "code",
   "execution_count": 31,
   "metadata": {
    "colab": {
     "base_uri": "https://localhost:8080/",
     "height": 222
    },
    "id": "SWXilcafhcdC",
    "outputId": "e095ad04-d173-4207-8a14-4477f412ae29"
   },
   "outputs": [
    {
     "name": "stdout",
     "output_type": "stream",
     "text": [
      "Model: \"sequential_4\"\n",
      "_________________________________________________________________\n",
      " Layer (type)                Output Shape              Param #   \n",
      "=================================================================\n",
      " dense_12 (Dense)            (None, 8)                 64        \n",
      "                                                                 \n",
      " dense_13 (Dense)            (None, 8)                 72        \n",
      "                                                                 \n",
      " dense_14 (Dense)            (None, 1)                 9         \n",
      "                                                                 \n",
      "=================================================================\n",
      "Total params: 145\n",
      "Trainable params: 145\n",
      "Non-trainable params: 0\n",
      "_________________________________________________________________\n"
     ]
    }
   ],
   "source": [
    "from tensorflow import keras\n",
    "from tensorflow.keras import layers\n",
    "\n",
    "\n",
    "model=keras.Sequential([\n",
    "    layers.Dense(8,activation=\"tanh\"),\n",
    "    layers.Dense(8,activation=\"tanh\"),\n",
    "    layers.Dense(1)\n",
    "])\n",
    "\n",
    "model.build((None, x_train.shape[1]))  # (None, input_dim)\n",
    "model.summary()\n",
    "\n"
   ]
  },
  {
   "cell_type": "code",
   "execution_count": 32,
   "metadata": {
    "id": "PcFj44h3hsmz"
   },
   "outputs": [],
   "source": [
    "model.compile(optimizer=\"adam\",loss=\"mse\",metrics=[\"mse\"])"
   ]
  },
  {
   "cell_type": "code",
   "execution_count": 33,
   "metadata": {
    "colab": {
     "base_uri": "https://localhost:8080/"
    },
    "id": "LczO-AQ6h-fM",
    "outputId": "de454a59-a912-4243-a8fd-8a1007c24c26"
   },
   "outputs": [
    {
     "name": "stdout",
     "output_type": "stream",
     "text": [
      "Epoch 1/150\n",
      "20/20 [==============================] - 1s 11ms/step - loss: 1069.0498 - mse: 1069.0498 - val_loss: 1129.2887 - val_mse: 1129.2887\n",
      "Epoch 2/150\n",
      "20/20 [==============================] - 0s 3ms/step - loss: 1060.6284 - mse: 1060.6284 - val_loss: 1119.9800 - val_mse: 1119.9800\n",
      "Epoch 3/150\n",
      "20/20 [==============================] - 0s 3ms/step - loss: 1052.0242 - mse: 1052.0242 - val_loss: 1109.9768 - val_mse: 1109.9768\n",
      "Epoch 4/150\n",
      "20/20 [==============================] - 0s 3ms/step - loss: 1042.6377 - mse: 1042.6377 - val_loss: 1098.7988 - val_mse: 1098.7988\n",
      "Epoch 5/150\n",
      "20/20 [==============================] - 0s 3ms/step - loss: 1032.2194 - mse: 1032.2194 - val_loss: 1086.4150 - val_mse: 1086.4150\n",
      "Epoch 6/150\n",
      "20/20 [==============================] - 0s 3ms/step - loss: 1020.3341 - mse: 1020.3341 - val_loss: 1072.4664 - val_mse: 1072.4664\n",
      "Epoch 7/150\n",
      "20/20 [==============================] - 0s 3ms/step - loss: 1006.6086 - mse: 1006.6086 - val_loss: 1056.3917 - val_mse: 1056.3917\n",
      "Epoch 8/150\n",
      "20/20 [==============================] - 0s 3ms/step - loss: 990.8560 - mse: 990.8560 - val_loss: 1038.1956 - val_mse: 1038.1956\n",
      "Epoch 9/150\n",
      "20/20 [==============================] - 0s 3ms/step - loss: 972.7930 - mse: 972.7930 - val_loss: 1017.7149 - val_mse: 1017.7149\n",
      "Epoch 10/150\n",
      "20/20 [==============================] - 0s 4ms/step - loss: 952.3622 - mse: 952.3622 - val_loss: 994.7990 - val_mse: 994.7990\n",
      "Epoch 11/150\n",
      "20/20 [==============================] - 0s 3ms/step - loss: 929.6622 - mse: 929.6622 - val_loss: 970.0417 - val_mse: 970.0417\n",
      "Epoch 12/150\n",
      "20/20 [==============================] - 0s 3ms/step - loss: 904.9404 - mse: 904.9404 - val_loss: 943.7132 - val_mse: 943.7132\n",
      "Epoch 13/150\n",
      "20/20 [==============================] - 0s 3ms/step - loss: 878.4009 - mse: 878.4009 - val_loss: 915.8149 - val_mse: 915.8149\n",
      "Epoch 14/150\n",
      "20/20 [==============================] - 0s 3ms/step - loss: 850.3534 - mse: 850.3534 - val_loss: 887.1115 - val_mse: 887.1115\n",
      "Epoch 15/150\n",
      "20/20 [==============================] - 0s 3ms/step - loss: 821.8419 - mse: 821.8419 - val_loss: 858.3782 - val_mse: 858.3782\n",
      "Epoch 16/150\n",
      "20/20 [==============================] - 0s 3ms/step - loss: 793.3228 - mse: 793.3228 - val_loss: 830.3036 - val_mse: 830.3036\n",
      "Epoch 17/150\n",
      "20/20 [==============================] - 0s 3ms/step - loss: 765.9019 - mse: 765.9019 - val_loss: 803.7871 - val_mse: 803.7871\n",
      "Epoch 18/150\n",
      "20/20 [==============================] - 0s 3ms/step - loss: 739.7584 - mse: 739.7584 - val_loss: 778.7397 - val_mse: 778.7397\n",
      "Epoch 19/150\n",
      "20/20 [==============================] - 0s 3ms/step - loss: 715.1086 - mse: 715.1086 - val_loss: 755.6290 - val_mse: 755.6290\n",
      "Epoch 20/150\n",
      "20/20 [==============================] - 0s 3ms/step - loss: 692.5912 - mse: 692.5912 - val_loss: 734.7073 - val_mse: 734.7073\n",
      "Epoch 21/150\n",
      "20/20 [==============================] - 0s 4ms/step - loss: 672.0057 - mse: 672.0057 - val_loss: 715.6224 - val_mse: 715.6224\n",
      "Epoch 22/150\n",
      "20/20 [==============================] - 0s 4ms/step - loss: 653.2820 - mse: 653.2820 - val_loss: 698.1813 - val_mse: 698.1813\n",
      "Epoch 23/150\n",
      "20/20 [==============================] - 0s 4ms/step - loss: 636.2630 - mse: 636.2630 - val_loss: 682.1347 - val_mse: 682.1347\n",
      "Epoch 24/150\n",
      "20/20 [==============================] - 0s 4ms/step - loss: 620.5515 - mse: 620.5515 - val_loss: 667.2513 - val_mse: 667.2513\n",
      "Epoch 25/150\n",
      "20/20 [==============================] - 0s 3ms/step - loss: 606.2167 - mse: 606.2167 - val_loss: 653.3375 - val_mse: 653.3375\n",
      "Epoch 26/150\n",
      "20/20 [==============================] - 0s 3ms/step - loss: 592.7178 - mse: 592.7178 - val_loss: 640.2125 - val_mse: 640.2125\n",
      "Epoch 27/150\n",
      "20/20 [==============================] - 0s 3ms/step - loss: 580.0305 - mse: 580.0305 - val_loss: 627.8624 - val_mse: 627.8624\n",
      "Epoch 28/150\n",
      "20/20 [==============================] - 0s 3ms/step - loss: 568.1295 - mse: 568.1295 - val_loss: 616.0233 - val_mse: 616.0233\n",
      "Epoch 29/150\n",
      "20/20 [==============================] - 0s 3ms/step - loss: 556.7137 - mse: 556.7137 - val_loss: 604.8332 - val_mse: 604.8332\n",
      "Epoch 30/150\n",
      "20/20 [==============================] - 0s 4ms/step - loss: 545.9386 - mse: 545.9386 - val_loss: 593.8860 - val_mse: 593.8860\n",
      "Epoch 31/150\n",
      "20/20 [==============================] - 0s 4ms/step - loss: 535.5371 - mse: 535.5371 - val_loss: 583.4540 - val_mse: 583.4540\n",
      "Epoch 32/150\n",
      "20/20 [==============================] - 0s 4ms/step - loss: 525.5186 - mse: 525.5186 - val_loss: 573.5786 - val_mse: 573.5786\n",
      "Epoch 33/150\n",
      "20/20 [==============================] - 0s 4ms/step - loss: 515.9873 - mse: 515.9873 - val_loss: 563.8640 - val_mse: 563.8640\n",
      "Epoch 34/150\n",
      "20/20 [==============================] - 0s 4ms/step - loss: 506.6755 - mse: 506.6755 - val_loss: 554.4914 - val_mse: 554.4914\n",
      "Epoch 35/150\n",
      "20/20 [==============================] - 0s 4ms/step - loss: 497.7278 - mse: 497.7278 - val_loss: 545.4431 - val_mse: 545.4431\n",
      "Epoch 36/150\n",
      "20/20 [==============================] - 0s 4ms/step - loss: 489.0232 - mse: 489.0232 - val_loss: 536.6206 - val_mse: 536.6206\n",
      "Epoch 37/150\n",
      "20/20 [==============================] - 0s 4ms/step - loss: 480.6307 - mse: 480.6307 - val_loss: 527.9380 - val_mse: 527.9380\n",
      "Epoch 38/150\n",
      "20/20 [==============================] - 0s 4ms/step - loss: 472.2968 - mse: 472.2968 - val_loss: 519.4921 - val_mse: 519.4921\n",
      "Epoch 39/150\n",
      "20/20 [==============================] - 0s 4ms/step - loss: 464.2266 - mse: 464.2266 - val_loss: 511.3474 - val_mse: 511.3474\n",
      "Epoch 40/150\n",
      "20/20 [==============================] - 0s 4ms/step - loss: 456.4156 - mse: 456.4156 - val_loss: 503.3571 - val_mse: 503.3571\n",
      "Epoch 41/150\n",
      "20/20 [==============================] - 0s 5ms/step - loss: 448.7913 - mse: 448.7913 - val_loss: 495.5014 - val_mse: 495.5014\n",
      "Epoch 42/150\n",
      "20/20 [==============================] - 0s 4ms/step - loss: 441.3143 - mse: 441.3143 - val_loss: 487.8205 - val_mse: 487.8205\n",
      "Epoch 43/150\n",
      "20/20 [==============================] - 0s 4ms/step - loss: 433.9456 - mse: 433.9456 - val_loss: 480.3034 - val_mse: 480.3034\n",
      "Epoch 44/150\n",
      "20/20 [==============================] - 0s 4ms/step - loss: 426.8167 - mse: 426.8167 - val_loss: 472.9348 - val_mse: 472.9348\n",
      "Epoch 45/150\n",
      "20/20 [==============================] - 0s 4ms/step - loss: 419.7783 - mse: 419.7783 - val_loss: 465.8268 - val_mse: 465.8268\n",
      "Epoch 46/150\n",
      "20/20 [==============================] - 0s 4ms/step - loss: 413.0076 - mse: 413.0076 - val_loss: 458.8306 - val_mse: 458.8306\n",
      "Epoch 47/150\n",
      "20/20 [==============================] - 0s 4ms/step - loss: 406.3101 - mse: 406.3101 - val_loss: 451.8802 - val_mse: 451.8802\n",
      "Epoch 48/150\n",
      "20/20 [==============================] - 0s 4ms/step - loss: 399.7023 - mse: 399.7023 - val_loss: 445.1158 - val_mse: 445.1158\n",
      "Epoch 49/150\n",
      "20/20 [==============================] - 0s 4ms/step - loss: 393.2541 - mse: 393.2541 - val_loss: 438.3941 - val_mse: 438.3941\n",
      "Epoch 50/150\n",
      "20/20 [==============================] - 0s 4ms/step - loss: 386.8572 - mse: 386.8572 - val_loss: 431.9075 - val_mse: 431.9075\n",
      "Epoch 51/150\n",
      "20/20 [==============================] - 0s 5ms/step - loss: 380.6695 - mse: 380.6695 - val_loss: 425.3525 - val_mse: 425.3525\n",
      "Epoch 52/150\n",
      "20/20 [==============================] - 0s 4ms/step - loss: 374.4475 - mse: 374.4475 - val_loss: 419.0086 - val_mse: 419.0086\n",
      "Epoch 53/150\n",
      "20/20 [==============================] - 0s 4ms/step - loss: 368.4500 - mse: 368.4500 - val_loss: 412.8320 - val_mse: 412.8320\n",
      "Epoch 54/150\n",
      "20/20 [==============================] - 0s 4ms/step - loss: 362.5501 - mse: 362.5501 - val_loss: 406.7248 - val_mse: 406.7248\n",
      "Epoch 55/150\n",
      "20/20 [==============================] - 0s 3ms/step - loss: 356.7524 - mse: 356.7524 - val_loss: 400.7292 - val_mse: 400.7292\n",
      "Epoch 56/150\n",
      "20/20 [==============================] - 0s 3ms/step - loss: 351.0577 - mse: 351.0577 - val_loss: 394.8264 - val_mse: 394.8264\n",
      "Epoch 57/150\n",
      "20/20 [==============================] - 0s 3ms/step - loss: 345.4200 - mse: 345.4200 - val_loss: 388.9551 - val_mse: 388.9551\n",
      "Epoch 58/150\n",
      "20/20 [==============================] - 0s 3ms/step - loss: 339.8979 - mse: 339.8979 - val_loss: 383.1864 - val_mse: 383.1864\n",
      "Epoch 59/150\n"
     ]
    },
    {
     "name": "stdout",
     "output_type": "stream",
     "text": [
      "20/20 [==============================] - 0s 3ms/step - loss: 334.4300 - mse: 334.4300 - val_loss: 377.5529 - val_mse: 377.5529\n",
      "Epoch 60/150\n",
      "20/20 [==============================] - 0s 3ms/step - loss: 329.1182 - mse: 329.1182 - val_loss: 372.0705 - val_mse: 372.0705\n",
      "Epoch 61/150\n",
      "20/20 [==============================] - 0s 3ms/step - loss: 323.8535 - mse: 323.8535 - val_loss: 366.6290 - val_mse: 366.6290\n",
      "Epoch 62/150\n",
      "20/20 [==============================] - 0s 3ms/step - loss: 318.6936 - mse: 318.6936 - val_loss: 361.2069 - val_mse: 361.2069\n",
      "Epoch 63/150\n",
      "20/20 [==============================] - 0s 3ms/step - loss: 313.6069 - mse: 313.6069 - val_loss: 355.8602 - val_mse: 355.8602\n",
      "Epoch 64/150\n",
      "20/20 [==============================] - 0s 3ms/step - loss: 308.5848 - mse: 308.5848 - val_loss: 350.7812 - val_mse: 350.7812\n",
      "Epoch 65/150\n",
      "20/20 [==============================] - 0s 3ms/step - loss: 303.7420 - mse: 303.7420 - val_loss: 345.6559 - val_mse: 345.6559\n",
      "Epoch 66/150\n",
      "20/20 [==============================] - 0s 3ms/step - loss: 298.9120 - mse: 298.9120 - val_loss: 340.7047 - val_mse: 340.7047\n",
      "Epoch 67/150\n",
      "20/20 [==============================] - 0s 3ms/step - loss: 294.2279 - mse: 294.2279 - val_loss: 335.7905 - val_mse: 335.7905\n",
      "Epoch 68/150\n",
      "20/20 [==============================] - 0s 3ms/step - loss: 289.6104 - mse: 289.6104 - val_loss: 330.9628 - val_mse: 330.9628\n",
      "Epoch 69/150\n",
      "20/20 [==============================] - 0s 3ms/step - loss: 285.0016 - mse: 285.0016 - val_loss: 326.1789 - val_mse: 326.1789\n",
      "Epoch 70/150\n",
      "20/20 [==============================] - 0s 3ms/step - loss: 280.4984 - mse: 280.4984 - val_loss: 321.4950 - val_mse: 321.4950\n",
      "Epoch 71/150\n",
      "20/20 [==============================] - 0s 3ms/step - loss: 276.1088 - mse: 276.1088 - val_loss: 316.8678 - val_mse: 316.8678\n",
      "Epoch 72/150\n",
      "20/20 [==============================] - 0s 3ms/step - loss: 271.7493 - mse: 271.7493 - val_loss: 312.3502 - val_mse: 312.3502\n",
      "Epoch 73/150\n",
      "20/20 [==============================] - 0s 3ms/step - loss: 267.4624 - mse: 267.4624 - val_loss: 307.8124 - val_mse: 307.8124\n",
      "Epoch 74/150\n",
      "20/20 [==============================] - 0s 3ms/step - loss: 263.1867 - mse: 263.1867 - val_loss: 303.3987 - val_mse: 303.3987\n",
      "Epoch 75/150\n",
      "20/20 [==============================] - 0s 3ms/step - loss: 259.0137 - mse: 259.0137 - val_loss: 298.9996 - val_mse: 298.9996\n",
      "Epoch 76/150\n",
      "20/20 [==============================] - 0s 3ms/step - loss: 254.9138 - mse: 254.9138 - val_loss: 294.7409 - val_mse: 294.7409\n",
      "Epoch 77/150\n",
      "20/20 [==============================] - 0s 3ms/step - loss: 250.9172 - mse: 250.9172 - val_loss: 290.5124 - val_mse: 290.5124\n",
      "Epoch 78/150\n",
      "20/20 [==============================] - 0s 3ms/step - loss: 246.8986 - mse: 246.8986 - val_loss: 286.3090 - val_mse: 286.3090\n",
      "Epoch 79/150\n",
      "20/20 [==============================] - 0s 3ms/step - loss: 242.9585 - mse: 242.9585 - val_loss: 282.1086 - val_mse: 282.1086\n",
      "Epoch 80/150\n",
      "20/20 [==============================] - 0s 3ms/step - loss: 239.1185 - mse: 239.1185 - val_loss: 278.1824 - val_mse: 278.1824\n",
      "Epoch 81/150\n",
      "20/20 [==============================] - 0s 3ms/step - loss: 235.3814 - mse: 235.3814 - val_loss: 274.2277 - val_mse: 274.2277\n",
      "Epoch 82/150\n",
      "20/20 [==============================] - 0s 3ms/step - loss: 231.6670 - mse: 231.6670 - val_loss: 270.3653 - val_mse: 270.3653\n",
      "Epoch 83/150\n",
      "20/20 [==============================] - 0s 3ms/step - loss: 228.0233 - mse: 228.0233 - val_loss: 266.4677 - val_mse: 266.4677\n",
      "Epoch 84/150\n",
      "20/20 [==============================] - 0s 4ms/step - loss: 224.4151 - mse: 224.4151 - val_loss: 262.7083 - val_mse: 262.7083\n",
      "Epoch 85/150\n",
      "20/20 [==============================] - 0s 3ms/step - loss: 220.8655 - mse: 220.8655 - val_loss: 258.9707 - val_mse: 258.9707\n",
      "Epoch 86/150\n",
      "20/20 [==============================] - 0s 3ms/step - loss: 217.3822 - mse: 217.3822 - val_loss: 255.2646 - val_mse: 255.2646\n",
      "Epoch 87/150\n",
      "20/20 [==============================] - 0s 4ms/step - loss: 213.9339 - mse: 213.9339 - val_loss: 251.6561 - val_mse: 251.6561\n",
      "Epoch 88/150\n",
      "20/20 [==============================] - 0s 3ms/step - loss: 210.5496 - mse: 210.5496 - val_loss: 248.1403 - val_mse: 248.1403\n",
      "Epoch 89/150\n",
      "20/20 [==============================] - 0s 3ms/step - loss: 207.2389 - mse: 207.2389 - val_loss: 244.5959 - val_mse: 244.5959\n",
      "Epoch 90/150\n",
      "20/20 [==============================] - 0s 3ms/step - loss: 203.9545 - mse: 203.9545 - val_loss: 241.0915 - val_mse: 241.0915\n",
      "Epoch 91/150\n",
      "20/20 [==============================] - 0s 3ms/step - loss: 200.7233 - mse: 200.7233 - val_loss: 237.7279 - val_mse: 237.7279\n",
      "Epoch 92/150\n",
      "20/20 [==============================] - 0s 4ms/step - loss: 197.5840 - mse: 197.5840 - val_loss: 234.3773 - val_mse: 234.3773\n",
      "Epoch 93/150\n",
      "20/20 [==============================] - 0s 4ms/step - loss: 194.4630 - mse: 194.4630 - val_loss: 231.1089 - val_mse: 231.1089\n",
      "Epoch 94/150\n",
      "20/20 [==============================] - 0s 4ms/step - loss: 191.4341 - mse: 191.4341 - val_loss: 227.8759 - val_mse: 227.8759\n",
      "Epoch 95/150\n",
      "20/20 [==============================] - 0s 5ms/step - loss: 188.4267 - mse: 188.4267 - val_loss: 224.7374 - val_mse: 224.7374\n",
      "Epoch 96/150\n",
      "20/20 [==============================] - 0s 5ms/step - loss: 185.5081 - mse: 185.5081 - val_loss: 221.5622 - val_mse: 221.5622\n",
      "Epoch 97/150\n",
      "20/20 [==============================] - 0s 5ms/step - loss: 182.5519 - mse: 182.5519 - val_loss: 218.4192 - val_mse: 218.4192\n",
      "Epoch 98/150\n",
      "20/20 [==============================] - 0s 5ms/step - loss: 179.6743 - mse: 179.6743 - val_loss: 215.3974 - val_mse: 215.3974\n",
      "Epoch 99/150\n",
      "20/20 [==============================] - 0s 4ms/step - loss: 176.8791 - mse: 176.8791 - val_loss: 212.4563 - val_mse: 212.4563\n",
      "Epoch 100/150\n",
      "20/20 [==============================] - 0s 4ms/step - loss: 174.1414 - mse: 174.1414 - val_loss: 209.5080 - val_mse: 209.5080\n",
      "Epoch 101/150\n",
      "20/20 [==============================] - 0s 4ms/step - loss: 171.4256 - mse: 171.4256 - val_loss: 206.6529 - val_mse: 206.6529\n",
      "Epoch 102/150\n",
      "20/20 [==============================] - 0s 4ms/step - loss: 168.7921 - mse: 168.7921 - val_loss: 203.8360 - val_mse: 203.8360\n",
      "Epoch 103/150\n",
      "20/20 [==============================] - 0s 4ms/step - loss: 166.2245 - mse: 166.2245 - val_loss: 201.0649 - val_mse: 201.0649\n",
      "Epoch 104/150\n",
      "20/20 [==============================] - 0s 5ms/step - loss: 163.6681 - mse: 163.6682 - val_loss: 198.3641 - val_mse: 198.3641\n",
      "Epoch 105/150\n",
      "20/20 [==============================] - 0s 4ms/step - loss: 161.1481 - mse: 161.1481 - val_loss: 195.6628 - val_mse: 195.6628\n",
      "Epoch 106/150\n",
      "20/20 [==============================] - 0s 4ms/step - loss: 158.6852 - mse: 158.6852 - val_loss: 193.0518 - val_mse: 193.0518\n",
      "Epoch 107/150\n",
      "20/20 [==============================] - 0s 4ms/step - loss: 156.2768 - mse: 156.2768 - val_loss: 190.4545 - val_mse: 190.4545\n",
      "Epoch 108/150\n",
      "20/20 [==============================] - 0s 5ms/step - loss: 153.8881 - mse: 153.8881 - val_loss: 187.9404 - val_mse: 187.9404\n",
      "Epoch 109/150\n",
      "20/20 [==============================] - 0s 5ms/step - loss: 151.5473 - mse: 151.5473 - val_loss: 185.3817 - val_mse: 185.3817\n",
      "Epoch 110/150\n",
      "20/20 [==============================] - 0s 4ms/step - loss: 149.2585 - mse: 149.2585 - val_loss: 182.9074 - val_mse: 182.9074\n",
      "Epoch 111/150\n",
      "20/20 [==============================] - 0s 4ms/step - loss: 147.0086 - mse: 147.0086 - val_loss: 180.5479 - val_mse: 180.5479\n",
      "Epoch 112/150\n",
      "20/20 [==============================] - 0s 4ms/step - loss: 144.8119 - mse: 144.8119 - val_loss: 178.1901 - val_mse: 178.1901\n",
      "Epoch 113/150\n",
      "20/20 [==============================] - 0s 3ms/step - loss: 142.6267 - mse: 142.6267 - val_loss: 175.8357 - val_mse: 175.8357\n",
      "Epoch 114/150\n",
      "20/20 [==============================] - 0s 3ms/step - loss: 140.4881 - mse: 140.4881 - val_loss: 173.5607 - val_mse: 173.5607\n",
      "Epoch 115/150\n",
      "20/20 [==============================] - 0s 4ms/step - loss: 138.4359 - mse: 138.4359 - val_loss: 171.2589 - val_mse: 171.2589\n",
      "Epoch 116/150\n",
      "20/20 [==============================] - 0s 3ms/step - loss: 136.3803 - mse: 136.3803 - val_loss: 169.1159 - val_mse: 169.1159\n",
      "Epoch 117/150\n"
     ]
    },
    {
     "name": "stdout",
     "output_type": "stream",
     "text": [
      "20/20 [==============================] - 0s 4ms/step - loss: 134.4248 - mse: 134.4248 - val_loss: 166.9693 - val_mse: 166.9693\n",
      "Epoch 118/150\n",
      "20/20 [==============================] - 0s 4ms/step - loss: 132.4611 - mse: 132.4611 - val_loss: 164.8850 - val_mse: 164.8850\n",
      "Epoch 119/150\n",
      "20/20 [==============================] - 0s 4ms/step - loss: 130.5528 - mse: 130.5528 - val_loss: 162.7571 - val_mse: 162.7571\n",
      "Epoch 120/150\n",
      "20/20 [==============================] - 0s 3ms/step - loss: 128.6466 - mse: 128.6466 - val_loss: 160.7428 - val_mse: 160.7428\n",
      "Epoch 121/150\n",
      "20/20 [==============================] - 0s 3ms/step - loss: 126.8093 - mse: 126.8093 - val_loss: 158.7707 - val_mse: 158.7707\n",
      "Epoch 122/150\n",
      "20/20 [==============================] - 0s 3ms/step - loss: 125.0197 - mse: 125.0197 - val_loss: 156.7695 - val_mse: 156.7695\n",
      "Epoch 123/150\n",
      "20/20 [==============================] - 0s 3ms/step - loss: 123.2241 - mse: 123.2241 - val_loss: 154.8593 - val_mse: 154.8593\n",
      "Epoch 124/150\n",
      "20/20 [==============================] - 0s 3ms/step - loss: 121.5094 - mse: 121.5094 - val_loss: 152.9766 - val_mse: 152.9766\n",
      "Epoch 125/150\n",
      "20/20 [==============================] - 0s 4ms/step - loss: 119.7775 - mse: 119.7775 - val_loss: 151.0875 - val_mse: 151.0875\n",
      "Epoch 126/150\n",
      "20/20 [==============================] - 0s 3ms/step - loss: 118.0850 - mse: 118.0850 - val_loss: 149.2271 - val_mse: 149.2271\n",
      "Epoch 127/150\n",
      "20/20 [==============================] - 0s 3ms/step - loss: 116.4234 - mse: 116.4234 - val_loss: 147.4110 - val_mse: 147.4110\n",
      "Epoch 128/150\n",
      "20/20 [==============================] - 0s 3ms/step - loss: 114.8046 - mse: 114.8046 - val_loss: 145.6415 - val_mse: 145.6415\n",
      "Epoch 129/150\n",
      "20/20 [==============================] - 0s 3ms/step - loss: 113.2244 - mse: 113.2244 - val_loss: 143.9382 - val_mse: 143.9382\n",
      "Epoch 130/150\n",
      "20/20 [==============================] - 0s 3ms/step - loss: 111.6916 - mse: 111.6916 - val_loss: 142.2438 - val_mse: 142.2438\n",
      "Epoch 131/150\n",
      "20/20 [==============================] - 0s 3ms/step - loss: 110.1840 - mse: 110.1840 - val_loss: 140.5663 - val_mse: 140.5663\n",
      "Epoch 132/150\n",
      "20/20 [==============================] - 0s 3ms/step - loss: 108.6978 - mse: 108.6978 - val_loss: 138.9909 - val_mse: 138.9909\n",
      "Epoch 133/150\n",
      "20/20 [==============================] - 0s 3ms/step - loss: 107.2668 - mse: 107.2668 - val_loss: 137.3436 - val_mse: 137.3436\n",
      "Epoch 134/150\n",
      "20/20 [==============================] - 0s 3ms/step - loss: 105.8172 - mse: 105.8172 - val_loss: 135.7774 - val_mse: 135.7774\n",
      "Epoch 135/150\n",
      "20/20 [==============================] - 0s 3ms/step - loss: 104.4273 - mse: 104.4273 - val_loss: 134.2417 - val_mse: 134.2417\n",
      "Epoch 136/150\n",
      "20/20 [==============================] - 0s 3ms/step - loss: 103.0747 - mse: 103.0747 - val_loss: 132.7258 - val_mse: 132.7258\n",
      "Epoch 137/150\n",
      "20/20 [==============================] - 0s 3ms/step - loss: 101.7549 - mse: 101.7549 - val_loss: 131.2206 - val_mse: 131.2206\n",
      "Epoch 138/150\n",
      "20/20 [==============================] - 0s 3ms/step - loss: 100.4273 - mse: 100.4273 - val_loss: 129.8098 - val_mse: 129.8098\n",
      "Epoch 139/150\n",
      "20/20 [==============================] - 0s 3ms/step - loss: 99.1429 - mse: 99.1429 - val_loss: 128.4121 - val_mse: 128.4121\n",
      "Epoch 140/150\n",
      "20/20 [==============================] - 0s 3ms/step - loss: 97.9319 - mse: 97.9319 - val_loss: 126.9641 - val_mse: 126.9641\n",
      "Epoch 141/150\n",
      "20/20 [==============================] - 0s 3ms/step - loss: 96.6928 - mse: 96.6928 - val_loss: 125.6468 - val_mse: 125.6468\n",
      "Epoch 142/150\n",
      "20/20 [==============================] - 0s 3ms/step - loss: 95.5382 - mse: 95.5382 - val_loss: 124.3378 - val_mse: 124.3378\n",
      "Epoch 143/150\n",
      "20/20 [==============================] - 0s 3ms/step - loss: 94.4070 - mse: 94.4070 - val_loss: 123.1083 - val_mse: 123.1083\n",
      "Epoch 144/150\n",
      "20/20 [==============================] - 0s 3ms/step - loss: 93.2918 - mse: 93.2918 - val_loss: 121.8314 - val_mse: 121.8314\n",
      "Epoch 145/150\n",
      "20/20 [==============================] - 0s 3ms/step - loss: 92.1996 - mse: 92.1996 - val_loss: 120.6129 - val_mse: 120.6129\n",
      "Epoch 146/150\n",
      "20/20 [==============================] - 0s 3ms/step - loss: 91.1260 - mse: 91.1260 - val_loss: 119.3949 - val_mse: 119.3949\n",
      "Epoch 147/150\n",
      "20/20 [==============================] - 0s 3ms/step - loss: 90.0779 - mse: 90.0779 - val_loss: 118.1764 - val_mse: 118.1764\n",
      "Epoch 148/150\n",
      "20/20 [==============================] - 0s 3ms/step - loss: 89.0323 - mse: 89.0323 - val_loss: 117.0143 - val_mse: 117.0143\n",
      "Epoch 149/150\n",
      "20/20 [==============================] - 0s 3ms/step - loss: 88.0238 - mse: 88.0238 - val_loss: 115.8580 - val_mse: 115.8580\n",
      "Epoch 150/150\n",
      "20/20 [==============================] - 0s 4ms/step - loss: 87.0486 - mse: 87.0486 - val_loss: 114.7447 - val_mse: 114.7447\n"
     ]
    }
   ],
   "source": [
    "history=model.fit(x_train,y_train,epochs=150,batch_size=32,validation_data=(x_test,y_test))"
   ]
  },
  {
   "cell_type": "code",
   "execution_count": 34,
   "metadata": {
    "colab": {
     "base_uri": "https://localhost:8080/",
     "height": 472
    },
    "id": "NbSMl65LiOfh",
    "outputId": "e8e409a6-a5f2-4753-fa46-bf26f56a7323"
   },
   "outputs": [
    {
     "data": {
      "image/png": "[encoded data removed]",
      "text/plain": [
       "<Figure size 640x480 with 1 Axes>"
      ]
     },
     "metadata": {},
     "output_type": "display_data"
    }
   ],
   "source": [
    "history_dict=history.history\n",
    "loss_values=history_dict[\"loss\"]\n",
    "epochs=range(1,len(loss_values)+1)\n",
    "plt.plot(epochs,loss_values,\"b\",label=\"Training loss\")\n",
    "plt.title(\"Training Loss \")\n",
    "plt.xlabel(\"Epochs\")\n",
    "plt.ylabel(\"Loss\")\n",
    "plt.legend()\n",
    "plt.show()"
   ]
  },
  {
   "cell_type": "code",
   "execution_count": 35,
   "metadata": {
    "colab": {
     "base_uri": "https://localhost:8080/"
    },
    "id": "oB51Sj1siVvf",
    "outputId": "0bb84e7d-41aa-449c-d466-627fcf3abe99"
   },
   "outputs": [
    {
     "name": "stdout",
     "output_type": "stream",
     "text": [
      "dict_keys(['loss', 'mse', 'val_loss', 'val_mse'])\n"
     ]
    }
   ],
   "source": [
    "print(history_dict.keys())"
   ]
  },
  {
   "cell_type": "code",
   "execution_count": 36,
   "metadata": {
    "colab": {
     "base_uri": "https://localhost:8080/",
     "height": 619
    },
    "id": "Dq50WtZCib2f",
    "outputId": "c41b06b7-101d-4267-b538-f1c9f45b3a93"
   },
   "outputs": [
    {
     "data": {
      "image/png": "[encoded data removed]",
      "text/plain": [
       "<Figure size 1000x700 with 1 Axes>"
      ]
     },
     "metadata": {},
     "output_type": "display_data"
    }
   ],
   "source": [
    "# loss 체크\n",
    "plt.figure(figsize=(10,7))\n",
    "epochs=range(1,len(loss_values)+1)\n",
    "\n",
    "plt.plot(epochs, history.history['loss'], label='train loss')\n",
    "plt.plot(epochs, history.history['val_loss'], label='test loss')\n",
    "plt.xlabel('Epoch')\n",
    "plt.ylabel('Loss')\n",
    "plt.legend()\n",
    "plt.show()"
   ]
  }
 ],
 "metadata": {
  "colab": {
   "provenance": []
  },
  "kernelspec": {
   "display_name": "Python 3 (ipykernel)",
   "language": "python",
   "name": "python3"
  },
  "language_info": {
   "codemirror_mode": {
    "name": "ipython",
    "version": 3
   },
   "file_extension": ".py",
   "mimetype": "text/x-python",
   "name": "python",
   "nbconvert_exporter": "python",
   "pygments_lexer": "ipython3",
   "version": "3.9.13"
  }
 },
 "nbformat": 4,
 "nbformat_minor": 1
}
