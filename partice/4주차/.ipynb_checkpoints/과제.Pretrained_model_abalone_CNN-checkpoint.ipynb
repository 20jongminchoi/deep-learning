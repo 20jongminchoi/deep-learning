{
 "cells": [
  {
   "cell_type": "markdown",
   "id": "f9cf14a2-abae-4bca-8280-8f86ac260a3e",
   "metadata": {},
   "source": [
    "# 전복 분류 (CNN) & PreTrained Model"
   ]
  },
  {
   "cell_type": "markdown",
   "id": "e0e765ec-a466-4eb2-8e9a-01ad5d631b23",
   "metadata": {},
   "source": [
    "## 1. 데이터 전처리"
   ]
  },
  {
   "cell_type": "code",
   "execution_count": 3,
   "id": "4a70580b-975d-46ad-b0f6-343f86e5390e",
   "metadata": {},
   "outputs": [
    {
     "data": {
      "text/html": [
       "<div>\n",
       "<style scoped>\n",
       "    .dataframe tbody tr th:only-of-type {\n",
       "        vertical-align: middle;\n",
       "    }\n",
       "\n",
       "    .dataframe tbody tr th {\n",
       "        vertical-align: top;\n",
       "    }\n",
       "\n",
       "    .dataframe thead th {\n",
       "        text-align: right;\n",
       "    }\n",
       "</style>\n",
       "<table border=\"1\" class=\"dataframe\">\n",
       "  <thead>\n",
       "    <tr style=\"text-align: right;\">\n",
       "      <th></th>\n",
       "      <th>Sex</th>\n",
       "      <th>Length</th>\n",
       "      <th>Diameter</th>\n",
       "      <th>Height</th>\n",
       "      <th>Whole_weight</th>\n",
       "      <th>Shucked_weight</th>\n",
       "      <th>Viscera_weight</th>\n",
       "      <th>Shell_weight</th>\n",
       "      <th>Rings</th>\n",
       "    </tr>\n",
       "  </thead>\n",
       "  <tbody>\n",
       "    <tr>\n",
       "      <th>0</th>\n",
       "      <td>M</td>\n",
       "      <td>0.455</td>\n",
       "      <td>0.365</td>\n",
       "      <td>0.095</td>\n",
       "      <td>0.5140</td>\n",
       "      <td>0.2245</td>\n",
       "      <td>0.1010</td>\n",
       "      <td>0.1500</td>\n",
       "      <td>15</td>\n",
       "    </tr>\n",
       "    <tr>\n",
       "      <th>1</th>\n",
       "      <td>M</td>\n",
       "      <td>0.350</td>\n",
       "      <td>0.265</td>\n",
       "      <td>0.090</td>\n",
       "      <td>0.2255</td>\n",
       "      <td>0.0995</td>\n",
       "      <td>0.0485</td>\n",
       "      <td>0.0700</td>\n",
       "      <td>7</td>\n",
       "    </tr>\n",
       "    <tr>\n",
       "      <th>2</th>\n",
       "      <td>F</td>\n",
       "      <td>0.530</td>\n",
       "      <td>0.420</td>\n",
       "      <td>0.135</td>\n",
       "      <td>0.6770</td>\n",
       "      <td>0.2565</td>\n",
       "      <td>0.1415</td>\n",
       "      <td>0.2100</td>\n",
       "      <td>9</td>\n",
       "    </tr>\n",
       "    <tr>\n",
       "      <th>3</th>\n",
       "      <td>M</td>\n",
       "      <td>0.440</td>\n",
       "      <td>0.365</td>\n",
       "      <td>0.125</td>\n",
       "      <td>0.5160</td>\n",
       "      <td>0.2155</td>\n",
       "      <td>0.1140</td>\n",
       "      <td>0.1550</td>\n",
       "      <td>10</td>\n",
       "    </tr>\n",
       "    <tr>\n",
       "      <th>4</th>\n",
       "      <td>I</td>\n",
       "      <td>0.330</td>\n",
       "      <td>0.255</td>\n",
       "      <td>0.080</td>\n",
       "      <td>0.2050</td>\n",
       "      <td>0.0895</td>\n",
       "      <td>0.0395</td>\n",
       "      <td>0.0550</td>\n",
       "      <td>7</td>\n",
       "    </tr>\n",
       "    <tr>\n",
       "      <th>...</th>\n",
       "      <td>...</td>\n",
       "      <td>...</td>\n",
       "      <td>...</td>\n",
       "      <td>...</td>\n",
       "      <td>...</td>\n",
       "      <td>...</td>\n",
       "      <td>...</td>\n",
       "      <td>...</td>\n",
       "      <td>...</td>\n",
       "    </tr>\n",
       "    <tr>\n",
       "      <th>4172</th>\n",
       "      <td>F</td>\n",
       "      <td>0.565</td>\n",
       "      <td>0.450</td>\n",
       "      <td>0.165</td>\n",
       "      <td>0.8870</td>\n",
       "      <td>0.3700</td>\n",
       "      <td>0.2390</td>\n",
       "      <td>0.2490</td>\n",
       "      <td>11</td>\n",
       "    </tr>\n",
       "    <tr>\n",
       "      <th>4173</th>\n",
       "      <td>M</td>\n",
       "      <td>0.590</td>\n",
       "      <td>0.440</td>\n",
       "      <td>0.135</td>\n",
       "      <td>0.9660</td>\n",
       "      <td>0.4390</td>\n",
       "      <td>0.2145</td>\n",
       "      <td>0.2605</td>\n",
       "      <td>10</td>\n",
       "    </tr>\n",
       "    <tr>\n",
       "      <th>4174</th>\n",
       "      <td>M</td>\n",
       "      <td>0.600</td>\n",
       "      <td>0.475</td>\n",
       "      <td>0.205</td>\n",
       "      <td>1.1760</td>\n",
       "      <td>0.5255</td>\n",
       "      <td>0.2875</td>\n",
       "      <td>0.3080</td>\n",
       "      <td>9</td>\n",
       "    </tr>\n",
       "    <tr>\n",
       "      <th>4175</th>\n",
       "      <td>F</td>\n",
       "      <td>0.625</td>\n",
       "      <td>0.485</td>\n",
       "      <td>0.150</td>\n",
       "      <td>1.0945</td>\n",
       "      <td>0.5310</td>\n",
       "      <td>0.2610</td>\n",
       "      <td>0.2960</td>\n",
       "      <td>10</td>\n",
       "    </tr>\n",
       "    <tr>\n",
       "      <th>4176</th>\n",
       "      <td>M</td>\n",
       "      <td>0.710</td>\n",
       "      <td>0.555</td>\n",
       "      <td>0.195</td>\n",
       "      <td>1.9485</td>\n",
       "      <td>0.9455</td>\n",
       "      <td>0.3765</td>\n",
       "      <td>0.4950</td>\n",
       "      <td>12</td>\n",
       "    </tr>\n",
       "  </tbody>\n",
       "</table>\n",
       "<p>4177 rows × 9 columns</p>\n",
       "</div>"
      ],
      "text/plain": [
       "     Sex  Length  Diameter  Height  Whole_weight  Shucked_weight  \\\n",
       "0      M   0.455     0.365   0.095        0.5140          0.2245   \n",
       "1      M   0.350     0.265   0.090        0.2255          0.0995   \n",
       "2      F   0.530     0.420   0.135        0.6770          0.2565   \n",
       "3      M   0.440     0.365   0.125        0.5160          0.2155   \n",
       "4      I   0.330     0.255   0.080        0.2050          0.0895   \n",
       "...   ..     ...       ...     ...           ...             ...   \n",
       "4172   F   0.565     0.450   0.165        0.8870          0.3700   \n",
       "4173   M   0.590     0.440   0.135        0.9660          0.4390   \n",
       "4174   M   0.600     0.475   0.205        1.1760          0.5255   \n",
       "4175   F   0.625     0.485   0.150        1.0945          0.5310   \n",
       "4176   M   0.710     0.555   0.195        1.9485          0.9455   \n",
       "\n",
       "      Viscera_weight  Shell_weight  Rings  \n",
       "0             0.1010        0.1500     15  \n",
       "1             0.0485        0.0700      7  \n",
       "2             0.1415        0.2100      9  \n",
       "3             0.1140        0.1550     10  \n",
       "4             0.0395        0.0550      7  \n",
       "...              ...           ...    ...  \n",
       "4172          0.2390        0.2490     11  \n",
       "4173          0.2145        0.2605     10  \n",
       "4174          0.2875        0.3080      9  \n",
       "4175          0.2610        0.2960     10  \n",
       "4176          0.3765        0.4950     12  \n",
       "\n",
       "[4177 rows x 9 columns]"
      ]
     },
     "execution_count": 3,
     "metadata": {},
     "output_type": "execute_result"
    }
   ],
   "source": [
    "import pandas as pd\n",
    "import numpy as np\n",
    "\n",
    "df = pd.read_csv(r\"C:\\Users\\jongmin\\Downloads\\DeepLearning\\data\\abalone.csv\")\n",
    "df=df.drop('id',axis=1)\n",
    "df"
   ]
  },
  {
   "cell_type": "code",
   "execution_count": 4,
   "id": "8ad1193a-b344-4287-a75f-cf3aa24d112c",
   "metadata": {},
   "outputs": [
    {
     "name": "stdout",
     "output_type": "stream",
     "text": [
      "<class 'pandas.core.frame.DataFrame'>\n",
      "RangeIndex: 4177 entries, 0 to 4176\n",
      "Data columns (total 9 columns):\n",
      " #   Column          Non-Null Count  Dtype  \n",
      "---  ------          --------------  -----  \n",
      " 0   Sex             4177 non-null   object \n",
      " 1   Length          4177 non-null   float64\n",
      " 2   Diameter        4177 non-null   float64\n",
      " 3   Height          4177 non-null   float64\n",
      " 4   Whole_weight    4177 non-null   float64\n",
      " 5   Shucked_weight  4177 non-null   float64\n",
      " 6   Viscera_weight  4177 non-null   float64\n",
      " 7   Shell_weight    4177 non-null   float64\n",
      " 8   Rings           4177 non-null   int64  \n",
      "dtypes: float64(7), int64(1), object(1)\n",
      "memory usage: 293.8+ KB\n"
     ]
    }
   ],
   "source": [
    "df.info()\n",
    "# 이상치 없음 확인"
   ]
  },
  {
   "cell_type": "code",
   "execution_count": 5,
   "id": "22f60336-f944-48de-92ae-d97964127ec7",
   "metadata": {},
   "outputs": [
    {
     "data": {
      "text/plain": [
       "array([15,  7,  9, 10,  8, 20, 16, 19, 14, 11, 12, 18, 13,  5,  4,  6, 21,\n",
       "       17, 22,  1,  3, 26, 23, 29,  2, 27, 25, 24], dtype=int64)"
      ]
     },
     "execution_count": 5,
     "metadata": {},
     "output_type": "execute_result"
    }
   ],
   "source": [
    "df['Rings'].unique()\n",
    "# 1살 부터 "
   ]
  },
  {
   "cell_type": "code",
   "execution_count": 6,
   "id": "9b3ba743-fab8-491f-b48b-c05a1a9b86d2",
   "metadata": {},
   "outputs": [
    {
     "data": {
      "text/plain": [
       "9     689\n",
       "10    634\n",
       "8     568\n",
       "11    487\n",
       "7     391\n",
       "12    267\n",
       "6     259\n",
       "13    203\n",
       "14    126\n",
       "5     115\n",
       "15    103\n",
       "16     67\n",
       "17     58\n",
       "4      57\n",
       "18     42\n",
       "19     32\n",
       "20     26\n",
       "3      15\n",
       "21     14\n",
       "23      9\n",
       "22      6\n",
       "27      2\n",
       "24      2\n",
       "1       1\n",
       "26      1\n",
       "29      1\n",
       "2       1\n",
       "25      1\n",
       "Name: Rings, dtype: int64"
      ]
     },
     "execution_count": 6,
     "metadata": {},
     "output_type": "execute_result"
    }
   ],
   "source": [
    "df['Rings'].value_counts()"
   ]
  },
  {
   "cell_type": "markdown",
   "id": "0daa5bd3-aa81-4502-9f9b-73b388c91b13",
   "metadata": {},
   "source": [
    "#### 100개 미만 데이터를 행에서 제거"
   ]
  },
  {
   "cell_type": "code",
   "execution_count": 7,
   "id": "b90eab91-e18c-42e7-bb11-603af978b627",
   "metadata": {},
   "outputs": [],
   "source": [
    "# 각 값의 개수를 계산\n",
    "value_counts = df['Rings'].value_counts()\n",
    "\n",
    "# 100개 이상인 값 필터링\n",
    "to_keep = value_counts[value_counts >= 100].index\n",
    "\n",
    "# 원본 DataFrame에서 해당 값을 가진 행만 남김\n",
    "df = df[df['Rings'].isin(to_keep)]"
   ]
  },
  {
   "cell_type": "code",
   "execution_count": 8,
   "id": "fae9df53-467f-4dcc-86b3-1f032cce937b",
   "metadata": {},
   "outputs": [
    {
     "data": {
      "text/plain": [
       "array([15,  7,  9, 10,  8, 14, 11, 12, 13,  5,  6], dtype=int64)"
      ]
     },
     "execution_count": 8,
     "metadata": {},
     "output_type": "execute_result"
    }
   ],
   "source": [
    "df['Rings'].unique()"
   ]
  },
  {
   "cell_type": "code",
   "execution_count": 9,
   "id": "03970145-9079-42ac-b1b0-ec20d8318687",
   "metadata": {},
   "outputs": [
    {
     "data": {
      "text/plain": [
       "9     689\n",
       "10    634\n",
       "8     568\n",
       "11    487\n",
       "7     391\n",
       "12    267\n",
       "6     259\n",
       "13    203\n",
       "14    126\n",
       "5     115\n",
       "15    103\n",
       "Name: Rings, dtype: int64"
      ]
     },
     "execution_count": 9,
     "metadata": {},
     "output_type": "execute_result"
    }
   ],
   "source": [
    "df['Rings'].value_counts()"
   ]
  },
  {
   "cell_type": "markdown",
   "id": "f2142782-ffcc-4d2d-96cf-bf2778e51ada",
   "metadata": {},
   "source": [
    "#### 전복을 SEX가 아닌 Rings로 분류 하겠음(다중분류)"
   ]
  },
  {
   "cell_type": "code",
   "execution_count": 10,
   "id": "0c2c5b5b-0f00-40f0-9420-b2ffdade61f5",
   "metadata": {},
   "outputs": [
    {
     "name": "stderr",
     "output_type": "stream",
     "text": [
      "C:\\Users\\Public\\Documents\\ESTsoft\\CreatorTemp\\ipykernel_35328\\3461211492.py:5: SettingWithCopyWarning: \n",
      "A value is trying to be set on a copy of a slice from a DataFrame.\n",
      "Try using .loc[row_indexer,col_indexer] = value instead\n",
      "\n",
      "See the caveats in the documentation: https://pandas.pydata.org/pandas-docs/stable/user_guide/indexing.html#returning-a-view-versus-a-copy\n",
      "  df['Rings']=label_encoder.fit_transform(df['Rings'])\n"
     ]
    },
    {
     "data": {
      "text/html": [
       "<div>\n",
       "<style scoped>\n",
       "    .dataframe tbody tr th:only-of-type {\n",
       "        vertical-align: middle;\n",
       "    }\n",
       "\n",
       "    .dataframe tbody tr th {\n",
       "        vertical-align: top;\n",
       "    }\n",
       "\n",
       "    .dataframe thead th {\n",
       "        text-align: right;\n",
       "    }\n",
       "</style>\n",
       "<table border=\"1\" class=\"dataframe\">\n",
       "  <thead>\n",
       "    <tr style=\"text-align: right;\">\n",
       "      <th></th>\n",
       "      <th>Sex</th>\n",
       "      <th>Length</th>\n",
       "      <th>Diameter</th>\n",
       "      <th>Height</th>\n",
       "      <th>Whole_weight</th>\n",
       "      <th>Shucked_weight</th>\n",
       "      <th>Viscera_weight</th>\n",
       "      <th>Shell_weight</th>\n",
       "      <th>Rings</th>\n",
       "    </tr>\n",
       "  </thead>\n",
       "  <tbody>\n",
       "    <tr>\n",
       "      <th>0</th>\n",
       "      <td>M</td>\n",
       "      <td>0.455</td>\n",
       "      <td>0.365</td>\n",
       "      <td>0.095</td>\n",
       "      <td>0.5140</td>\n",
       "      <td>0.2245</td>\n",
       "      <td>0.1010</td>\n",
       "      <td>0.1500</td>\n",
       "      <td>10</td>\n",
       "    </tr>\n",
       "    <tr>\n",
       "      <th>1</th>\n",
       "      <td>M</td>\n",
       "      <td>0.350</td>\n",
       "      <td>0.265</td>\n",
       "      <td>0.090</td>\n",
       "      <td>0.2255</td>\n",
       "      <td>0.0995</td>\n",
       "      <td>0.0485</td>\n",
       "      <td>0.0700</td>\n",
       "      <td>2</td>\n",
       "    </tr>\n",
       "    <tr>\n",
       "      <th>2</th>\n",
       "      <td>F</td>\n",
       "      <td>0.530</td>\n",
       "      <td>0.420</td>\n",
       "      <td>0.135</td>\n",
       "      <td>0.6770</td>\n",
       "      <td>0.2565</td>\n",
       "      <td>0.1415</td>\n",
       "      <td>0.2100</td>\n",
       "      <td>4</td>\n",
       "    </tr>\n",
       "    <tr>\n",
       "      <th>3</th>\n",
       "      <td>M</td>\n",
       "      <td>0.440</td>\n",
       "      <td>0.365</td>\n",
       "      <td>0.125</td>\n",
       "      <td>0.5160</td>\n",
       "      <td>0.2155</td>\n",
       "      <td>0.1140</td>\n",
       "      <td>0.1550</td>\n",
       "      <td>5</td>\n",
       "    </tr>\n",
       "    <tr>\n",
       "      <th>4</th>\n",
       "      <td>I</td>\n",
       "      <td>0.330</td>\n",
       "      <td>0.255</td>\n",
       "      <td>0.080</td>\n",
       "      <td>0.2050</td>\n",
       "      <td>0.0895</td>\n",
       "      <td>0.0395</td>\n",
       "      <td>0.0550</td>\n",
       "      <td>2</td>\n",
       "    </tr>\n",
       "    <tr>\n",
       "      <th>...</th>\n",
       "      <td>...</td>\n",
       "      <td>...</td>\n",
       "      <td>...</td>\n",
       "      <td>...</td>\n",
       "      <td>...</td>\n",
       "      <td>...</td>\n",
       "      <td>...</td>\n",
       "      <td>...</td>\n",
       "      <td>...</td>\n",
       "    </tr>\n",
       "    <tr>\n",
       "      <th>4172</th>\n",
       "      <td>F</td>\n",
       "      <td>0.565</td>\n",
       "      <td>0.450</td>\n",
       "      <td>0.165</td>\n",
       "      <td>0.8870</td>\n",
       "      <td>0.3700</td>\n",
       "      <td>0.2390</td>\n",
       "      <td>0.2490</td>\n",
       "      <td>6</td>\n",
       "    </tr>\n",
       "    <tr>\n",
       "      <th>4173</th>\n",
       "      <td>M</td>\n",
       "      <td>0.590</td>\n",
       "      <td>0.440</td>\n",
       "      <td>0.135</td>\n",
       "      <td>0.9660</td>\n",
       "      <td>0.4390</td>\n",
       "      <td>0.2145</td>\n",
       "      <td>0.2605</td>\n",
       "      <td>5</td>\n",
       "    </tr>\n",
       "    <tr>\n",
       "      <th>4174</th>\n",
       "      <td>M</td>\n",
       "      <td>0.600</td>\n",
       "      <td>0.475</td>\n",
       "      <td>0.205</td>\n",
       "      <td>1.1760</td>\n",
       "      <td>0.5255</td>\n",
       "      <td>0.2875</td>\n",
       "      <td>0.3080</td>\n",
       "      <td>4</td>\n",
       "    </tr>\n",
       "    <tr>\n",
       "      <th>4175</th>\n",
       "      <td>F</td>\n",
       "      <td>0.625</td>\n",
       "      <td>0.485</td>\n",
       "      <td>0.150</td>\n",
       "      <td>1.0945</td>\n",
       "      <td>0.5310</td>\n",
       "      <td>0.2610</td>\n",
       "      <td>0.2960</td>\n",
       "      <td>5</td>\n",
       "    </tr>\n",
       "    <tr>\n",
       "      <th>4176</th>\n",
       "      <td>M</td>\n",
       "      <td>0.710</td>\n",
       "      <td>0.555</td>\n",
       "      <td>0.195</td>\n",
       "      <td>1.9485</td>\n",
       "      <td>0.9455</td>\n",
       "      <td>0.3765</td>\n",
       "      <td>0.4950</td>\n",
       "      <td>7</td>\n",
       "    </tr>\n",
       "  </tbody>\n",
       "</table>\n",
       "<p>3842 rows × 9 columns</p>\n",
       "</div>"
      ],
      "text/plain": [
       "     Sex  Length  Diameter  Height  Whole_weight  Shucked_weight  \\\n",
       "0      M   0.455     0.365   0.095        0.5140          0.2245   \n",
       "1      M   0.350     0.265   0.090        0.2255          0.0995   \n",
       "2      F   0.530     0.420   0.135        0.6770          0.2565   \n",
       "3      M   0.440     0.365   0.125        0.5160          0.2155   \n",
       "4      I   0.330     0.255   0.080        0.2050          0.0895   \n",
       "...   ..     ...       ...     ...           ...             ...   \n",
       "4172   F   0.565     0.450   0.165        0.8870          0.3700   \n",
       "4173   M   0.590     0.440   0.135        0.9660          0.4390   \n",
       "4174   M   0.600     0.475   0.205        1.1760          0.5255   \n",
       "4175   F   0.625     0.485   0.150        1.0945          0.5310   \n",
       "4176   M   0.710     0.555   0.195        1.9485          0.9455   \n",
       "\n",
       "      Viscera_weight  Shell_weight  Rings  \n",
       "0             0.1010        0.1500     10  \n",
       "1             0.0485        0.0700      2  \n",
       "2             0.1415        0.2100      4  \n",
       "3             0.1140        0.1550      5  \n",
       "4             0.0395        0.0550      2  \n",
       "...              ...           ...    ...  \n",
       "4172          0.2390        0.2490      6  \n",
       "4173          0.2145        0.2605      5  \n",
       "4174          0.2875        0.3080      4  \n",
       "4175          0.2610        0.2960      5  \n",
       "4176          0.3765        0.4950      7  \n",
       "\n",
       "[3842 rows x 9 columns]"
      ]
     },
     "execution_count": 10,
     "metadata": {},
     "output_type": "execute_result"
    }
   ],
   "source": [
    "# label Encoder로 rings 변환(다중 클래스)\n",
    "from sklearn.preprocessing import LabelEncoder\n",
    "\n",
    "label_encoder=LabelEncoder()\n",
    "df['Rings']=label_encoder.fit_transform(df['Rings'])\n",
    "df"
   ]
  },
  {
   "cell_type": "code",
   "execution_count": 11,
   "id": "060eba57-ff43-4823-910d-cd29a742f4bb",
   "metadata": {},
   "outputs": [
    {
     "data": {
      "text/plain": [
       "array([10,  2,  4,  5,  3,  9,  6,  7,  8,  0,  1], dtype=int64)"
      ]
     },
     "execution_count": 11,
     "metadata": {},
     "output_type": "execute_result"
    }
   ],
   "source": [
    "df['Rings'].unique()\n",
    "# encoded 확인"
   ]
  },
  {
   "cell_type": "code",
   "execution_count": 12,
   "id": "1e417318-4701-4edb-b1e1-56dd5e980b3a",
   "metadata": {},
   "outputs": [
    {
     "data": {
      "text/html": [
       "<div>\n",
       "<style scoped>\n",
       "    .dataframe tbody tr th:only-of-type {\n",
       "        vertical-align: middle;\n",
       "    }\n",
       "\n",
       "    .dataframe tbody tr th {\n",
       "        vertical-align: top;\n",
       "    }\n",
       "\n",
       "    .dataframe thead th {\n",
       "        text-align: right;\n",
       "    }\n",
       "</style>\n",
       "<table border=\"1\" class=\"dataframe\">\n",
       "  <thead>\n",
       "    <tr style=\"text-align: right;\">\n",
       "      <th></th>\n",
       "      <th>Length</th>\n",
       "      <th>Diameter</th>\n",
       "      <th>Height</th>\n",
       "      <th>Whole_weight</th>\n",
       "      <th>Shucked_weight</th>\n",
       "      <th>Viscera_weight</th>\n",
       "      <th>Shell_weight</th>\n",
       "      <th>Rings</th>\n",
       "      <th>Sex_F</th>\n",
       "      <th>Sex_I</th>\n",
       "      <th>Sex_M</th>\n",
       "    </tr>\n",
       "  </thead>\n",
       "  <tbody>\n",
       "    <tr>\n",
       "      <th>0</th>\n",
       "      <td>0.455</td>\n",
       "      <td>0.365</td>\n",
       "      <td>0.095</td>\n",
       "      <td>0.5140</td>\n",
       "      <td>0.2245</td>\n",
       "      <td>0.1010</td>\n",
       "      <td>0.1500</td>\n",
       "      <td>10</td>\n",
       "      <td>0</td>\n",
       "      <td>0</td>\n",
       "      <td>1</td>\n",
       "    </tr>\n",
       "    <tr>\n",
       "      <th>1</th>\n",
       "      <td>0.350</td>\n",
       "      <td>0.265</td>\n",
       "      <td>0.090</td>\n",
       "      <td>0.2255</td>\n",
       "      <td>0.0995</td>\n",
       "      <td>0.0485</td>\n",
       "      <td>0.0700</td>\n",
       "      <td>2</td>\n",
       "      <td>0</td>\n",
       "      <td>0</td>\n",
       "      <td>1</td>\n",
       "    </tr>\n",
       "    <tr>\n",
       "      <th>2</th>\n",
       "      <td>0.530</td>\n",
       "      <td>0.420</td>\n",
       "      <td>0.135</td>\n",
       "      <td>0.6770</td>\n",
       "      <td>0.2565</td>\n",
       "      <td>0.1415</td>\n",
       "      <td>0.2100</td>\n",
       "      <td>4</td>\n",
       "      <td>1</td>\n",
       "      <td>0</td>\n",
       "      <td>0</td>\n",
       "    </tr>\n",
       "    <tr>\n",
       "      <th>3</th>\n",
       "      <td>0.440</td>\n",
       "      <td>0.365</td>\n",
       "      <td>0.125</td>\n",
       "      <td>0.5160</td>\n",
       "      <td>0.2155</td>\n",
       "      <td>0.1140</td>\n",
       "      <td>0.1550</td>\n",
       "      <td>5</td>\n",
       "      <td>0</td>\n",
       "      <td>0</td>\n",
       "      <td>1</td>\n",
       "    </tr>\n",
       "    <tr>\n",
       "      <th>4</th>\n",
       "      <td>0.330</td>\n",
       "      <td>0.255</td>\n",
       "      <td>0.080</td>\n",
       "      <td>0.2050</td>\n",
       "      <td>0.0895</td>\n",
       "      <td>0.0395</td>\n",
       "      <td>0.0550</td>\n",
       "      <td>2</td>\n",
       "      <td>0</td>\n",
       "      <td>1</td>\n",
       "      <td>0</td>\n",
       "    </tr>\n",
       "    <tr>\n",
       "      <th>...</th>\n",
       "      <td>...</td>\n",
       "      <td>...</td>\n",
       "      <td>...</td>\n",
       "      <td>...</td>\n",
       "      <td>...</td>\n",
       "      <td>...</td>\n",
       "      <td>...</td>\n",
       "      <td>...</td>\n",
       "      <td>...</td>\n",
       "      <td>...</td>\n",
       "      <td>...</td>\n",
       "    </tr>\n",
       "    <tr>\n",
       "      <th>4172</th>\n",
       "      <td>0.565</td>\n",
       "      <td>0.450</td>\n",
       "      <td>0.165</td>\n",
       "      <td>0.8870</td>\n",
       "      <td>0.3700</td>\n",
       "      <td>0.2390</td>\n",
       "      <td>0.2490</td>\n",
       "      <td>6</td>\n",
       "      <td>1</td>\n",
       "      <td>0</td>\n",
       "      <td>0</td>\n",
       "    </tr>\n",
       "    <tr>\n",
       "      <th>4173</th>\n",
       "      <td>0.590</td>\n",
       "      <td>0.440</td>\n",
       "      <td>0.135</td>\n",
       "      <td>0.9660</td>\n",
       "      <td>0.4390</td>\n",
       "      <td>0.2145</td>\n",
       "      <td>0.2605</td>\n",
       "      <td>5</td>\n",
       "      <td>0</td>\n",
       "      <td>0</td>\n",
       "      <td>1</td>\n",
       "    </tr>\n",
       "    <tr>\n",
       "      <th>4174</th>\n",
       "      <td>0.600</td>\n",
       "      <td>0.475</td>\n",
       "      <td>0.205</td>\n",
       "      <td>1.1760</td>\n",
       "      <td>0.5255</td>\n",
       "      <td>0.2875</td>\n",
       "      <td>0.3080</td>\n",
       "      <td>4</td>\n",
       "      <td>0</td>\n",
       "      <td>0</td>\n",
       "      <td>1</td>\n",
       "    </tr>\n",
       "    <tr>\n",
       "      <th>4175</th>\n",
       "      <td>0.625</td>\n",
       "      <td>0.485</td>\n",
       "      <td>0.150</td>\n",
       "      <td>1.0945</td>\n",
       "      <td>0.5310</td>\n",
       "      <td>0.2610</td>\n",
       "      <td>0.2960</td>\n",
       "      <td>5</td>\n",
       "      <td>1</td>\n",
       "      <td>0</td>\n",
       "      <td>0</td>\n",
       "    </tr>\n",
       "    <tr>\n",
       "      <th>4176</th>\n",
       "      <td>0.710</td>\n",
       "      <td>0.555</td>\n",
       "      <td>0.195</td>\n",
       "      <td>1.9485</td>\n",
       "      <td>0.9455</td>\n",
       "      <td>0.3765</td>\n",
       "      <td>0.4950</td>\n",
       "      <td>7</td>\n",
       "      <td>0</td>\n",
       "      <td>0</td>\n",
       "      <td>1</td>\n",
       "    </tr>\n",
       "  </tbody>\n",
       "</table>\n",
       "<p>3842 rows × 11 columns</p>\n",
       "</div>"
      ],
      "text/plain": [
       "      Length  Diameter  Height  Whole_weight  Shucked_weight  Viscera_weight  \\\n",
       "0      0.455     0.365   0.095        0.5140          0.2245          0.1010   \n",
       "1      0.350     0.265   0.090        0.2255          0.0995          0.0485   \n",
       "2      0.530     0.420   0.135        0.6770          0.2565          0.1415   \n",
       "3      0.440     0.365   0.125        0.5160          0.2155          0.1140   \n",
       "4      0.330     0.255   0.080        0.2050          0.0895          0.0395   \n",
       "...      ...       ...     ...           ...             ...             ...   \n",
       "4172   0.565     0.450   0.165        0.8870          0.3700          0.2390   \n",
       "4173   0.590     0.440   0.135        0.9660          0.4390          0.2145   \n",
       "4174   0.600     0.475   0.205        1.1760          0.5255          0.2875   \n",
       "4175   0.625     0.485   0.150        1.0945          0.5310          0.2610   \n",
       "4176   0.710     0.555   0.195        1.9485          0.9455          0.3765   \n",
       "\n",
       "      Shell_weight  Rings  Sex_F  Sex_I  Sex_M  \n",
       "0           0.1500     10      0      0      1  \n",
       "1           0.0700      2      0      0      1  \n",
       "2           0.2100      4      1      0      0  \n",
       "3           0.1550      5      0      0      1  \n",
       "4           0.0550      2      0      1      0  \n",
       "...            ...    ...    ...    ...    ...  \n",
       "4172        0.2490      6      1      0      0  \n",
       "4173        0.2605      5      0      0      1  \n",
       "4174        0.3080      4      0      0      1  \n",
       "4175        0.2960      5      1      0      0  \n",
       "4176        0.4950      7      0      0      1  \n",
       "\n",
       "[3842 rows x 11 columns]"
      ]
     },
     "execution_count": 12,
     "metadata": {},
     "output_type": "execute_result"
    }
   ],
   "source": [
    "# SEX는 순서나 크기가 없는 데이터이기 때문에 원 핫 인코딩 적용\n",
    "df = pd.get_dummies(df, columns = ['Sex'])\n",
    "\n",
    "df"
   ]
  },
  {
   "cell_type": "code",
   "execution_count": 13,
   "id": "6a121e3c-bf93-49fd-a6cf-0b4c87d43078",
   "metadata": {},
   "outputs": [
    {
     "data": {
      "text/plain": [
       "(3842, 11)"
      ]
     },
     "execution_count": 13,
     "metadata": {},
     "output_type": "execute_result"
    }
   ],
   "source": [
    "df.shape"
   ]
  },
  {
   "cell_type": "markdown",
   "id": "cc3db611-a2f0-4158-b482-1b8801c699aa",
   "metadata": {},
   "source": [
    "## 2. train,test 나누기"
   ]
  },
  {
   "cell_type": "code",
   "execution_count": 14,
   "id": "df468c49-5228-4b20-8084-c568815b3133",
   "metadata": {},
   "outputs": [],
   "source": [
    "X=df.drop('Rings', axis=1)\n",
    "Y=df['Rings']"
   ]
  },
  {
   "cell_type": "code",
   "execution_count": 15,
   "id": "1008e0ea-de93-40dd-a7cb-3f1c78b82a85",
   "metadata": {},
   "outputs": [
    {
     "data": {
      "text/html": [
       "<div>\n",
       "<style scoped>\n",
       "    .dataframe tbody tr th:only-of-type {\n",
       "        vertical-align: middle;\n",
       "    }\n",
       "\n",
       "    .dataframe tbody tr th {\n",
       "        vertical-align: top;\n",
       "    }\n",
       "\n",
       "    .dataframe thead th {\n",
       "        text-align: right;\n",
       "    }\n",
       "</style>\n",
       "<table border=\"1\" class=\"dataframe\">\n",
       "  <thead>\n",
       "    <tr style=\"text-align: right;\">\n",
       "      <th></th>\n",
       "      <th>Length</th>\n",
       "      <th>Diameter</th>\n",
       "      <th>Height</th>\n",
       "      <th>Whole_weight</th>\n",
       "      <th>Shucked_weight</th>\n",
       "      <th>Viscera_weight</th>\n",
       "      <th>Shell_weight</th>\n",
       "      <th>Sex_F</th>\n",
       "      <th>Sex_I</th>\n",
       "      <th>Sex_M</th>\n",
       "    </tr>\n",
       "  </thead>\n",
       "  <tbody>\n",
       "    <tr>\n",
       "      <th>0</th>\n",
       "      <td>0.455</td>\n",
       "      <td>0.365</td>\n",
       "      <td>0.095</td>\n",
       "      <td>0.5140</td>\n",
       "      <td>0.2245</td>\n",
       "      <td>0.1010</td>\n",
       "      <td>0.150</td>\n",
       "      <td>0</td>\n",
       "      <td>0</td>\n",
       "      <td>1</td>\n",
       "    </tr>\n",
       "    <tr>\n",
       "      <th>1</th>\n",
       "      <td>0.350</td>\n",
       "      <td>0.265</td>\n",
       "      <td>0.090</td>\n",
       "      <td>0.2255</td>\n",
       "      <td>0.0995</td>\n",
       "      <td>0.0485</td>\n",
       "      <td>0.070</td>\n",
       "      <td>0</td>\n",
       "      <td>0</td>\n",
       "      <td>1</td>\n",
       "    </tr>\n",
       "    <tr>\n",
       "      <th>2</th>\n",
       "      <td>0.530</td>\n",
       "      <td>0.420</td>\n",
       "      <td>0.135</td>\n",
       "      <td>0.6770</td>\n",
       "      <td>0.2565</td>\n",
       "      <td>0.1415</td>\n",
       "      <td>0.210</td>\n",
       "      <td>1</td>\n",
       "      <td>0</td>\n",
       "      <td>0</td>\n",
       "    </tr>\n",
       "    <tr>\n",
       "      <th>3</th>\n",
       "      <td>0.440</td>\n",
       "      <td>0.365</td>\n",
       "      <td>0.125</td>\n",
       "      <td>0.5160</td>\n",
       "      <td>0.2155</td>\n",
       "      <td>0.1140</td>\n",
       "      <td>0.155</td>\n",
       "      <td>0</td>\n",
       "      <td>0</td>\n",
       "      <td>1</td>\n",
       "    </tr>\n",
       "    <tr>\n",
       "      <th>4</th>\n",
       "      <td>0.330</td>\n",
       "      <td>0.255</td>\n",
       "      <td>0.080</td>\n",
       "      <td>0.2050</td>\n",
       "      <td>0.0895</td>\n",
       "      <td>0.0395</td>\n",
       "      <td>0.055</td>\n",
       "      <td>0</td>\n",
       "      <td>1</td>\n",
       "      <td>0</td>\n",
       "    </tr>\n",
       "  </tbody>\n",
       "</table>\n",
       "</div>"
      ],
      "text/plain": [
       "   Length  Diameter  Height  Whole_weight  Shucked_weight  Viscera_weight  \\\n",
       "0   0.455     0.365   0.095        0.5140          0.2245          0.1010   \n",
       "1   0.350     0.265   0.090        0.2255          0.0995          0.0485   \n",
       "2   0.530     0.420   0.135        0.6770          0.2565          0.1415   \n",
       "3   0.440     0.365   0.125        0.5160          0.2155          0.1140   \n",
       "4   0.330     0.255   0.080        0.2050          0.0895          0.0395   \n",
       "\n",
       "   Shell_weight  Sex_F  Sex_I  Sex_M  \n",
       "0         0.150      0      0      1  \n",
       "1         0.070      0      0      1  \n",
       "2         0.210      1      0      0  \n",
       "3         0.155      0      0      1  \n",
       "4         0.055      0      1      0  "
      ]
     },
     "execution_count": 15,
     "metadata": {},
     "output_type": "execute_result"
    }
   ],
   "source": [
    "X.head()"
   ]
  },
  {
   "cell_type": "code",
   "execution_count": 16,
   "id": "b6aa6a72-acdd-4e57-a95e-11db124027b5",
   "metadata": {},
   "outputs": [
    {
     "data": {
      "text/plain": [
       "4     689\n",
       "5     634\n",
       "3     568\n",
       "6     487\n",
       "2     391\n",
       "7     267\n",
       "1     259\n",
       "8     203\n",
       "9     126\n",
       "0     115\n",
       "10    103\n",
       "Name: Rings, dtype: int64"
      ]
     },
     "execution_count": 16,
     "metadata": {},
     "output_type": "execute_result"
    }
   ],
   "source": [
    "Y.value_counts()"
   ]
  },
  {
   "cell_type": "code",
   "execution_count": 17,
   "id": "ebf475e5-5072-464c-a836-72df5754659b",
   "metadata": {},
   "outputs": [],
   "source": [
    "from sklearn.model_selection import train_test_split\n",
    "\n",
    "X_train,X_test,Y_train,Y_test=train_test_split(X,Y,test_size=0.2,random_state=2024)"
   ]
  },
  {
   "cell_type": "code",
   "execution_count": 18,
   "id": "6eeb68bf-bf3c-48b0-9ecd-fa6768bcd53a",
   "metadata": {},
   "outputs": [],
   "source": [
    "\n",
    "from sklearn.preprocessing import StandardScaler\n",
    "ss=StandardScaler()\n",
    "ss.fit(X_train)\n",
    "X_train_scaled=ss.transform(X_train)\n",
    "X_test_scaled=ss.transform(X_test)"
   ]
  },
  {
   "cell_type": "code",
   "execution_count": 19,
   "id": "deb3baae-b5f4-46c4-9ace-f84ad0859a1d",
   "metadata": {},
   "outputs": [
    {
     "data": {
      "text/plain": [
       "(3073, 10)"
      ]
     },
     "execution_count": 19,
     "metadata": {},
     "output_type": "execute_result"
    }
   ],
   "source": [
    "X_train_scaled.shape"
   ]
  },
  {
   "cell_type": "markdown",
   "id": "5dfde87f-f3e4-4b54-a4b8-4aa2a4c4bc51",
   "metadata": {},
   "source": [
    "## 3. CNN 정의"
   ]
  },
  {
   "cell_type": "code",
   "execution_count": 20,
   "id": "54ad3abb-ee26-4664-9b58-3e918afb0266",
   "metadata": {},
   "outputs": [
    {
     "name": "stdout",
     "output_type": "stream",
     "text": [
      "Model: \"sequential\"\n",
      "_________________________________________________________________\n",
      " Layer (type)                Output Shape              Param #   \n",
      "=================================================================\n",
      " conv1d (Conv1D)             (None, 8, 32)             128       \n",
      "                                                                 \n",
      " max_pooling1d (MaxPooling1D  (None, 4, 32)            0         \n",
      " )                                                               \n",
      "                                                                 \n",
      " flatten (Flatten)           (None, 128)               0         \n",
      "                                                                 \n",
      " dense (Dense)               (None, 128)               16512     \n",
      "                                                                 \n",
      " dense_1 (Dense)             (None, 11)                1419      \n",
      "                                                                 \n",
      "=================================================================\n",
      "Total params: 18,059\n",
      "Trainable params: 18,059\n",
      "Non-trainable params: 0\n",
      "_________________________________________________________________\n"
     ]
    }
   ],
   "source": [
    "from tensorflow.keras.models import Sequential\n",
    "from tensorflow.keras.layers import Conv1D, MaxPooling1D, Flatten, Dense, Dropout\n",
    "\n",
    "model = Sequential() # 각 레이어를 순차적으로 쌓는 방식의 모델 구성\n",
    "# label이 rings1개이기 때문에 conv1d사용\n",
    "model.add(Conv1D(32,kernel_size=3,activation='relu',input_shape=(10,1))) #input_shape을 데이터 특성에 맞추기\n",
    "model.add(MaxPooling1D(pool_size=2))\n",
    "model.add(Flatten())\n",
    "model.add(Dense(128,activation='relu'))\n",
    "model.add(Dense(11,activation='softmax'))\n",
    "\n",
    "model.compile(optimizer='adam',loss='sparse_categorical_crossentropy',metrics=['accuracy'])\n",
    "\n",
    "model.summary()\n"
   ]
  },
  {
   "cell_type": "code",
   "execution_count": 21,
   "id": "3c09ab76-09f1-4fa9-bf82-c22883d7bb46",
   "metadata": {},
   "outputs": [
    {
     "name": "stdout",
     "output_type": "stream",
     "text": [
      "Epoch 1/100\n",
      "97/97 [==============================] - 1s 5ms/step - loss: 2.0456 - accuracy: 0.2376 - val_loss: 1.8852 - val_accuracy: 0.2744\n",
      "Epoch 2/100\n",
      "97/97 [==============================] - 0s 2ms/step - loss: 1.8860 - accuracy: 0.2773 - val_loss: 1.8626 - val_accuracy: 0.2575\n",
      "Epoch 3/100\n",
      "97/97 [==============================] - 0s 3ms/step - loss: 1.8507 - accuracy: 0.2776 - val_loss: 1.8191 - val_accuracy: 0.2900\n",
      "Epoch 4/100\n",
      "97/97 [==============================] - 0s 3ms/step - loss: 1.8289 - accuracy: 0.2851 - val_loss: 1.8048 - val_accuracy: 0.2679\n",
      "Epoch 5/100\n",
      "97/97 [==============================] - 0s 2ms/step - loss: 1.8042 - accuracy: 0.2958 - val_loss: 1.8008 - val_accuracy: 0.2796\n",
      "Epoch 6/100\n",
      "97/97 [==============================] - 0s 2ms/step - loss: 1.7909 - accuracy: 0.2899 - val_loss: 1.7782 - val_accuracy: 0.2861\n",
      "Epoch 7/100\n",
      "97/97 [==============================] - 0s 3ms/step - loss: 1.7722 - accuracy: 0.3007 - val_loss: 1.7760 - val_accuracy: 0.2757\n",
      "Epoch 8/100\n",
      "97/97 [==============================] - 0s 2ms/step - loss: 1.7633 - accuracy: 0.2991 - val_loss: 1.7788 - val_accuracy: 0.3069\n",
      "Epoch 9/100\n",
      "97/97 [==============================] - 0s 2ms/step - loss: 1.7584 - accuracy: 0.2961 - val_loss: 1.7797 - val_accuracy: 0.2692\n",
      "Epoch 10/100\n",
      "97/97 [==============================] - 0s 3ms/step - loss: 1.7537 - accuracy: 0.3023 - val_loss: 1.7726 - val_accuracy: 0.2705\n",
      "Epoch 11/100\n",
      "97/97 [==============================] - 0s 3ms/step - loss: 1.7465 - accuracy: 0.3137 - val_loss: 1.7750 - val_accuracy: 0.2848\n",
      "Epoch 12/100\n",
      "97/97 [==============================] - 0s 3ms/step - loss: 1.7460 - accuracy: 0.3075 - val_loss: 1.7681 - val_accuracy: 0.2965\n",
      "Epoch 13/100\n",
      "97/97 [==============================] - 0s 3ms/step - loss: 1.7423 - accuracy: 0.3049 - val_loss: 1.7646 - val_accuracy: 0.2796\n",
      "Epoch 14/100\n",
      "97/97 [==============================] - 0s 3ms/step - loss: 1.7352 - accuracy: 0.3140 - val_loss: 1.7596 - val_accuracy: 0.2822\n",
      "Epoch 15/100\n",
      "97/97 [==============================] - 0s 2ms/step - loss: 1.7291 - accuracy: 0.3104 - val_loss: 1.7686 - val_accuracy: 0.2783\n",
      "Epoch 16/100\n",
      "97/97 [==============================] - 0s 2ms/step - loss: 1.7321 - accuracy: 0.3150 - val_loss: 1.7565 - val_accuracy: 0.2913\n",
      "Epoch 17/100\n",
      "97/97 [==============================] - 0s 3ms/step - loss: 1.7246 - accuracy: 0.3173 - val_loss: 1.7568 - val_accuracy: 0.2926\n",
      "Epoch 18/100\n",
      "97/97 [==============================] - 0s 3ms/step - loss: 1.7280 - accuracy: 0.3082 - val_loss: 1.7642 - val_accuracy: 0.2939\n",
      "Epoch 19/100\n",
      "97/97 [==============================] - 0s 3ms/step - loss: 1.7241 - accuracy: 0.3030 - val_loss: 1.7627 - val_accuracy: 0.2796\n",
      "Epoch 20/100\n",
      "97/97 [==============================] - 0s 3ms/step - loss: 1.7187 - accuracy: 0.3144 - val_loss: 1.7484 - val_accuracy: 0.2835\n",
      "Epoch 21/100\n",
      "97/97 [==============================] - 0s 3ms/step - loss: 1.7141 - accuracy: 0.3101 - val_loss: 1.7480 - val_accuracy: 0.2796\n",
      "Epoch 22/100\n",
      "97/97 [==============================] - 0s 3ms/step - loss: 1.7135 - accuracy: 0.3170 - val_loss: 1.7501 - val_accuracy: 0.2861\n",
      "Epoch 23/100\n",
      "97/97 [==============================] - 0s 3ms/step - loss: 1.7107 - accuracy: 0.3183 - val_loss: 1.7529 - val_accuracy: 0.2731\n",
      "Epoch 24/100\n",
      "97/97 [==============================] - 0s 3ms/step - loss: 1.7095 - accuracy: 0.3296 - val_loss: 1.7628 - val_accuracy: 0.2913\n",
      "Epoch 25/100\n",
      "97/97 [==============================] - 0s 3ms/step - loss: 1.7101 - accuracy: 0.3192 - val_loss: 1.7563 - val_accuracy: 0.3004\n",
      "Epoch 26/100\n",
      "97/97 [==============================] - 0s 3ms/step - loss: 1.7164 - accuracy: 0.3212 - val_loss: 1.7627 - val_accuracy: 0.2796\n",
      "Epoch 27/100\n",
      "97/97 [==============================] - 0s 3ms/step - loss: 1.7078 - accuracy: 0.3332 - val_loss: 1.7612 - val_accuracy: 0.2861\n",
      "Epoch 28/100\n",
      "97/97 [==============================] - 0s 2ms/step - loss: 1.7060 - accuracy: 0.3231 - val_loss: 1.7737 - val_accuracy: 0.2744\n",
      "Epoch 29/100\n",
      "97/97 [==============================] - 0s 2ms/step - loss: 1.7017 - accuracy: 0.3157 - val_loss: 1.7582 - val_accuracy: 0.2822\n",
      "Epoch 30/100\n",
      "97/97 [==============================] - 0s 2ms/step - loss: 1.6968 - accuracy: 0.3215 - val_loss: 1.7548 - val_accuracy: 0.2926\n",
      "Epoch 31/100\n",
      "97/97 [==============================] - 0s 2ms/step - loss: 1.6927 - accuracy: 0.3345 - val_loss: 1.7498 - val_accuracy: 0.2822\n",
      "Epoch 32/100\n",
      "97/97 [==============================] - 0s 2ms/step - loss: 1.6923 - accuracy: 0.3397 - val_loss: 1.7627 - val_accuracy: 0.2796\n",
      "Epoch 33/100\n",
      "97/97 [==============================] - 0s 3ms/step - loss: 1.6924 - accuracy: 0.3300 - val_loss: 1.7687 - val_accuracy: 0.2770\n",
      "Epoch 34/100\n",
      "97/97 [==============================] - 0s 3ms/step - loss: 1.6920 - accuracy: 0.3277 - val_loss: 1.7468 - val_accuracy: 0.2848\n",
      "Epoch 35/100\n",
      "97/97 [==============================] - 0s 3ms/step - loss: 1.6918 - accuracy: 0.3283 - val_loss: 1.7558 - val_accuracy: 0.2991\n",
      "Epoch 36/100\n",
      "97/97 [==============================] - 0s 3ms/step - loss: 1.6910 - accuracy: 0.3235 - val_loss: 1.7523 - val_accuracy: 0.2822\n",
      "Epoch 37/100\n",
      "97/97 [==============================] - 0s 3ms/step - loss: 1.6962 - accuracy: 0.3196 - val_loss: 1.7574 - val_accuracy: 0.2809\n",
      "Epoch 38/100\n",
      "97/97 [==============================] - 0s 3ms/step - loss: 1.6904 - accuracy: 0.3319 - val_loss: 1.7474 - val_accuracy: 0.2705\n",
      "Epoch 39/100\n",
      "97/97 [==============================] - 0s 2ms/step - loss: 1.6825 - accuracy: 0.3280 - val_loss: 1.7538 - val_accuracy: 0.2913\n",
      "Epoch 40/100\n",
      "97/97 [==============================] - 0s 3ms/step - loss: 1.6880 - accuracy: 0.3170 - val_loss: 1.7675 - val_accuracy: 0.2666\n",
      "Epoch 41/100\n",
      "97/97 [==============================] - 0s 2ms/step - loss: 1.6878 - accuracy: 0.3264 - val_loss: 1.7589 - val_accuracy: 0.2913\n",
      "Epoch 42/100\n",
      "97/97 [==============================] - 0s 2ms/step - loss: 1.6819 - accuracy: 0.3248 - val_loss: 1.7563 - val_accuracy: 0.2939\n",
      "Epoch 43/100\n",
      "97/97 [==============================] - 0s 3ms/step - loss: 1.6803 - accuracy: 0.3381 - val_loss: 1.7530 - val_accuracy: 0.2718\n",
      "Epoch 44/100\n",
      "97/97 [==============================] - 0s 3ms/step - loss: 1.6778 - accuracy: 0.3277 - val_loss: 1.7616 - val_accuracy: 0.2770\n",
      "Epoch 45/100\n",
      "97/97 [==============================] - 0s 2ms/step - loss: 1.6760 - accuracy: 0.3355 - val_loss: 1.7642 - val_accuracy: 0.2627\n",
      "Epoch 46/100\n",
      "97/97 [==============================] - 0s 2ms/step - loss: 1.6863 - accuracy: 0.3287 - val_loss: 1.7577 - val_accuracy: 0.2887\n",
      "Epoch 47/100\n",
      "97/97 [==============================] - 0s 3ms/step - loss: 1.6865 - accuracy: 0.3319 - val_loss: 1.7689 - val_accuracy: 0.2770\n",
      "Epoch 48/100\n",
      "97/97 [==============================] - 0s 3ms/step - loss: 1.6754 - accuracy: 0.3388 - val_loss: 1.7699 - val_accuracy: 0.2809\n",
      "Epoch 49/100\n",
      "97/97 [==============================] - 0s 2ms/step - loss: 1.6753 - accuracy: 0.3378 - val_loss: 1.7614 - val_accuracy: 0.2874\n",
      "Epoch 50/100\n",
      "97/97 [==============================] - 0s 3ms/step - loss: 1.6692 - accuracy: 0.3378 - val_loss: 1.7595 - val_accuracy: 0.2939\n",
      "Epoch 51/100\n",
      "97/97 [==============================] - 0s 3ms/step - loss: 1.6673 - accuracy: 0.3381 - val_loss: 1.7558 - val_accuracy: 0.2861\n",
      "Epoch 52/100\n",
      "97/97 [==============================] - 0s 3ms/step - loss: 1.6687 - accuracy: 0.3397 - val_loss: 1.7645 - val_accuracy: 0.2809\n",
      "Epoch 53/100\n",
      "97/97 [==============================] - 0s 3ms/step - loss: 1.6642 - accuracy: 0.3397 - val_loss: 1.7664 - val_accuracy: 0.2653\n",
      "Epoch 54/100\n",
      "97/97 [==============================] - 0s 3ms/step - loss: 1.6679 - accuracy: 0.3384 - val_loss: 1.7716 - val_accuracy: 0.2770\n",
      "Epoch 55/100\n",
      "97/97 [==============================] - 0s 3ms/step - loss: 1.6702 - accuracy: 0.3303 - val_loss: 1.7623 - val_accuracy: 0.2718\n",
      "Epoch 56/100\n",
      "97/97 [==============================] - 0s 2ms/step - loss: 1.6682 - accuracy: 0.3296 - val_loss: 1.7603 - val_accuracy: 0.2822\n",
      "Epoch 57/100\n",
      "97/97 [==============================] - 0s 3ms/step - loss: 1.6614 - accuracy: 0.3397 - val_loss: 1.7622 - val_accuracy: 0.2939\n",
      "Epoch 58/100\n",
      "97/97 [==============================] - 0s 3ms/step - loss: 1.6637 - accuracy: 0.3332 - val_loss: 1.7640 - val_accuracy: 0.2913\n"
     ]
    },
    {
     "name": "stdout",
     "output_type": "stream",
     "text": [
      "Epoch 59/100\n",
      "97/97 [==============================] - 0s 2ms/step - loss: 1.6583 - accuracy: 0.3453 - val_loss: 1.7607 - val_accuracy: 0.2809\n",
      "Epoch 60/100\n",
      "97/97 [==============================] - 0s 2ms/step - loss: 1.6616 - accuracy: 0.3456 - val_loss: 1.7650 - val_accuracy: 0.2822\n",
      "Epoch 61/100\n",
      "97/97 [==============================] - 0s 2ms/step - loss: 1.6567 - accuracy: 0.3440 - val_loss: 1.7692 - val_accuracy: 0.2731\n",
      "Epoch 62/100\n",
      "97/97 [==============================] - 0s 2ms/step - loss: 1.6532 - accuracy: 0.3375 - val_loss: 1.7671 - val_accuracy: 0.2887\n",
      "Epoch 63/100\n",
      "97/97 [==============================] - 0s 2ms/step - loss: 1.6496 - accuracy: 0.3433 - val_loss: 1.7808 - val_accuracy: 0.2744\n",
      "Epoch 64/100\n",
      "97/97 [==============================] - 0s 2ms/step - loss: 1.6508 - accuracy: 0.3436 - val_loss: 1.7692 - val_accuracy: 0.2770\n",
      "Epoch 65/100\n",
      "97/97 [==============================] - 0s 2ms/step - loss: 1.6518 - accuracy: 0.3511 - val_loss: 1.7650 - val_accuracy: 0.2861\n",
      "Epoch 66/100\n",
      "97/97 [==============================] - 0s 2ms/step - loss: 1.6447 - accuracy: 0.3498 - val_loss: 1.7763 - val_accuracy: 0.2887\n",
      "Epoch 67/100\n",
      "97/97 [==============================] - 0s 3ms/step - loss: 1.6457 - accuracy: 0.3459 - val_loss: 1.7828 - val_accuracy: 0.2679\n",
      "Epoch 68/100\n",
      "97/97 [==============================] - 0s 3ms/step - loss: 1.6467 - accuracy: 0.3518 - val_loss: 1.7721 - val_accuracy: 0.2978\n",
      "Epoch 69/100\n",
      "97/97 [==============================] - 0s 3ms/step - loss: 1.6475 - accuracy: 0.3427 - val_loss: 1.7713 - val_accuracy: 0.2978\n",
      "Epoch 70/100\n",
      "97/97 [==============================] - 0s 3ms/step - loss: 1.6424 - accuracy: 0.3472 - val_loss: 1.7762 - val_accuracy: 0.2835\n",
      "Epoch 71/100\n",
      "97/97 [==============================] - 0s 3ms/step - loss: 1.6409 - accuracy: 0.3495 - val_loss: 1.7813 - val_accuracy: 0.2757\n",
      "Epoch 72/100\n",
      "97/97 [==============================] - 0s 3ms/step - loss: 1.6383 - accuracy: 0.3541 - val_loss: 1.7828 - val_accuracy: 0.2926\n",
      "Epoch 73/100\n",
      "97/97 [==============================] - 0s 3ms/step - loss: 1.6382 - accuracy: 0.3466 - val_loss: 1.7772 - val_accuracy: 0.2835\n",
      "Epoch 74/100\n",
      "97/97 [==============================] - 0s 3ms/step - loss: 1.6404 - accuracy: 0.3440 - val_loss: 1.7816 - val_accuracy: 0.2887\n",
      "Epoch 75/100\n",
      "97/97 [==============================] - 0s 2ms/step - loss: 1.6313 - accuracy: 0.3485 - val_loss: 1.7866 - val_accuracy: 0.2731\n",
      "Epoch 76/100\n",
      "97/97 [==============================] - 0s 3ms/step - loss: 1.6406 - accuracy: 0.3524 - val_loss: 1.7785 - val_accuracy: 0.2614\n",
      "Epoch 77/100\n",
      "97/97 [==============================] - 0s 3ms/step - loss: 1.6369 - accuracy: 0.3479 - val_loss: 1.7790 - val_accuracy: 0.2770\n",
      "Epoch 78/100\n",
      "97/97 [==============================] - 0s 2ms/step - loss: 1.6380 - accuracy: 0.3436 - val_loss: 1.7888 - val_accuracy: 0.2770\n",
      "Epoch 79/100\n",
      "97/97 [==============================] - 0s 2ms/step - loss: 1.6327 - accuracy: 0.3531 - val_loss: 1.7877 - val_accuracy: 0.2744\n",
      "Epoch 80/100\n",
      "97/97 [==============================] - 0s 2ms/step - loss: 1.6332 - accuracy: 0.3534 - val_loss: 1.8053 - val_accuracy: 0.2809\n",
      "Epoch 81/100\n",
      "97/97 [==============================] - 0s 2ms/step - loss: 1.6270 - accuracy: 0.3583 - val_loss: 1.7796 - val_accuracy: 0.2848\n",
      "Epoch 82/100\n",
      "97/97 [==============================] - 0s 2ms/step - loss: 1.6250 - accuracy: 0.3583 - val_loss: 1.7869 - val_accuracy: 0.2822\n",
      "Epoch 83/100\n",
      "97/97 [==============================] - 0s 2ms/step - loss: 1.6337 - accuracy: 0.3427 - val_loss: 1.7783 - val_accuracy: 0.2796\n",
      "Epoch 84/100\n",
      "97/97 [==============================] - 0s 3ms/step - loss: 1.6263 - accuracy: 0.3514 - val_loss: 1.7872 - val_accuracy: 0.2822\n",
      "Epoch 85/100\n",
      "97/97 [==============================] - 0s 2ms/step - loss: 1.6230 - accuracy: 0.3557 - val_loss: 1.7896 - val_accuracy: 0.2848\n",
      "Epoch 86/100\n",
      "97/97 [==============================] - 0s 3ms/step - loss: 1.6185 - accuracy: 0.3563 - val_loss: 1.7937 - val_accuracy: 0.2861\n",
      "Epoch 87/100\n",
      "97/97 [==============================] - 0s 3ms/step - loss: 1.6163 - accuracy: 0.3508 - val_loss: 1.7990 - val_accuracy: 0.2848\n",
      "Epoch 88/100\n",
      "97/97 [==============================] - 0s 2ms/step - loss: 1.6187 - accuracy: 0.3550 - val_loss: 1.7865 - val_accuracy: 0.2796\n",
      "Epoch 89/100\n",
      "97/97 [==============================] - 0s 2ms/step - loss: 1.6141 - accuracy: 0.3583 - val_loss: 1.7917 - val_accuracy: 0.2757\n",
      "Epoch 90/100\n",
      "97/97 [==============================] - 0s 2ms/step - loss: 1.6192 - accuracy: 0.3560 - val_loss: 1.7949 - val_accuracy: 0.2887\n",
      "Epoch 91/100\n",
      "97/97 [==============================] - 0s 2ms/step - loss: 1.6129 - accuracy: 0.3567 - val_loss: 1.7997 - val_accuracy: 0.2835\n",
      "Epoch 92/100\n",
      "97/97 [==============================] - 0s 2ms/step - loss: 1.6150 - accuracy: 0.3554 - val_loss: 1.7910 - val_accuracy: 0.2887\n",
      "Epoch 93/100\n",
      "97/97 [==============================] - 0s 2ms/step - loss: 1.6070 - accuracy: 0.3606 - val_loss: 1.7916 - val_accuracy: 0.2757\n",
      "Epoch 94/100\n",
      "97/97 [==============================] - 0s 2ms/step - loss: 1.6183 - accuracy: 0.3570 - val_loss: 1.7897 - val_accuracy: 0.2718\n",
      "Epoch 95/100\n",
      "97/97 [==============================] - 0s 2ms/step - loss: 1.6176 - accuracy: 0.3531 - val_loss: 1.7956 - val_accuracy: 0.2822\n",
      "Epoch 96/100\n",
      "97/97 [==============================] - 0s 2ms/step - loss: 1.6127 - accuracy: 0.3628 - val_loss: 1.8046 - val_accuracy: 0.2783\n",
      "Epoch 97/100\n",
      "97/97 [==============================] - 0s 2ms/step - loss: 1.6069 - accuracy: 0.3667 - val_loss: 1.8059 - val_accuracy: 0.2809\n",
      "Epoch 98/100\n",
      "97/97 [==============================] - 0s 2ms/step - loss: 1.6080 - accuracy: 0.3677 - val_loss: 1.8052 - val_accuracy: 0.2744\n",
      "Epoch 99/100\n",
      "97/97 [==============================] - 0s 2ms/step - loss: 1.6022 - accuracy: 0.3583 - val_loss: 1.8014 - val_accuracy: 0.2614\n",
      "Epoch 100/100\n",
      "97/97 [==============================] - 0s 2ms/step - loss: 1.5994 - accuracy: 0.3680 - val_loss: 1.8023 - val_accuracy: 0.2835\n"
     ]
    }
   ],
   "source": [
    "\n",
    "history = model.fit(X_train_scaled,Y_train,epochs=100,validation_data=(X_test_scaled,Y_test))"
   ]
  },
  {
   "cell_type": "markdown",
   "id": "4a408543-2dd9-4b7b-9a6d-ac50223e4b8d",
   "metadata": {},
   "source": [
    "# Rings label이 11개라서 정확도가 낮음 -> Rings를 low,middle,high 3개의 범주로 묶고 다시 해봄"
   ]
  },
  {
   "cell_type": "markdown",
   "id": "c7c5985f-b2da-494c-9f40-8b77b42173eb",
   "metadata": {},
   "source": [
    "## 1. 데이터 전처리"
   ]
  },
  {
   "cell_type": "code",
   "execution_count": 24,
   "id": "c9a890c5-5862-4ace-a8a5-80c104f20191",
   "metadata": {},
   "outputs": [],
   "source": [
    "import pandas as pd\n",
    "import numpy as np\n",
    "\n",
    "df_n=pd.read_csv(r\"C:\\Users\\jongmin\\Downloads\\DeepLearning\\data\\abalone.csv\")\n",
    "df_n=df_n.drop('id',axis=1)\n"
   ]
  },
  {
   "cell_type": "code",
   "execution_count": 25,
   "id": "dd2c7d36-0550-46e5-8b1c-1da6535f17bf",
   "metadata": {},
   "outputs": [
    {
     "name": "stdout",
     "output_type": "stream",
     "text": [
      "Min ; 1, Max : 29, mean : 9.933684462532918\n"
     ]
    }
   ],
   "source": [
    "# 데이터의 최대 최소 평균 값을 찾아서 데이터가 고르게 나눠질 수 있도록 범위를 조절\n",
    "\n",
    "min=df_n['Rings'].min()\n",
    "max=df_n['Rings'].max()\n",
    "mean = df_n['Rings'].mean()\n",
    "\n",
    "print(f\"Min ; {min}, Max : {max}, mean : {mean}\")"
   ]
  },
  {
   "cell_type": "markdown",
   "id": "a56a3b7c-cd71-4b4a-8fbf-24d15d4efddf",
   "metadata": {},
   "source": [
    "**범주형 데이터를 카테고리화 하기**"
   ]
  },
  {
   "cell_type": "code",
   "execution_count": 26,
   "id": "10796ec3-2e65-4230-bb4b-3fb74abd116e",
   "metadata": {},
   "outputs": [
    {
     "data": {
      "text/html": [
       "<div>\n",
       "<style scoped>\n",
       "    .dataframe tbody tr th:only-of-type {\n",
       "        vertical-align: middle;\n",
       "    }\n",
       "\n",
       "    .dataframe tbody tr th {\n",
       "        vertical-align: top;\n",
       "    }\n",
       "\n",
       "    .dataframe thead th {\n",
       "        text-align: right;\n",
       "    }\n",
       "</style>\n",
       "<table border=\"1\" class=\"dataframe\">\n",
       "  <thead>\n",
       "    <tr style=\"text-align: right;\">\n",
       "      <th></th>\n",
       "      <th>Sex</th>\n",
       "      <th>Length</th>\n",
       "      <th>Diameter</th>\n",
       "      <th>Height</th>\n",
       "      <th>Whole_weight</th>\n",
       "      <th>Shucked_weight</th>\n",
       "      <th>Viscera_weight</th>\n",
       "      <th>Shell_weight</th>\n",
       "      <th>Rings</th>\n",
       "      <th>Level</th>\n",
       "    </tr>\n",
       "  </thead>\n",
       "  <tbody>\n",
       "    <tr>\n",
       "      <th>0</th>\n",
       "      <td>M</td>\n",
       "      <td>0.455</td>\n",
       "      <td>0.365</td>\n",
       "      <td>0.095</td>\n",
       "      <td>0.5140</td>\n",
       "      <td>0.2245</td>\n",
       "      <td>0.1010</td>\n",
       "      <td>0.1500</td>\n",
       "      <td>15</td>\n",
       "      <td>High</td>\n",
       "    </tr>\n",
       "    <tr>\n",
       "      <th>1</th>\n",
       "      <td>M</td>\n",
       "      <td>0.350</td>\n",
       "      <td>0.265</td>\n",
       "      <td>0.090</td>\n",
       "      <td>0.2255</td>\n",
       "      <td>0.0995</td>\n",
       "      <td>0.0485</td>\n",
       "      <td>0.0700</td>\n",
       "      <td>7</td>\n",
       "      <td>Low</td>\n",
       "    </tr>\n",
       "    <tr>\n",
       "      <th>2</th>\n",
       "      <td>F</td>\n",
       "      <td>0.530</td>\n",
       "      <td>0.420</td>\n",
       "      <td>0.135</td>\n",
       "      <td>0.6770</td>\n",
       "      <td>0.2565</td>\n",
       "      <td>0.1415</td>\n",
       "      <td>0.2100</td>\n",
       "      <td>9</td>\n",
       "      <td>Middle</td>\n",
       "    </tr>\n",
       "    <tr>\n",
       "      <th>3</th>\n",
       "      <td>M</td>\n",
       "      <td>0.440</td>\n",
       "      <td>0.365</td>\n",
       "      <td>0.125</td>\n",
       "      <td>0.5160</td>\n",
       "      <td>0.2155</td>\n",
       "      <td>0.1140</td>\n",
       "      <td>0.1550</td>\n",
       "      <td>10</td>\n",
       "      <td>Middle</td>\n",
       "    </tr>\n",
       "    <tr>\n",
       "      <th>4</th>\n",
       "      <td>I</td>\n",
       "      <td>0.330</td>\n",
       "      <td>0.255</td>\n",
       "      <td>0.080</td>\n",
       "      <td>0.2050</td>\n",
       "      <td>0.0895</td>\n",
       "      <td>0.0395</td>\n",
       "      <td>0.0550</td>\n",
       "      <td>7</td>\n",
       "      <td>Low</td>\n",
       "    </tr>\n",
       "    <tr>\n",
       "      <th>...</th>\n",
       "      <td>...</td>\n",
       "      <td>...</td>\n",
       "      <td>...</td>\n",
       "      <td>...</td>\n",
       "      <td>...</td>\n",
       "      <td>...</td>\n",
       "      <td>...</td>\n",
       "      <td>...</td>\n",
       "      <td>...</td>\n",
       "      <td>...</td>\n",
       "    </tr>\n",
       "    <tr>\n",
       "      <th>4172</th>\n",
       "      <td>F</td>\n",
       "      <td>0.565</td>\n",
       "      <td>0.450</td>\n",
       "      <td>0.165</td>\n",
       "      <td>0.8870</td>\n",
       "      <td>0.3700</td>\n",
       "      <td>0.2390</td>\n",
       "      <td>0.2490</td>\n",
       "      <td>11</td>\n",
       "      <td>Middle</td>\n",
       "    </tr>\n",
       "    <tr>\n",
       "      <th>4173</th>\n",
       "      <td>M</td>\n",
       "      <td>0.590</td>\n",
       "      <td>0.440</td>\n",
       "      <td>0.135</td>\n",
       "      <td>0.9660</td>\n",
       "      <td>0.4390</td>\n",
       "      <td>0.2145</td>\n",
       "      <td>0.2605</td>\n",
       "      <td>10</td>\n",
       "      <td>Middle</td>\n",
       "    </tr>\n",
       "    <tr>\n",
       "      <th>4174</th>\n",
       "      <td>M</td>\n",
       "      <td>0.600</td>\n",
       "      <td>0.475</td>\n",
       "      <td>0.205</td>\n",
       "      <td>1.1760</td>\n",
       "      <td>0.5255</td>\n",
       "      <td>0.2875</td>\n",
       "      <td>0.3080</td>\n",
       "      <td>9</td>\n",
       "      <td>Middle</td>\n",
       "    </tr>\n",
       "    <tr>\n",
       "      <th>4175</th>\n",
       "      <td>F</td>\n",
       "      <td>0.625</td>\n",
       "      <td>0.485</td>\n",
       "      <td>0.150</td>\n",
       "      <td>1.0945</td>\n",
       "      <td>0.5310</td>\n",
       "      <td>0.2610</td>\n",
       "      <td>0.2960</td>\n",
       "      <td>10</td>\n",
       "      <td>Middle</td>\n",
       "    </tr>\n",
       "    <tr>\n",
       "      <th>4176</th>\n",
       "      <td>M</td>\n",
       "      <td>0.710</td>\n",
       "      <td>0.555</td>\n",
       "      <td>0.195</td>\n",
       "      <td>1.9485</td>\n",
       "      <td>0.9455</td>\n",
       "      <td>0.3765</td>\n",
       "      <td>0.4950</td>\n",
       "      <td>12</td>\n",
       "      <td>Middle</td>\n",
       "    </tr>\n",
       "  </tbody>\n",
       "</table>\n",
       "<p>4177 rows × 10 columns</p>\n",
       "</div>"
      ],
      "text/plain": [
       "     Sex  Length  Diameter  Height  Whole_weight  Shucked_weight  \\\n",
       "0      M   0.455     0.365   0.095        0.5140          0.2245   \n",
       "1      M   0.350     0.265   0.090        0.2255          0.0995   \n",
       "2      F   0.530     0.420   0.135        0.6770          0.2565   \n",
       "3      M   0.440     0.365   0.125        0.5160          0.2155   \n",
       "4      I   0.330     0.255   0.080        0.2050          0.0895   \n",
       "...   ..     ...       ...     ...           ...             ...   \n",
       "4172   F   0.565     0.450   0.165        0.8870          0.3700   \n",
       "4173   M   0.590     0.440   0.135        0.9660          0.4390   \n",
       "4174   M   0.600     0.475   0.205        1.1760          0.5255   \n",
       "4175   F   0.625     0.485   0.150        1.0945          0.5310   \n",
       "4176   M   0.710     0.555   0.195        1.9485          0.9455   \n",
       "\n",
       "      Viscera_weight  Shell_weight  Rings   Level  \n",
       "0             0.1010        0.1500     15    High  \n",
       "1             0.0485        0.0700      7     Low  \n",
       "2             0.1415        0.2100      9  Middle  \n",
       "3             0.1140        0.1550     10  Middle  \n",
       "4             0.0395        0.0550      7     Low  \n",
       "...              ...           ...    ...     ...  \n",
       "4172          0.2390        0.2490     11  Middle  \n",
       "4173          0.2145        0.2605     10  Middle  \n",
       "4174          0.2875        0.3080      9  Middle  \n",
       "4175          0.2610        0.2960     10  Middle  \n",
       "4176          0.3765        0.4950     12  Middle  \n",
       "\n",
       "[4177 rows x 10 columns]"
      ]
     },
     "execution_count": 26,
     "metadata": {},
     "output_type": "execute_result"
    }
   ],
   "source": [
    "\n",
    "# Rings를 카테고리로 나누기\n",
    "df_n['Level'] = pd.cut(df_n['Rings'], bins=[0, 7, 12, 30], labels=['Low', 'Middle', 'High'])\n",
    "df_n"
   ]
  },
  {
   "cell_type": "code",
   "execution_count": 27,
   "id": "451596ac-d8da-4ade-a56f-f6a084acfe81",
   "metadata": {},
   "outputs": [
    {
     "data": {
      "text/plain": [
       "Middle    2645\n",
       "Low        839\n",
       "High       693\n",
       "Name: Level, dtype: int64"
      ]
     },
     "execution_count": 27,
     "metadata": {},
     "output_type": "execute_result"
    }
   ],
   "source": [
    "df_n['Level'].value_counts()"
   ]
  },
  {
   "cell_type": "code",
   "execution_count": 28,
   "id": "51c32c5c-605a-4a26-8019-de53ea04643f",
   "metadata": {},
   "outputs": [
    {
     "data": {
      "text/plain": [
       "pandas.core.frame.DataFrame"
      ]
     },
     "execution_count": 28,
     "metadata": {},
     "output_type": "execute_result"
    }
   ],
   "source": [
    "type(df_n)"
   ]
  },
  {
   "cell_type": "code",
   "execution_count": 29,
   "id": "c2f2ed59-d930-44bb-bf23-303e42061731",
   "metadata": {},
   "outputs": [],
   "source": [
    "input = df_n.drop(['Level','Rings'],axis=1)\n",
    "target = df_n['Level']"
   ]
  },
  {
   "cell_type": "code",
   "execution_count": 30,
   "id": "94fa3bc2-ed6e-4eeb-8420-43ebf1e23d7d",
   "metadata": {},
   "outputs": [
    {
     "data": {
      "text/plain": [
       "pandas.core.series.Series"
      ]
     },
     "execution_count": 30,
     "metadata": {},
     "output_type": "execute_result"
    }
   ],
   "source": [
    "type(target)"
   ]
  },
  {
   "cell_type": "markdown",
   "id": "654eaa47-eea4-4fbb-aeb4-b5eb0eb7124b",
   "metadata": {},
   "source": [
    "**LabelEncoder**"
   ]
  },
  {
   "cell_type": "code",
   "execution_count": 31,
   "id": "7db56202-5667-4e47-94e5-a19864899dc2",
   "metadata": {},
   "outputs": [],
   "source": [
    "# 커테고리가 순서나 크기가 있는 데이터이기 때문에 labelencoder 적용\n",
    "from sklearn.preprocessing import LabelEncoder\n",
    "\n",
    "le = LabelEncoder()\n",
    "target = le.fit_transform(target)"
   ]
  },
  {
   "cell_type": "code",
   "execution_count": 32,
   "id": "d89ab22a-5ce0-4bdd-8bd1-7f93f90a8ad7",
   "metadata": {},
   "outputs": [
    {
     "name": "stdout",
     "output_type": "stream",
     "text": [
      "(4177,)\n",
      "<class 'numpy.ndarray'>\n"
     ]
    }
   ],
   "source": [
    "print(target.shape)\n",
    "print(type(target)) # sklearn의 클래스가 판다스 데이터 프레임을 자동으로 넘파이 배열로 변환"
   ]
  },
  {
   "cell_type": "markdown",
   "id": "037227a3-4b4e-4926-b311-c5a23c55f032",
   "metadata": {},
   "source": [
    "**OneHot Encoder**"
   ]
  },
  {
   "cell_type": "code",
   "execution_count": 33,
   "id": "44328529-56be-4d27-be14-81fbf8cd4c25",
   "metadata": {
    "scrolled": true
   },
   "outputs": [
    {
     "data": {
      "text/html": [
       "<div>\n",
       "<style scoped>\n",
       "    .dataframe tbody tr th:only-of-type {\n",
       "        vertical-align: middle;\n",
       "    }\n",
       "\n",
       "    .dataframe tbody tr th {\n",
       "        vertical-align: top;\n",
       "    }\n",
       "\n",
       "    .dataframe thead th {\n",
       "        text-align: right;\n",
       "    }\n",
       "</style>\n",
       "<table border=\"1\" class=\"dataframe\">\n",
       "  <thead>\n",
       "    <tr style=\"text-align: right;\">\n",
       "      <th></th>\n",
       "      <th>Length</th>\n",
       "      <th>Diameter</th>\n",
       "      <th>Height</th>\n",
       "      <th>Whole_weight</th>\n",
       "      <th>Shucked_weight</th>\n",
       "      <th>Viscera_weight</th>\n",
       "      <th>Shell_weight</th>\n",
       "      <th>Sex_F</th>\n",
       "      <th>Sex_I</th>\n",
       "      <th>Sex_M</th>\n",
       "    </tr>\n",
       "  </thead>\n",
       "  <tbody>\n",
       "    <tr>\n",
       "      <th>0</th>\n",
       "      <td>0.455</td>\n",
       "      <td>0.365</td>\n",
       "      <td>0.095</td>\n",
       "      <td>0.5140</td>\n",
       "      <td>0.2245</td>\n",
       "      <td>0.1010</td>\n",
       "      <td>0.1500</td>\n",
       "      <td>0</td>\n",
       "      <td>0</td>\n",
       "      <td>1</td>\n",
       "    </tr>\n",
       "    <tr>\n",
       "      <th>1</th>\n",
       "      <td>0.350</td>\n",
       "      <td>0.265</td>\n",
       "      <td>0.090</td>\n",
       "      <td>0.2255</td>\n",
       "      <td>0.0995</td>\n",
       "      <td>0.0485</td>\n",
       "      <td>0.0700</td>\n",
       "      <td>0</td>\n",
       "      <td>0</td>\n",
       "      <td>1</td>\n",
       "    </tr>\n",
       "    <tr>\n",
       "      <th>2</th>\n",
       "      <td>0.530</td>\n",
       "      <td>0.420</td>\n",
       "      <td>0.135</td>\n",
       "      <td>0.6770</td>\n",
       "      <td>0.2565</td>\n",
       "      <td>0.1415</td>\n",
       "      <td>0.2100</td>\n",
       "      <td>1</td>\n",
       "      <td>0</td>\n",
       "      <td>0</td>\n",
       "    </tr>\n",
       "    <tr>\n",
       "      <th>3</th>\n",
       "      <td>0.440</td>\n",
       "      <td>0.365</td>\n",
       "      <td>0.125</td>\n",
       "      <td>0.5160</td>\n",
       "      <td>0.2155</td>\n",
       "      <td>0.1140</td>\n",
       "      <td>0.1550</td>\n",
       "      <td>0</td>\n",
       "      <td>0</td>\n",
       "      <td>1</td>\n",
       "    </tr>\n",
       "    <tr>\n",
       "      <th>4</th>\n",
       "      <td>0.330</td>\n",
       "      <td>0.255</td>\n",
       "      <td>0.080</td>\n",
       "      <td>0.2050</td>\n",
       "      <td>0.0895</td>\n",
       "      <td>0.0395</td>\n",
       "      <td>0.0550</td>\n",
       "      <td>0</td>\n",
       "      <td>1</td>\n",
       "      <td>0</td>\n",
       "    </tr>\n",
       "    <tr>\n",
       "      <th>...</th>\n",
       "      <td>...</td>\n",
       "      <td>...</td>\n",
       "      <td>...</td>\n",
       "      <td>...</td>\n",
       "      <td>...</td>\n",
       "      <td>...</td>\n",
       "      <td>...</td>\n",
       "      <td>...</td>\n",
       "      <td>...</td>\n",
       "      <td>...</td>\n",
       "    </tr>\n",
       "    <tr>\n",
       "      <th>4172</th>\n",
       "      <td>0.565</td>\n",
       "      <td>0.450</td>\n",
       "      <td>0.165</td>\n",
       "      <td>0.8870</td>\n",
       "      <td>0.3700</td>\n",
       "      <td>0.2390</td>\n",
       "      <td>0.2490</td>\n",
       "      <td>1</td>\n",
       "      <td>0</td>\n",
       "      <td>0</td>\n",
       "    </tr>\n",
       "    <tr>\n",
       "      <th>4173</th>\n",
       "      <td>0.590</td>\n",
       "      <td>0.440</td>\n",
       "      <td>0.135</td>\n",
       "      <td>0.9660</td>\n",
       "      <td>0.4390</td>\n",
       "      <td>0.2145</td>\n",
       "      <td>0.2605</td>\n",
       "      <td>0</td>\n",
       "      <td>0</td>\n",
       "      <td>1</td>\n",
       "    </tr>\n",
       "    <tr>\n",
       "      <th>4174</th>\n",
       "      <td>0.600</td>\n",
       "      <td>0.475</td>\n",
       "      <td>0.205</td>\n",
       "      <td>1.1760</td>\n",
       "      <td>0.5255</td>\n",
       "      <td>0.2875</td>\n",
       "      <td>0.3080</td>\n",
       "      <td>0</td>\n",
       "      <td>0</td>\n",
       "      <td>1</td>\n",
       "    </tr>\n",
       "    <tr>\n",
       "      <th>4175</th>\n",
       "      <td>0.625</td>\n",
       "      <td>0.485</td>\n",
       "      <td>0.150</td>\n",
       "      <td>1.0945</td>\n",
       "      <td>0.5310</td>\n",
       "      <td>0.2610</td>\n",
       "      <td>0.2960</td>\n",
       "      <td>1</td>\n",
       "      <td>0</td>\n",
       "      <td>0</td>\n",
       "    </tr>\n",
       "    <tr>\n",
       "      <th>4176</th>\n",
       "      <td>0.710</td>\n",
       "      <td>0.555</td>\n",
       "      <td>0.195</td>\n",
       "      <td>1.9485</td>\n",
       "      <td>0.9455</td>\n",
       "      <td>0.3765</td>\n",
       "      <td>0.4950</td>\n",
       "      <td>0</td>\n",
       "      <td>0</td>\n",
       "      <td>1</td>\n",
       "    </tr>\n",
       "  </tbody>\n",
       "</table>\n",
       "<p>4177 rows × 10 columns</p>\n",
       "</div>"
      ],
      "text/plain": [
       "      Length  Diameter  Height  Whole_weight  Shucked_weight  Viscera_weight  \\\n",
       "0      0.455     0.365   0.095        0.5140          0.2245          0.1010   \n",
       "1      0.350     0.265   0.090        0.2255          0.0995          0.0485   \n",
       "2      0.530     0.420   0.135        0.6770          0.2565          0.1415   \n",
       "3      0.440     0.365   0.125        0.5160          0.2155          0.1140   \n",
       "4      0.330     0.255   0.080        0.2050          0.0895          0.0395   \n",
       "...      ...       ...     ...           ...             ...             ...   \n",
       "4172   0.565     0.450   0.165        0.8870          0.3700          0.2390   \n",
       "4173   0.590     0.440   0.135        0.9660          0.4390          0.2145   \n",
       "4174   0.600     0.475   0.205        1.1760          0.5255          0.2875   \n",
       "4175   0.625     0.485   0.150        1.0945          0.5310          0.2610   \n",
       "4176   0.710     0.555   0.195        1.9485          0.9455          0.3765   \n",
       "\n",
       "      Shell_weight  Sex_F  Sex_I  Sex_M  \n",
       "0           0.1500      0      0      1  \n",
       "1           0.0700      0      0      1  \n",
       "2           0.2100      1      0      0  \n",
       "3           0.1550      0      0      1  \n",
       "4           0.0550      0      1      0  \n",
       "...            ...    ...    ...    ...  \n",
       "4172        0.2490      1      0      0  \n",
       "4173        0.2605      0      0      1  \n",
       "4174        0.3080      0      0      1  \n",
       "4175        0.2960      1      0      0  \n",
       "4176        0.4950      0      0      1  \n",
       "\n",
       "[4177 rows x 10 columns]"
      ]
     },
     "execution_count": 33,
     "metadata": {},
     "output_type": "execute_result"
    }
   ],
   "source": [
    "# SEX는 순서나 크기가 없는 데이터이기 때문에 원 핫 인코딩 적용\n",
    "input = pd.get_dummies(input, columns = ['Sex'])\n",
    "input"
   ]
  },
  {
   "cell_type": "code",
   "execution_count": 34,
   "id": "fc780c48-1bd4-4a6b-adc5-8579a193d43d",
   "metadata": {},
   "outputs": [],
   "source": [
    "# CNN의 conv1d에 입력데이터 형태는 3차원 이어야 한다 (특성 수 1추가)\n",
    "# input = input.reshape((input.shape[0], input.shape[1], 1)) reshape은 넘파이 배열에만 적용 가능\n",
    "#input= np.expand_dims(input,axis=-1) # input 데이터를 3차원 만들고 train_test_split을 사영하면 오류(2차원이어야 함)\n",
    "#input.shape"
   ]
  },
  {
   "cell_type": "code",
   "execution_count": 35,
   "id": "5c8f14bf-c93b-4d04-9c2c-67235538e2bd",
   "metadata": {},
   "outputs": [],
   "source": [
    "from sklearn.model_selection import train_test_split\n",
    "x_train,x_test, y_train, y_test = train_test_split (input,target, test_size=0.2,stratify=target)"
   ]
  },
  {
   "cell_type": "code",
   "execution_count": 36,
   "id": "c80b0273-1add-48d4-8c5a-72afa0af9228",
   "metadata": {},
   "outputs": [],
   "source": [
    "from sklearn.preprocessing import StandardScaler\n",
    "sc=StandardScaler()\n",
    "x_train_scaled=sc.fit_transform(x_train)\n",
    "x_test_scaled=sc.transform(x_test) # 주의 fit_transform이 아닌 transform만 한다."
   ]
  },
  {
   "cell_type": "code",
   "execution_count": 37,
   "id": "39199e8d-05ad-45d3-9938-b7802a7bd69d",
   "metadata": {},
   "outputs": [
    {
     "data": {
      "text/plain": [
       "(3341, 10, 1)"
      ]
     },
     "execution_count": 37,
     "metadata": {},
     "output_type": "execute_result"
    }
   ],
   "source": [
    "x_train_scaled=np.expand_dims(x_train_scaled,axis=-1)\n",
    "x_train_scaled.shape"
   ]
  },
  {
   "cell_type": "code",
   "execution_count": 38,
   "id": "93a0542b-5ba7-4086-970d-72a0ff2702bd",
   "metadata": {},
   "outputs": [
    {
     "data": {
      "text/plain": [
       "(836, 10, 1)"
      ]
     },
     "execution_count": 38,
     "metadata": {},
     "output_type": "execute_result"
    }
   ],
   "source": [
    "x_test_scaled=np.expand_dims(x_test_scaled,axis=-1)\n",
    "x_test_scaled.shape"
   ]
  },
  {
   "cell_type": "markdown",
   "id": "4d3435b9-f919-494e-91f2-ac618c2c330a",
   "metadata": {},
   "source": [
    "## 2. CNN모델 구성"
   ]
  },
  {
   "cell_type": "code",
   "execution_count": 39,
   "id": "50f241e9-3f34-4791-bd63-cab67b4010a7",
   "metadata": {},
   "outputs": [
    {
     "name": "stdout",
     "output_type": "stream",
     "text": [
      "Model: \"sequential_1\"\n",
      "_________________________________________________________________\n",
      " Layer (type)                Output Shape              Param #   \n",
      "=================================================================\n",
      " conv1d_1 (Conv1D)           (None, 8, 32)             128       \n",
      "                                                                 \n",
      " max_pooling1d_1 (MaxPooling  (None, 4, 32)            0         \n",
      " 1D)                                                             \n",
      "                                                                 \n",
      " flatten_1 (Flatten)         (None, 128)               0         \n",
      "                                                                 \n",
      " dense_2 (Dense)             (None, 128)               16512     \n",
      "                                                                 \n",
      " dense_3 (Dense)             (None, 3)                 387       \n",
      "                                                                 \n",
      "=================================================================\n",
      "Total params: 17,027\n",
      "Trainable params: 17,027\n",
      "Non-trainable params: 0\n",
      "_________________________________________________________________\n"
     ]
    }
   ],
   "source": [
    "from tensorflow.keras.models import Sequential\n",
    "from tensorflow.keras.layers import Conv1D, MaxPooling1D, Flatten, Dense, Dropout\n",
    "\n",
    "model = Sequential() # 아래 층을 순차적으로 쌓기\n",
    "model.add(Conv1D(32,kernel_size=3,activation='relu',input_shape=(10,1)))#1차원 데이터 처리\n",
    "model.add(MaxPooling1D(pool_size=2))\n",
    "model.add(Flatten())\n",
    "model.add(Dense(128,activation='relu'))\n",
    "model.add(Dense(3,activation='softmax'))\n",
    "\n",
    "model.summary()"
   ]
  },
  {
   "cell_type": "code",
   "execution_count": 40,
   "id": "01ee5fc4-a36f-443c-984e-9a20d8e3559d",
   "metadata": {},
   "outputs": [],
   "source": [
    "model.compile(optimizer='adam',loss='sparse_categorical_crossentropy',metrics=['accuracy'])\n",
    "# 정수형 라벨이기 때문에 sparse 사용\n",
    "# 원 핫 인코딩된 라벨이면 그냥 categorical_crossentropy 사용\n"
   ]
  },
  {
   "cell_type": "code",
   "execution_count": 41,
   "id": "b28d5456-88ed-45f6-a206-8804bc636322",
   "metadata": {},
   "outputs": [
    {
     "name": "stdout",
     "output_type": "stream",
     "text": [
      "Epoch 1/100\n",
      "105/105 [==============================] - 1s 3ms/step - loss: 0.6692 - accuracy: 0.7222 - val_loss: 0.6055 - val_accuracy: 0.7356\n",
      "Epoch 2/100\n",
      "105/105 [==============================] - 0s 2ms/step - loss: 0.5826 - accuracy: 0.7501 - val_loss: 0.5644 - val_accuracy: 0.7440\n",
      "Epoch 3/100\n",
      "105/105 [==============================] - 0s 2ms/step - loss: 0.5600 - accuracy: 0.7692 - val_loss: 0.5480 - val_accuracy: 0.7560\n",
      "Epoch 4/100\n",
      "105/105 [==============================] - 0s 2ms/step - loss: 0.5425 - accuracy: 0.7761 - val_loss: 0.5466 - val_accuracy: 0.7548\n",
      "Epoch 5/100\n",
      "105/105 [==============================] - 0s 2ms/step - loss: 0.5404 - accuracy: 0.7746 - val_loss: 0.5309 - val_accuracy: 0.7679\n",
      "Epoch 6/100\n",
      "105/105 [==============================] - 0s 2ms/step - loss: 0.5380 - accuracy: 0.7779 - val_loss: 0.5320 - val_accuracy: 0.7632\n",
      "Epoch 7/100\n",
      "105/105 [==============================] - 0s 2ms/step - loss: 0.5282 - accuracy: 0.7851 - val_loss: 0.5284 - val_accuracy: 0.7691\n",
      "Epoch 8/100\n",
      "105/105 [==============================] - 0s 2ms/step - loss: 0.5283 - accuracy: 0.7785 - val_loss: 0.5213 - val_accuracy: 0.7715\n",
      "Epoch 9/100\n",
      "105/105 [==============================] - 0s 2ms/step - loss: 0.5251 - accuracy: 0.7878 - val_loss: 0.5240 - val_accuracy: 0.7679\n",
      "Epoch 10/100\n",
      "105/105 [==============================] - 0s 2ms/step - loss: 0.5300 - accuracy: 0.7800 - val_loss: 0.5286 - val_accuracy: 0.7667\n",
      "Epoch 11/100\n",
      "105/105 [==============================] - 0s 3ms/step - loss: 0.5248 - accuracy: 0.7827 - val_loss: 0.5252 - val_accuracy: 0.7715\n",
      "Epoch 12/100\n",
      "105/105 [==============================] - 0s 3ms/step - loss: 0.5236 - accuracy: 0.7830 - val_loss: 0.5183 - val_accuracy: 0.7703\n",
      "Epoch 13/100\n",
      "105/105 [==============================] - 0s 2ms/step - loss: 0.5196 - accuracy: 0.7872 - val_loss: 0.5281 - val_accuracy: 0.7644\n",
      "Epoch 14/100\n",
      "105/105 [==============================] - 0s 2ms/step - loss: 0.5192 - accuracy: 0.7863 - val_loss: 0.5114 - val_accuracy: 0.7715\n",
      "Epoch 15/100\n",
      "105/105 [==============================] - 0s 2ms/step - loss: 0.5176 - accuracy: 0.7905 - val_loss: 0.5322 - val_accuracy: 0.7679\n",
      "Epoch 16/100\n",
      "105/105 [==============================] - 0s 2ms/step - loss: 0.5158 - accuracy: 0.7902 - val_loss: 0.5181 - val_accuracy: 0.7715\n",
      "Epoch 17/100\n",
      "105/105 [==============================] - 0s 2ms/step - loss: 0.5165 - accuracy: 0.7854 - val_loss: 0.5100 - val_accuracy: 0.7763\n",
      "Epoch 18/100\n",
      "105/105 [==============================] - 0s 2ms/step - loss: 0.5122 - accuracy: 0.7857 - val_loss: 0.5123 - val_accuracy: 0.7739\n",
      "Epoch 19/100\n",
      "105/105 [==============================] - 0s 2ms/step - loss: 0.5168 - accuracy: 0.7800 - val_loss: 0.5258 - val_accuracy: 0.7739\n",
      "Epoch 20/100\n",
      "105/105 [==============================] - 0s 2ms/step - loss: 0.5177 - accuracy: 0.7851 - val_loss: 0.5118 - val_accuracy: 0.7739\n",
      "Epoch 21/100\n",
      "105/105 [==============================] - 0s 2ms/step - loss: 0.5161 - accuracy: 0.7845 - val_loss: 0.5331 - val_accuracy: 0.7667\n",
      "Epoch 22/100\n",
      "105/105 [==============================] - 0s 2ms/step - loss: 0.5116 - accuracy: 0.7854 - val_loss: 0.5147 - val_accuracy: 0.7691\n",
      "Epoch 23/100\n",
      "105/105 [==============================] - 0s 2ms/step - loss: 0.5087 - accuracy: 0.7893 - val_loss: 0.5086 - val_accuracy: 0.7811\n",
      "Epoch 24/100\n",
      "105/105 [==============================] - 0s 2ms/step - loss: 0.5080 - accuracy: 0.7899 - val_loss: 0.5194 - val_accuracy: 0.7727\n",
      "Epoch 25/100\n",
      "105/105 [==============================] - 0s 2ms/step - loss: 0.5081 - accuracy: 0.7866 - val_loss: 0.5212 - val_accuracy: 0.7739\n",
      "Epoch 26/100\n",
      "105/105 [==============================] - 0s 2ms/step - loss: 0.5084 - accuracy: 0.7863 - val_loss: 0.5126 - val_accuracy: 0.7739\n",
      "Epoch 27/100\n",
      "105/105 [==============================] - 0s 2ms/step - loss: 0.5045 - accuracy: 0.7893 - val_loss: 0.5075 - val_accuracy: 0.7727\n",
      "Epoch 28/100\n",
      "105/105 [==============================] - 0s 3ms/step - loss: 0.5062 - accuracy: 0.7851 - val_loss: 0.5176 - val_accuracy: 0.7811\n",
      "Epoch 29/100\n",
      "105/105 [==============================] - 0s 3ms/step - loss: 0.5024 - accuracy: 0.7908 - val_loss: 0.5075 - val_accuracy: 0.7871\n",
      "Epoch 30/100\n",
      "105/105 [==============================] - 0s 3ms/step - loss: 0.5062 - accuracy: 0.7866 - val_loss: 0.5162 - val_accuracy: 0.7715\n",
      "Epoch 31/100\n",
      "105/105 [==============================] - 0s 2ms/step - loss: 0.5044 - accuracy: 0.7881 - val_loss: 0.5082 - val_accuracy: 0.7847\n",
      "Epoch 32/100\n",
      "105/105 [==============================] - 0s 3ms/step - loss: 0.5036 - accuracy: 0.7860 - val_loss: 0.5129 - val_accuracy: 0.7799\n",
      "Epoch 33/100\n",
      "105/105 [==============================] - 0s 2ms/step - loss: 0.5023 - accuracy: 0.7860 - val_loss: 0.5066 - val_accuracy: 0.7751\n",
      "Epoch 34/100\n",
      "105/105 [==============================] - 0s 2ms/step - loss: 0.5042 - accuracy: 0.7911 - val_loss: 0.5356 - val_accuracy: 0.7703\n",
      "Epoch 35/100\n",
      "105/105 [==============================] - 0s 2ms/step - loss: 0.5007 - accuracy: 0.7908 - val_loss: 0.5136 - val_accuracy: 0.7727\n",
      "Epoch 36/100\n",
      "105/105 [==============================] - 0s 2ms/step - loss: 0.4996 - accuracy: 0.7911 - val_loss: 0.5073 - val_accuracy: 0.7799\n",
      "Epoch 37/100\n",
      "105/105 [==============================] - 0s 2ms/step - loss: 0.4983 - accuracy: 0.7917 - val_loss: 0.5074 - val_accuracy: 0.7847\n",
      "Epoch 38/100\n",
      "105/105 [==============================] - 0s 3ms/step - loss: 0.4982 - accuracy: 0.7932 - val_loss: 0.5172 - val_accuracy: 0.7787\n",
      "Epoch 39/100\n",
      "105/105 [==============================] - 0s 2ms/step - loss: 0.4964 - accuracy: 0.7923 - val_loss: 0.5235 - val_accuracy: 0.7715\n",
      "Epoch 40/100\n",
      "105/105 [==============================] - 0s 2ms/step - loss: 0.4953 - accuracy: 0.7923 - val_loss: 0.5191 - val_accuracy: 0.7811\n",
      "Epoch 41/100\n",
      "105/105 [==============================] - 0s 2ms/step - loss: 0.4954 - accuracy: 0.7956 - val_loss: 0.5047 - val_accuracy: 0.7823\n",
      "Epoch 42/100\n",
      "105/105 [==============================] - 0s 2ms/step - loss: 0.4922 - accuracy: 0.7965 - val_loss: 0.5141 - val_accuracy: 0.7679\n",
      "Epoch 43/100\n",
      "105/105 [==============================] - 0s 3ms/step - loss: 0.4918 - accuracy: 0.7929 - val_loss: 0.5043 - val_accuracy: 0.7871\n",
      "Epoch 44/100\n",
      "105/105 [==============================] - 0s 3ms/step - loss: 0.4929 - accuracy: 0.7926 - val_loss: 0.5115 - val_accuracy: 0.7823\n",
      "Epoch 45/100\n",
      "105/105 [==============================] - 0s 3ms/step - loss: 0.4948 - accuracy: 0.7920 - val_loss: 0.5090 - val_accuracy: 0.7811\n",
      "Epoch 46/100\n",
      "105/105 [==============================] - 0s 3ms/step - loss: 0.4923 - accuracy: 0.7923 - val_loss: 0.5089 - val_accuracy: 0.7847\n",
      "Epoch 47/100\n",
      "105/105 [==============================] - 0s 2ms/step - loss: 0.4920 - accuracy: 0.7926 - val_loss: 0.5093 - val_accuracy: 0.7835\n",
      "Epoch 48/100\n",
      "105/105 [==============================] - 0s 2ms/step - loss: 0.4930 - accuracy: 0.7950 - val_loss: 0.5063 - val_accuracy: 0.7871\n",
      "Epoch 49/100\n",
      "105/105 [==============================] - 0s 2ms/step - loss: 0.4910 - accuracy: 0.7980 - val_loss: 0.5052 - val_accuracy: 0.7739\n",
      "Epoch 50/100\n",
      "105/105 [==============================] - 0s 2ms/step - loss: 0.4875 - accuracy: 0.7971 - val_loss: 0.5146 - val_accuracy: 0.7799\n",
      "Epoch 51/100\n",
      "105/105 [==============================] - 0s 2ms/step - loss: 0.4895 - accuracy: 0.7965 - val_loss: 0.5114 - val_accuracy: 0.7715\n",
      "Epoch 52/100\n",
      "105/105 [==============================] - 0s 2ms/step - loss: 0.4889 - accuracy: 0.7977 - val_loss: 0.5050 - val_accuracy: 0.7871\n",
      "Epoch 53/100\n",
      "105/105 [==============================] - 0s 2ms/step - loss: 0.4894 - accuracy: 0.7950 - val_loss: 0.5113 - val_accuracy: 0.7883\n",
      "Epoch 54/100\n",
      "105/105 [==============================] - 0s 2ms/step - loss: 0.4866 - accuracy: 0.7968 - val_loss: 0.5053 - val_accuracy: 0.7859\n",
      "Epoch 55/100\n",
      "105/105 [==============================] - 0s 2ms/step - loss: 0.4871 - accuracy: 0.7932 - val_loss: 0.5145 - val_accuracy: 0.7679\n",
      "Epoch 56/100\n",
      "105/105 [==============================] - 0s 2ms/step - loss: 0.4877 - accuracy: 0.7974 - val_loss: 0.5142 - val_accuracy: 0.7883\n",
      "Epoch 57/100\n",
      "105/105 [==============================] - 0s 2ms/step - loss: 0.4831 - accuracy: 0.7965 - val_loss: 0.5042 - val_accuracy: 0.7811\n"
     ]
    },
    {
     "name": "stdout",
     "output_type": "stream",
     "text": [
      "Epoch 58/100\n",
      "105/105 [==============================] - 0s 2ms/step - loss: 0.4838 - accuracy: 0.8004 - val_loss: 0.5103 - val_accuracy: 0.7835\n",
      "Epoch 59/100\n",
      "105/105 [==============================] - 0s 2ms/step - loss: 0.4838 - accuracy: 0.7938 - val_loss: 0.5041 - val_accuracy: 0.7787\n",
      "Epoch 60/100\n",
      "105/105 [==============================] - 0s 2ms/step - loss: 0.4848 - accuracy: 0.7905 - val_loss: 0.5068 - val_accuracy: 0.7883\n",
      "Epoch 61/100\n",
      "105/105 [==============================] - 0s 3ms/step - loss: 0.4805 - accuracy: 0.7956 - val_loss: 0.5077 - val_accuracy: 0.7787\n",
      "Epoch 62/100\n",
      "105/105 [==============================] - 0s 3ms/step - loss: 0.4788 - accuracy: 0.7977 - val_loss: 0.5082 - val_accuracy: 0.7787\n",
      "Epoch 63/100\n",
      "105/105 [==============================] - 0s 2ms/step - loss: 0.4830 - accuracy: 0.7995 - val_loss: 0.5054 - val_accuracy: 0.7715\n",
      "Epoch 64/100\n",
      "105/105 [==============================] - 0s 2ms/step - loss: 0.4844 - accuracy: 0.7968 - val_loss: 0.5094 - val_accuracy: 0.7823\n",
      "Epoch 65/100\n",
      "105/105 [==============================] - 0s 2ms/step - loss: 0.4825 - accuracy: 0.7959 - val_loss: 0.5209 - val_accuracy: 0.7799\n",
      "Epoch 66/100\n",
      "105/105 [==============================] - 0s 2ms/step - loss: 0.4797 - accuracy: 0.7953 - val_loss: 0.5100 - val_accuracy: 0.7811\n",
      "Epoch 67/100\n",
      "105/105 [==============================] - 0s 2ms/step - loss: 0.4810 - accuracy: 0.7980 - val_loss: 0.5062 - val_accuracy: 0.7811\n",
      "Epoch 68/100\n",
      "105/105 [==============================] - 0s 2ms/step - loss: 0.4831 - accuracy: 0.7956 - val_loss: 0.5092 - val_accuracy: 0.7823\n",
      "Epoch 69/100\n",
      "105/105 [==============================] - 0s 2ms/step - loss: 0.4833 - accuracy: 0.7965 - val_loss: 0.5070 - val_accuracy: 0.7727\n",
      "Epoch 70/100\n",
      "105/105 [==============================] - 0s 2ms/step - loss: 0.4755 - accuracy: 0.7992 - val_loss: 0.5177 - val_accuracy: 0.7835\n",
      "Epoch 71/100\n",
      "105/105 [==============================] - 0s 2ms/step - loss: 0.4798 - accuracy: 0.7986 - val_loss: 0.5099 - val_accuracy: 0.7775\n",
      "Epoch 72/100\n",
      "105/105 [==============================] - 0s 2ms/step - loss: 0.4742 - accuracy: 0.7992 - val_loss: 0.5020 - val_accuracy: 0.7835\n",
      "Epoch 73/100\n",
      "105/105 [==============================] - 0s 2ms/step - loss: 0.4791 - accuracy: 0.7983 - val_loss: 0.5050 - val_accuracy: 0.7787\n",
      "Epoch 74/100\n",
      "105/105 [==============================] - 0s 2ms/step - loss: 0.4743 - accuracy: 0.8013 - val_loss: 0.5077 - val_accuracy: 0.7763\n",
      "Epoch 75/100\n",
      "105/105 [==============================] - 0s 2ms/step - loss: 0.4720 - accuracy: 0.8057 - val_loss: 0.5058 - val_accuracy: 0.7787\n",
      "Epoch 76/100\n",
      "105/105 [==============================] - 0s 2ms/step - loss: 0.4707 - accuracy: 0.8040 - val_loss: 0.5111 - val_accuracy: 0.7763\n",
      "Epoch 77/100\n",
      "105/105 [==============================] - 0s 2ms/step - loss: 0.4770 - accuracy: 0.7950 - val_loss: 0.5076 - val_accuracy: 0.7823\n",
      "Epoch 78/100\n",
      "105/105 [==============================] - 0s 2ms/step - loss: 0.4712 - accuracy: 0.8001 - val_loss: 0.5045 - val_accuracy: 0.7787\n",
      "Epoch 79/100\n",
      "105/105 [==============================] - 0s 2ms/step - loss: 0.4711 - accuracy: 0.8022 - val_loss: 0.5177 - val_accuracy: 0.7727\n",
      "Epoch 80/100\n",
      "105/105 [==============================] - 0s 2ms/step - loss: 0.4759 - accuracy: 0.8001 - val_loss: 0.5088 - val_accuracy: 0.7811\n",
      "Epoch 81/100\n",
      "105/105 [==============================] - 0s 2ms/step - loss: 0.4709 - accuracy: 0.7995 - val_loss: 0.5031 - val_accuracy: 0.7799\n",
      "Epoch 82/100\n",
      "105/105 [==============================] - 0s 2ms/step - loss: 0.4691 - accuracy: 0.8004 - val_loss: 0.5103 - val_accuracy: 0.7775\n",
      "Epoch 83/100\n",
      "105/105 [==============================] - 0s 2ms/step - loss: 0.4681 - accuracy: 0.8057 - val_loss: 0.5057 - val_accuracy: 0.7799\n",
      "Epoch 84/100\n",
      "105/105 [==============================] - 0s 2ms/step - loss: 0.4670 - accuracy: 0.8019 - val_loss: 0.5178 - val_accuracy: 0.7787\n",
      "Epoch 85/100\n",
      "105/105 [==============================] - 0s 2ms/step - loss: 0.4690 - accuracy: 0.8031 - val_loss: 0.5059 - val_accuracy: 0.7775\n",
      "Epoch 86/100\n",
      "105/105 [==============================] - 0s 2ms/step - loss: 0.4670 - accuracy: 0.8045 - val_loss: 0.5077 - val_accuracy: 0.7811\n",
      "Epoch 87/100\n",
      "105/105 [==============================] - 0s 2ms/step - loss: 0.4664 - accuracy: 0.7995 - val_loss: 0.5161 - val_accuracy: 0.7775\n",
      "Epoch 88/100\n",
      "105/105 [==============================] - 0s 2ms/step - loss: 0.4633 - accuracy: 0.8048 - val_loss: 0.5084 - val_accuracy: 0.7811\n",
      "Epoch 89/100\n",
      "105/105 [==============================] - 0s 2ms/step - loss: 0.4665 - accuracy: 0.8022 - val_loss: 0.5046 - val_accuracy: 0.7847\n",
      "Epoch 90/100\n",
      "105/105 [==============================] - 0s 2ms/step - loss: 0.4646 - accuracy: 0.8034 - val_loss: 0.5086 - val_accuracy: 0.7847\n",
      "Epoch 91/100\n",
      "105/105 [==============================] - 0s 2ms/step - loss: 0.4651 - accuracy: 0.8028 - val_loss: 0.5183 - val_accuracy: 0.7703\n",
      "Epoch 92/100\n",
      "105/105 [==============================] - 0s 2ms/step - loss: 0.4627 - accuracy: 0.8028 - val_loss: 0.5120 - val_accuracy: 0.7715\n",
      "Epoch 93/100\n",
      "105/105 [==============================] - 0s 2ms/step - loss: 0.4635 - accuracy: 0.8093 - val_loss: 0.5078 - val_accuracy: 0.7787\n",
      "Epoch 94/100\n",
      "105/105 [==============================] - 0s 2ms/step - loss: 0.4621 - accuracy: 0.8051 - val_loss: 0.5282 - val_accuracy: 0.7799\n",
      "Epoch 95/100\n",
      "105/105 [==============================] - 0s 2ms/step - loss: 0.4638 - accuracy: 0.8078 - val_loss: 0.5045 - val_accuracy: 0.7787\n",
      "Epoch 96/100\n",
      "105/105 [==============================] - 0s 3ms/step - loss: 0.4582 - accuracy: 0.8054 - val_loss: 0.5266 - val_accuracy: 0.7620\n",
      "Epoch 97/100\n",
      "105/105 [==============================] - 0s 3ms/step - loss: 0.4610 - accuracy: 0.8045 - val_loss: 0.5129 - val_accuracy: 0.7835\n",
      "Epoch 98/100\n",
      "105/105 [==============================] - 0s 2ms/step - loss: 0.4575 - accuracy: 0.8045 - val_loss: 0.5207 - val_accuracy: 0.7703\n",
      "Epoch 99/100\n",
      "105/105 [==============================] - 0s 2ms/step - loss: 0.4598 - accuracy: 0.8048 - val_loss: 0.5151 - val_accuracy: 0.7703\n",
      "Epoch 100/100\n",
      "105/105 [==============================] - 0s 2ms/step - loss: 0.4621 - accuracy: 0.8099 - val_loss: 0.5098 - val_accuracy: 0.7751\n"
     ]
    }
   ],
   "source": [
    "history = model.fit(x_train_scaled,y_train,epochs=100,validation_data=(x_test_scaled,y_test))"
   ]
  },
  {
   "cell_type": "code",
   "execution_count": 42,
   "id": "c23678b0-5940-4be6-ad14-1413e46d6d72",
   "metadata": {},
   "outputs": [
    {
     "data": {
      "text/plain": [
       "dict_keys(['loss', 'accuracy', 'val_loss', 'val_accuracy'])"
      ]
     },
     "execution_count": 42,
     "metadata": {},
     "output_type": "execute_result"
    }
   ],
   "source": [
    "history.history.keys()"
   ]
  },
  {
   "cell_type": "code",
   "execution_count": 43,
   "id": "df7e4596-1307-40e6-b961-9b6d7f5c60d8",
   "metadata": {},
   "outputs": [
    {
     "data": {
      "text/plain": [
       "<matplotlib.legend.Legend at 0x1a6dc1a5070>"
      ]
     },
     "execution_count": 43,
     "metadata": {},
     "output_type": "execute_result"
    },
    {
     "data": {
      "image/png": "[encoded data removed]",
      "text/plain": [
       "<Figure size 640x480 with 1 Axes>"
      ]
     },
     "metadata": {},
     "output_type": "display_data"
    }
   ],
   "source": [
    "import matplotlib.pyplot as plt\n",
    "\n",
    "plt.plot(history.history[\"loss\"], label = \"train\")\n",
    "plt.plot(history.history[\"val_loss\"], label = \"test\")\n",
    "plt.legend()"
   ]
  },
  {
   "cell_type": "code",
   "execution_count": 44,
   "id": "4b44e971-40b0-454f-bdfe-d139adf0efc5",
   "metadata": {
    "scrolled": true
   },
   "outputs": [
    {
     "data": {
      "text/plain": [
       "<matplotlib.legend.Legend at 0x1a6dc8afc40>"
      ]
     },
     "execution_count": 44,
     "metadata": {},
     "output_type": "execute_result"
    },
    {
     "data": {
      "image/png": "[encoded data removed]",
      "text/plain": [
       "<Figure size 640x480 with 1 Axes>"
      ]
     },
     "metadata": {},
     "output_type": "display_data"
    }
   ],
   "source": [
    "plt.plot(history.history['accuracy'], label=\"train\")\n",
    "plt.plot(history.history[\"val_accuracy\"],label=\"test\")\n",
    "plt.legend()"
   ]
  },
  {
   "cell_type": "code",
   "execution_count": 45,
   "id": "240f5fd7-3b83-481a-a666-099437e6d106",
   "metadata": {},
   "outputs": [
    {
     "name": "stdout",
     "output_type": "stream",
     "text": [
      "27/27 [==============================] - 0s 1ms/step - loss: 0.5098 - accuracy: 0.7751\n"
     ]
    },
    {
     "data": {
      "text/plain": [
       "[0.5097553730010986, 0.7751196026802063]"
      ]
     },
     "execution_count": 45,
     "metadata": {},
     "output_type": "execute_result"
    }
   ],
   "source": [
    "model.evaluate(x_test_scaled,y_test)\n"
   ]
  },
  {
   "cell_type": "code",
   "execution_count": 46,
   "id": "11bf5a9d-e298-4658-a91f-667f74172a1a",
   "metadata": {
    "scrolled": true
   },
   "outputs": [
    {
     "name": "stdout",
     "output_type": "stream",
     "text": [
      "105/105 [==============================] - 0s 1ms/step - loss: 0.4459 - accuracy: 0.8141\n"
     ]
    },
    {
     "data": {
      "text/plain": [
       "[0.4458546042442322, 0.814127504825592]"
      ]
     },
     "execution_count": 46,
     "metadata": {},
     "output_type": "execute_result"
    }
   ],
   "source": [
    "model.evaluate(x_train_scaled,y_train)"
   ]
  },
  {
   "cell_type": "code",
   "execution_count": 47,
   "id": "c9ed4a7a-30a6-4201-ac58-3abe5abb11e3",
   "metadata": {},
   "outputs": [
    {
     "name": "stdout",
     "output_type": "stream",
     "text": [
      "27/27 [==============================] - 0s 1ms/step\n",
      "Confusion Matrix\n"
     ]
    },
    {
     "data": {
      "image/png": "[encoded data removed]",
      "text/plain": [
       "<Figure size 800x600 with 2 Axes>"
      ]
     },
     "metadata": {},
     "output_type": "display_data"
    }
   ],
   "source": [
    "import matplotlib.pyplot as plt\n",
    "import seaborn as sns\n",
    "import numpy as np\n",
    "from sklearn.metrics import confusion_matrix\n",
    "\n",
    "from sklearn.metrics import confusion_matrix,classification_report,accuracy_score\n",
    "\n",
    "y_test_arg=y_test # y_test는 1차원 이므로 np.argmax()사용 필요 없다.\n",
    "Y_pred = np.argmax(model.predict(x_test_scaled),axis=1)\n",
    "print('Confusion Matrix')\n",
    "cm = confusion_matrix(y_test_arg, Y_pred)\n",
    "# 시각화\n",
    "plt.figure(figsize=(8, 6))  # 그래프 크기 조절 (너비 8, 높이 6)\n",
    "sns.heatmap(cm, annot=True, fmt=\"d\", cmap=\"Greens\")\n",
    "\n",
    "# 그래프 표시\n",
    "plt.show()"
   ]
  },
  {
   "cell_type": "markdown",
   "id": "e38a7bfc-6bad-4be2-be31-349a20ec51f5",
   "metadata": {},
   "source": [
    "**정확도가 오름 -> 이 모델로 사전 학습 실시**"
   ]
  },
  {
   "cell_type": "markdown",
   "id": "9ed9bad2-fc71-49d1-8b0e-787c687c633d",
   "metadata": {},
   "source": [
    "## 3. 모델 저장"
   ]
  },
  {
   "cell_type": "code",
   "execution_count": 53,
   "id": "79d73e4a-a3f4-45be-a0c9-4fa0b5139a49",
   "metadata": {},
   "outputs": [
    {
     "name": "stdout",
     "output_type": "stream",
     "text": [
      "27/27 [==============================] - 0s 2ms/step - loss: 0.5098 - accuracy: 0.7751\n",
      "model saved at  C:\\Users\\jongmin\\Downloads\\DeepLearning\\data\\abalone_cnn.h5\n",
      "Accuracy >77.511960\n",
      "Base Loss >0.51\n"
     ]
    }
   ],
   "source": [
    "import tensorflow as tf\n",
    "\n",
    "base_loss,base_accuracy=model.evaluate(x_test_scaled, y_test)\n",
    "\n",
    "model_file=(r\"C:\\Users\\jongmin\\Downloads\\DeepLearning\\data\\abalone_cnn.h5\")\n",
    "\n",
    "tf.keras.models.save_model(model, model_file, include_optimizer=False)\n",
    "print('model saved at ', model_file)\n",
    "#score,keras_file=evaluate_model(trainX,trainy,testX,testy)\n",
    "score=base_accuracy*100\n",
    "print('Accuracy >{:f}'.format(score))\n",
    "print('Base Loss >{:.2f}'.format(base_loss))"
   ]
  },
  {
   "cell_type": "markdown",
   "id": "5e74d942-7c16-463d-8a43-ba6312cbc230",
   "metadata": {},
   "source": [
    "## 4. Pretrained Model로 부른 후 새로운 층과 출력층 추가"
   ]
  },
  {
   "cell_type": "code",
   "execution_count": 54,
   "id": "dcf37407-a589-4455-8567-f55c2d603789",
   "metadata": {},
   "outputs": [
    {
     "name": "stdout",
     "output_type": "stream",
     "text": [
      "WARNING:tensorflow:No training configuration found in the save file, so the model was *not* compiled. Compile it manually.\n"
     ]
    }
   ],
   "source": [
    "from tensorflow.keras.models import load_model\n",
    "\n",
    "base_model = load_model(model_file)"
   ]
  },
  {
   "cell_type": "code",
   "execution_count": 55,
   "id": "134290be-01d2-4784-9a99-967e5d52e125",
   "metadata": {},
   "outputs": [
    {
     "name": "stdout",
     "output_type": "stream",
     "text": [
      "27/27 [==============================] - 0s 1ms/step - loss: 0.5098 - accuracy: 0.7751\n"
     ]
    },
    {
     "data": {
      "text/plain": [
       "[0.5097553730010986, 0.7751196026802063]"
      ]
     },
     "execution_count": 55,
     "metadata": {},
     "output_type": "execute_result"
    }
   ],
   "source": [
    "base_model.compile(optimizer='adam', metrics=['accuracy'], loss='sparse_categorical_crossentropy')\n",
    "base_model.evaluate(x_test_scaled, y_test)"
   ]
  },
  {
   "cell_type": "code",
   "execution_count": 56,
   "id": "f89dac8a-0254-41b5-bb16-03917b5235b1",
   "metadata": {},
   "outputs": [
    {
     "name": "stdout",
     "output_type": "stream",
     "text": [
      "Number of layers in the base model:  5\n"
     ]
    }
   ],
   "source": [
    "print(\"Number of layers in the base model: \", len(base_model.layers))"
   ]
  },
  {
   "cell_type": "code",
   "execution_count": 57,
   "id": "d5da32e8-a6c7-4f6f-b945-1f5e34acd90a",
   "metadata": {},
   "outputs": [],
   "source": [
    "from tensorflow.keras import layers, models\n",
    "\n",
    "def remove_last_layers(model, num_layers_to_remove):\n",
    "    # 모델의 레이어를 하나씩 슬라이스해서 앞의 레이어만 가져옴\n",
    "    model_layers = model.layers[:-num_layers_to_remove]  # 마지막 레이어부터 지정된 갯수만큼 제외\n",
    "    new_model = models.Sequential(model_layers)  # 새로운 모델에 해당 레이어들만 추가\n",
    "    return new_model"
   ]
  },
  {
   "cell_type": "code",
   "execution_count": 58,
   "id": "c99a2a57-10b9-4cd0-8abb-5acbe73e9147",
   "metadata": {},
   "outputs": [],
   "source": [
    "# 출력층부터 1개의 레이어를 삭제\n",
    "new_model = remove_last_layers(base_model, 3)"
   ]
  },
  {
   "cell_type": "code",
   "execution_count": 59,
   "id": "c5462d88-32c9-46fe-b8bb-5e293c21eb3e",
   "metadata": {},
   "outputs": [
    {
     "name": "stdout",
     "output_type": "stream",
     "text": [
      "Model: \"sequential_2\"\n",
      "_________________________________________________________________\n",
      " Layer (type)                Output Shape              Param #   \n",
      "=================================================================\n",
      " conv1d_1 (Conv1D)           (None, 8, 32)             128       \n",
      "                                                                 \n",
      " max_pooling1d_1 (MaxPooling  (None, 4, 32)            0         \n",
      " 1D)                                                             \n",
      "                                                                 \n",
      "=================================================================\n",
      "Total params: 128\n",
      "Trainable params: 128\n",
      "Non-trainable params: 0\n",
      "_________________________________________________________________\n"
     ]
    }
   ],
   "source": [
    "new_model.summary()"
   ]
  },
  {
   "cell_type": "code",
   "execution_count": 60,
   "id": "d0998d50-dc4d-4e37-84a9-d6d6666589bc",
   "metadata": {},
   "outputs": [],
   "source": [
    "# 새로운 층으로 Conv1D 층과 Dense층 추가하고 출력층 추가\n",
    "\n",
    "new_model.add(Conv1D(64,kernel_size=3,activation='relu'))\n",
    "new_model.add(MaxPooling1D(pool_size=2))\n",
    "new_model.add(Flatten())\n",
    "new_model.add(Dense(64,activation='relu'))\n",
    "new_model.add(Dense(3,activation='softmax'))"
   ]
  },
  {
   "cell_type": "code",
   "execution_count": 61,
   "id": "2103da8c-665b-4c87-b75c-60d1ff1eda2a",
   "metadata": {},
   "outputs": [
    {
     "name": "stdout",
     "output_type": "stream",
     "text": [
      "Model: \"sequential_2\"\n",
      "_________________________________________________________________\n",
      " Layer (type)                Output Shape              Param #   \n",
      "=================================================================\n",
      " conv1d_1 (Conv1D)           (None, 8, 32)             128       \n",
      "                                                                 \n",
      " max_pooling1d_1 (MaxPooling  (None, 4, 32)            0         \n",
      " 1D)                                                             \n",
      "                                                                 \n",
      " conv1d_2 (Conv1D)           (None, 2, 64)             6208      \n",
      "                                                                 \n",
      " max_pooling1d_2 (MaxPooling  (None, 1, 64)            0         \n",
      " 1D)                                                             \n",
      "                                                                 \n",
      " flatten_2 (Flatten)         (None, 64)                0         \n",
      "                                                                 \n",
      " dense_4 (Dense)             (None, 64)                4160      \n",
      "                                                                 \n",
      " dense_5 (Dense)             (None, 3)                 195       \n",
      "                                                                 \n",
      "=================================================================\n",
      "Total params: 10,691\n",
      "Trainable params: 10,691\n",
      "Non-trainable params: 0\n",
      "_________________________________________________________________\n"
     ]
    }
   ],
   "source": [
    "new_model.compile(optimizer='adam',loss='sparse_categorical_crossentropy',metrics=['accuracy'])\n",
    "new_model.summary()"
   ]
  },
  {
   "cell_type": "code",
   "execution_count": 62,
   "id": "fc9a0f39-95d6-4949-9f4d-3d2a4e7a30ea",
   "metadata": {},
   "outputs": [
    {
     "name": "stdout",
     "output_type": "stream",
     "text": [
      "Epoch 1/50\n",
      "105/105 [==============================] - 1s 4ms/step - loss: 0.7187 - accuracy: 0.7034 - val_loss: 0.6193 - val_accuracy: 0.7249\n",
      "Epoch 2/50\n",
      "105/105 [==============================] - 0s 2ms/step - loss: 0.5849 - accuracy: 0.7543 - val_loss: 0.5674 - val_accuracy: 0.7536\n",
      "Epoch 3/50\n",
      "105/105 [==============================] - 0s 2ms/step - loss: 0.5545 - accuracy: 0.7707 - val_loss: 0.5603 - val_accuracy: 0.7644\n",
      "Epoch 4/50\n",
      "105/105 [==============================] - 0s 2ms/step - loss: 0.5428 - accuracy: 0.7782 - val_loss: 0.5490 - val_accuracy: 0.7584\n",
      "Epoch 5/50\n",
      "105/105 [==============================] - 0s 2ms/step - loss: 0.5348 - accuracy: 0.7797 - val_loss: 0.5407 - val_accuracy: 0.7620\n",
      "Epoch 6/50\n",
      "105/105 [==============================] - 0s 2ms/step - loss: 0.5314 - accuracy: 0.7830 - val_loss: 0.5337 - val_accuracy: 0.7656\n",
      "Epoch 7/50\n",
      "105/105 [==============================] - 0s 2ms/step - loss: 0.5247 - accuracy: 0.7872 - val_loss: 0.5337 - val_accuracy: 0.7727\n",
      "Epoch 8/50\n",
      "105/105 [==============================] - 0s 3ms/step - loss: 0.5282 - accuracy: 0.7803 - val_loss: 0.5276 - val_accuracy: 0.7751\n",
      "Epoch 9/50\n",
      "105/105 [==============================] - 0s 3ms/step - loss: 0.5174 - accuracy: 0.7851 - val_loss: 0.5367 - val_accuracy: 0.7715\n",
      "Epoch 10/50\n",
      "105/105 [==============================] - 0s 3ms/step - loss: 0.5190 - accuracy: 0.7914 - val_loss: 0.5257 - val_accuracy: 0.7775\n",
      "Epoch 11/50\n",
      "105/105 [==============================] - 0s 3ms/step - loss: 0.5167 - accuracy: 0.7881 - val_loss: 0.5224 - val_accuracy: 0.7787\n",
      "Epoch 12/50\n",
      "105/105 [==============================] - 0s 2ms/step - loss: 0.5150 - accuracy: 0.7875 - val_loss: 0.5191 - val_accuracy: 0.7763\n",
      "Epoch 13/50\n",
      "105/105 [==============================] - 0s 2ms/step - loss: 0.5130 - accuracy: 0.7800 - val_loss: 0.5287 - val_accuracy: 0.7691\n",
      "Epoch 14/50\n",
      "105/105 [==============================] - 0s 3ms/step - loss: 0.5128 - accuracy: 0.7902 - val_loss: 0.5160 - val_accuracy: 0.7787\n",
      "Epoch 15/50\n",
      "105/105 [==============================] - 0s 3ms/step - loss: 0.5081 - accuracy: 0.7887 - val_loss: 0.5200 - val_accuracy: 0.7787\n",
      "Epoch 16/50\n",
      "105/105 [==============================] - 0s 2ms/step - loss: 0.5046 - accuracy: 0.7911 - val_loss: 0.5211 - val_accuracy: 0.7727\n",
      "Epoch 17/50\n",
      "105/105 [==============================] - 0s 3ms/step - loss: 0.5092 - accuracy: 0.7923 - val_loss: 0.5176 - val_accuracy: 0.7787\n",
      "Epoch 18/50\n",
      "105/105 [==============================] - 0s 3ms/step - loss: 0.5046 - accuracy: 0.7953 - val_loss: 0.5178 - val_accuracy: 0.7715\n",
      "Epoch 19/50\n",
      "105/105 [==============================] - 0s 3ms/step - loss: 0.5016 - accuracy: 0.7929 - val_loss: 0.5169 - val_accuracy: 0.7715\n",
      "Epoch 20/50\n",
      "105/105 [==============================] - 0s 2ms/step - loss: 0.4993 - accuracy: 0.7929 - val_loss: 0.5216 - val_accuracy: 0.7656\n",
      "Epoch 21/50\n",
      "105/105 [==============================] - 0s 3ms/step - loss: 0.4979 - accuracy: 0.7932 - val_loss: 0.5202 - val_accuracy: 0.7751\n",
      "Epoch 22/50\n",
      "105/105 [==============================] - 0s 3ms/step - loss: 0.4990 - accuracy: 0.7914 - val_loss: 0.5167 - val_accuracy: 0.7703\n",
      "Epoch 23/50\n",
      "105/105 [==============================] - 0s 3ms/step - loss: 0.5004 - accuracy: 0.7932 - val_loss: 0.5186 - val_accuracy: 0.7751\n",
      "Epoch 24/50\n",
      "105/105 [==============================] - 0s 3ms/step - loss: 0.4977 - accuracy: 0.7917 - val_loss: 0.5136 - val_accuracy: 0.7739\n",
      "Epoch 25/50\n",
      "105/105 [==============================] - 0s 2ms/step - loss: 0.4956 - accuracy: 0.7971 - val_loss: 0.5152 - val_accuracy: 0.7739\n",
      "Epoch 26/50\n",
      "105/105 [==============================] - 0s 2ms/step - loss: 0.4947 - accuracy: 0.7959 - val_loss: 0.5156 - val_accuracy: 0.7775\n",
      "Epoch 27/50\n",
      "105/105 [==============================] - 0s 3ms/step - loss: 0.4908 - accuracy: 0.7935 - val_loss: 0.5138 - val_accuracy: 0.7823\n",
      "Epoch 28/50\n",
      "105/105 [==============================] - 0s 3ms/step - loss: 0.4919 - accuracy: 0.7953 - val_loss: 0.5202 - val_accuracy: 0.7715\n",
      "Epoch 29/50\n",
      "105/105 [==============================] - 0s 2ms/step - loss: 0.4914 - accuracy: 0.7917 - val_loss: 0.5423 - val_accuracy: 0.7787\n",
      "Epoch 30/50\n",
      "105/105 [==============================] - 0s 2ms/step - loss: 0.4947 - accuracy: 0.7935 - val_loss: 0.5154 - val_accuracy: 0.7811\n",
      "Epoch 31/50\n",
      "105/105 [==============================] - 0s 2ms/step - loss: 0.4867 - accuracy: 0.7977 - val_loss: 0.5153 - val_accuracy: 0.7703\n",
      "Epoch 32/50\n",
      "105/105 [==============================] - 0s 2ms/step - loss: 0.4858 - accuracy: 0.7983 - val_loss: 0.5304 - val_accuracy: 0.7608\n",
      "Epoch 33/50\n",
      "105/105 [==============================] - 0s 2ms/step - loss: 0.4864 - accuracy: 0.7968 - val_loss: 0.5104 - val_accuracy: 0.7775\n",
      "Epoch 34/50\n",
      "105/105 [==============================] - 0s 2ms/step - loss: 0.4803 - accuracy: 0.8037 - val_loss: 0.5211 - val_accuracy: 0.7703\n",
      "Epoch 35/50\n",
      "105/105 [==============================] - 0s 2ms/step - loss: 0.4818 - accuracy: 0.8025 - val_loss: 0.5154 - val_accuracy: 0.7715\n",
      "Epoch 36/50\n",
      "105/105 [==============================] - 0s 3ms/step - loss: 0.4779 - accuracy: 0.8025 - val_loss: 0.5282 - val_accuracy: 0.7787\n",
      "Epoch 37/50\n",
      "105/105 [==============================] - 0s 3ms/step - loss: 0.4773 - accuracy: 0.8054 - val_loss: 0.5175 - val_accuracy: 0.7679\n",
      "Epoch 38/50\n",
      "105/105 [==============================] - 0s 3ms/step - loss: 0.4777 - accuracy: 0.7950 - val_loss: 0.5448 - val_accuracy: 0.7596\n",
      "Epoch 39/50\n",
      "105/105 [==============================] - 0s 3ms/step - loss: 0.4825 - accuracy: 0.7971 - val_loss: 0.5200 - val_accuracy: 0.7811\n",
      "Epoch 40/50\n",
      "105/105 [==============================] - 0s 2ms/step - loss: 0.4755 - accuracy: 0.8025 - val_loss: 0.5229 - val_accuracy: 0.7811\n",
      "Epoch 41/50\n",
      "105/105 [==============================] - 0s 2ms/step - loss: 0.4745 - accuracy: 0.8057 - val_loss: 0.5148 - val_accuracy: 0.7715\n",
      "Epoch 42/50\n",
      "105/105 [==============================] - 0s 2ms/step - loss: 0.4764 - accuracy: 0.8037 - val_loss: 0.5119 - val_accuracy: 0.7715\n",
      "Epoch 43/50\n",
      "105/105 [==============================] - 0s 2ms/step - loss: 0.4738 - accuracy: 0.8069 - val_loss: 0.5223 - val_accuracy: 0.7632\n",
      "Epoch 44/50\n",
      "105/105 [==============================] - 0s 2ms/step - loss: 0.4713 - accuracy: 0.8037 - val_loss: 0.5129 - val_accuracy: 0.7691\n",
      "Epoch 45/50\n",
      "105/105 [==============================] - 0s 2ms/step - loss: 0.4690 - accuracy: 0.8040 - val_loss: 0.5164 - val_accuracy: 0.7691\n",
      "Epoch 46/50\n",
      "105/105 [==============================] - 0s 2ms/step - loss: 0.4715 - accuracy: 0.8037 - val_loss: 0.5208 - val_accuracy: 0.7727\n",
      "Epoch 47/50\n",
      "105/105 [==============================] - 0s 2ms/step - loss: 0.4661 - accuracy: 0.8054 - val_loss: 0.5123 - val_accuracy: 0.7691\n",
      "Epoch 48/50\n",
      "105/105 [==============================] - 0s 2ms/step - loss: 0.4675 - accuracy: 0.8013 - val_loss: 0.5127 - val_accuracy: 0.7715\n",
      "Epoch 49/50\n",
      "105/105 [==============================] - 0s 2ms/step - loss: 0.4618 - accuracy: 0.8069 - val_loss: 0.5164 - val_accuracy: 0.7787\n",
      "Epoch 50/50\n",
      "105/105 [==============================] - 0s 2ms/step - loss: 0.4655 - accuracy: 0.8010 - val_loss: 0.5159 - val_accuracy: 0.7703\n"
     ]
    }
   ],
   "source": [
    "history2 = new_model.fit(x_train_scaled,y_train,epochs=50,validation_data=(x_test_scaled,y_test))"
   ]
  },
  {
   "cell_type": "code",
   "execution_count": 63,
   "id": "600008df-4d26-4ee6-b46e-39a97e2c95f0",
   "metadata": {},
   "outputs": [
    {
     "name": "stdout",
     "output_type": "stream",
     "text": [
      "105/105 [==============================] - 0s 1ms/step - loss: 0.4536 - accuracy: 0.8123\n"
     ]
    },
    {
     "data": {
      "text/plain": [
       "[0.4536464810371399, 0.8123316168785095]"
      ]
     },
     "execution_count": 63,
     "metadata": {},
     "output_type": "execute_result"
    }
   ],
   "source": [
    "new_model.evaluate(x_train_scaled,y_train)"
   ]
  },
  {
   "cell_type": "code",
   "execution_count": 64,
   "id": "1281c112-0526-462c-8a08-5dc4e347d37d",
   "metadata": {},
   "outputs": [
    {
     "name": "stdout",
     "output_type": "stream",
     "text": [
      "27/27 [==============================] - 0s 2ms/step - loss: 0.5159 - accuracy: 0.7703\n"
     ]
    },
    {
     "data": {
      "text/plain": [
       "[0.5159162878990173, 0.7703348994255066]"
      ]
     },
     "execution_count": 64,
     "metadata": {},
     "output_type": "execute_result"
    }
   ],
   "source": [
    "new_model.evaluate(x_test_scaled,y_test)"
   ]
  },
  {
   "cell_type": "code",
   "execution_count": 65,
   "id": "1aabcbdc-e0e2-4f5b-8dd1-1500aabf5aef",
   "metadata": {},
   "outputs": [
    {
     "data": {
      "text/plain": [
       "<matplotlib.legend.Legend at 0x1a6df3b45e0>"
      ]
     },
     "execution_count": 65,
     "metadata": {},
     "output_type": "execute_result"
    },
    {
     "data": {
      "image/png": "[encoded data removed]",
      "text/plain": [
       "<Figure size 640x480 with 1 Axes>"
      ]
     },
     "metadata": {},
     "output_type": "display_data"
    }
   ],
   "source": [
    "plt.plot(history2.history[\"loss\"], label = \"train\")\n",
    "plt.plot(history2.history[\"val_loss\"], label = \"test\")\n",
    "plt.legend()"
   ]
  },
  {
   "cell_type": "code",
   "execution_count": 66,
   "id": "f7bac540-8fa1-4001-83d6-57bb1bcbe9bf",
   "metadata": {},
   "outputs": [
    {
     "data": {
      "text/plain": [
       "<matplotlib.legend.Legend at 0x1a6df225130>"
      ]
     },
     "execution_count": 66,
     "metadata": {},
     "output_type": "execute_result"
    },
    {
     "data": {
      "image/png": "[encoded data removed]",
      "text/plain": [
       "<Figure size 640x480 with 1 Axes>"
      ]
     },
     "metadata": {},
     "output_type": "display_data"
    }
   ],
   "source": [
    "plt.plot(history2.history[\"accuracy\"],label=\"train\")\n",
    "plt.plot(history2.history[\"val_accuracy\"],label=\"test\")\n",
    "plt.legend()"
   ]
  },
  {
   "cell_type": "markdown",
   "id": "66ac4ad6-1c04-498a-b7c6-e32b6fa1741a",
   "metadata": {},
   "source": [
    "## 5. Fine Tunning "
   ]
  },
  {
   "cell_type": "code",
   "execution_count": 67,
   "id": "5df7516b-bd44-4e70-a931-8f36d78f7acd",
   "metadata": {},
   "outputs": [
    {
     "data": {
      "text/html": [
       "<div>\n",
       "<style scoped>\n",
       "    .dataframe tbody tr th:only-of-type {\n",
       "        vertical-align: middle;\n",
       "    }\n",
       "\n",
       "    .dataframe tbody tr th {\n",
       "        vertical-align: top;\n",
       "    }\n",
       "\n",
       "    .dataframe thead th {\n",
       "        text-align: right;\n",
       "    }\n",
       "</style>\n",
       "<table border=\"1\" class=\"dataframe\">\n",
       "  <thead>\n",
       "    <tr style=\"text-align: right;\">\n",
       "      <th></th>\n",
       "      <th>Layer Type</th>\n",
       "      <th>Layer Name</th>\n",
       "      <th>Layer Trainable</th>\n",
       "    </tr>\n",
       "  </thead>\n",
       "  <tbody>\n",
       "    <tr>\n",
       "      <th>0</th>\n",
       "      <td>&lt;keras.layers.convolutional.conv1d.Conv1D obje...</td>\n",
       "      <td>conv1d_1</td>\n",
       "      <td>True</td>\n",
       "    </tr>\n",
       "    <tr>\n",
       "      <th>1</th>\n",
       "      <td>&lt;keras.layers.pooling.max_pooling1d.MaxPooling...</td>\n",
       "      <td>max_pooling1d_1</td>\n",
       "      <td>True</td>\n",
       "    </tr>\n",
       "    <tr>\n",
       "      <th>2</th>\n",
       "      <td>&lt;keras.layers.convolutional.conv1d.Conv1D obje...</td>\n",
       "      <td>conv1d_2</td>\n",
       "      <td>True</td>\n",
       "    </tr>\n",
       "    <tr>\n",
       "      <th>3</th>\n",
       "      <td>&lt;keras.layers.pooling.max_pooling1d.MaxPooling...</td>\n",
       "      <td>max_pooling1d_2</td>\n",
       "      <td>True</td>\n",
       "    </tr>\n",
       "    <tr>\n",
       "      <th>4</th>\n",
       "      <td>&lt;keras.layers.reshaping.flatten.Flatten object...</td>\n",
       "      <td>flatten_2</td>\n",
       "      <td>True</td>\n",
       "    </tr>\n",
       "    <tr>\n",
       "      <th>5</th>\n",
       "      <td>&lt;keras.layers.core.dense.Dense object at 0x000...</td>\n",
       "      <td>dense_4</td>\n",
       "      <td>True</td>\n",
       "    </tr>\n",
       "    <tr>\n",
       "      <th>6</th>\n",
       "      <td>&lt;keras.layers.core.dense.Dense object at 0x000...</td>\n",
       "      <td>dense_5</td>\n",
       "      <td>True</td>\n",
       "    </tr>\n",
       "  </tbody>\n",
       "</table>\n",
       "</div>"
      ],
      "text/plain": [
       "                                          Layer Type       Layer Name  \\\n",
       "0  <keras.layers.convolutional.conv1d.Conv1D obje...         conv1d_1   \n",
       "1  <keras.layers.pooling.max_pooling1d.MaxPooling...  max_pooling1d_1   \n",
       "2  <keras.layers.convolutional.conv1d.Conv1D obje...         conv1d_2   \n",
       "3  <keras.layers.pooling.max_pooling1d.MaxPooling...  max_pooling1d_2   \n",
       "4  <keras.layers.reshaping.flatten.Flatten object...        flatten_2   \n",
       "5  <keras.layers.core.dense.Dense object at 0x000...          dense_4   \n",
       "6  <keras.layers.core.dense.Dense object at 0x000...          dense_5   \n",
       "\n",
       "   Layer Trainable  \n",
       "0             True  \n",
       "1             True  \n",
       "2             True  \n",
       "3             True  \n",
       "4             True  \n",
       "5             True  \n",
       "6             True  "
      ]
     },
     "execution_count": 67,
     "metadata": {},
     "output_type": "execute_result"
    }
   ],
   "source": [
    "new_model.compile(optimizer='adam', metrics=['accuracy'], loss='sparse_categorical_crossentropy')\n",
    "import pandas as pd\n",
    "display_layers = [(layer, layer.name, layer.trainable) for layer in new_model.layers]\n",
    "pd.DataFrame(display_layers, columns=['Layer Type', 'Layer Name', 'Layer Trainable'])"
   ]
  },
  {
   "cell_type": "code",
   "execution_count": 68,
   "id": "b8475b26-2518-4ea9-8b38-fc648cffa106",
   "metadata": {},
   "outputs": [
    {
     "name": "stdout",
     "output_type": "stream",
     "text": [
      "Epoch 1/50\n",
      "105/105 [==============================] - 1s 4ms/step - loss: 0.4670 - accuracy: 0.8022 - val_loss: 0.5133 - val_accuracy: 0.7727\n",
      "Epoch 2/50\n",
      "105/105 [==============================] - 0s 3ms/step - loss: 0.4632 - accuracy: 0.8066 - val_loss: 0.5247 - val_accuracy: 0.7656\n",
      "Epoch 3/50\n",
      "105/105 [==============================] - 0s 3ms/step - loss: 0.4611 - accuracy: 0.8093 - val_loss: 0.5261 - val_accuracy: 0.7751\n",
      "Epoch 4/50\n",
      "105/105 [==============================] - 0s 3ms/step - loss: 0.4605 - accuracy: 0.8028 - val_loss: 0.5217 - val_accuracy: 0.7632\n",
      "Epoch 5/50\n",
      "105/105 [==============================] - 0s 3ms/step - loss: 0.4569 - accuracy: 0.8129 - val_loss: 0.5169 - val_accuracy: 0.7656\n",
      "Epoch 6/50\n",
      "105/105 [==============================] - 0s 3ms/step - loss: 0.4569 - accuracy: 0.8093 - val_loss: 0.5342 - val_accuracy: 0.7667\n",
      "Epoch 7/50\n",
      "105/105 [==============================] - 0s 3ms/step - loss: 0.4581 - accuracy: 0.8078 - val_loss: 0.5177 - val_accuracy: 0.7739\n",
      "Epoch 8/50\n",
      "105/105 [==============================] - 0s 3ms/step - loss: 0.4515 - accuracy: 0.8081 - val_loss: 0.5254 - val_accuracy: 0.7632\n",
      "Epoch 9/50\n",
      "105/105 [==============================] - 0s 3ms/step - loss: 0.4569 - accuracy: 0.8096 - val_loss: 0.5236 - val_accuracy: 0.7727\n",
      "Epoch 10/50\n",
      "105/105 [==============================] - 0s 3ms/step - loss: 0.4534 - accuracy: 0.8096 - val_loss: 0.5198 - val_accuracy: 0.7632\n",
      "Epoch 11/50\n",
      "105/105 [==============================] - 0s 3ms/step - loss: 0.4607 - accuracy: 0.8031 - val_loss: 0.5279 - val_accuracy: 0.7667\n",
      "Epoch 12/50\n",
      "105/105 [==============================] - 0s 3ms/step - loss: 0.4502 - accuracy: 0.8144 - val_loss: 0.5384 - val_accuracy: 0.7620\n",
      "Epoch 13/50\n",
      "105/105 [==============================] - 0s 3ms/step - loss: 0.4557 - accuracy: 0.8126 - val_loss: 0.5177 - val_accuracy: 0.7715\n",
      "Epoch 14/50\n",
      "105/105 [==============================] - 0s 2ms/step - loss: 0.4492 - accuracy: 0.8066 - val_loss: 0.5320 - val_accuracy: 0.7667\n",
      "Epoch 15/50\n",
      "105/105 [==============================] - 0s 2ms/step - loss: 0.4526 - accuracy: 0.8048 - val_loss: 0.5230 - val_accuracy: 0.7727\n",
      "Epoch 16/50\n",
      "105/105 [==============================] - 0s 2ms/step - loss: 0.4519 - accuracy: 0.8081 - val_loss: 0.5225 - val_accuracy: 0.7703\n",
      "Epoch 17/50\n",
      "105/105 [==============================] - 0s 3ms/step - loss: 0.4454 - accuracy: 0.8159 - val_loss: 0.5215 - val_accuracy: 0.7608\n",
      "Epoch 18/50\n",
      "105/105 [==============================] - 0s 2ms/step - loss: 0.4423 - accuracy: 0.8144 - val_loss: 0.5388 - val_accuracy: 0.7632\n",
      "Epoch 19/50\n",
      "105/105 [==============================] - 0s 3ms/step - loss: 0.4489 - accuracy: 0.8081 - val_loss: 0.5375 - val_accuracy: 0.7608\n",
      "Epoch 20/50\n",
      "105/105 [==============================] - 0s 3ms/step - loss: 0.4461 - accuracy: 0.8108 - val_loss: 0.5339 - val_accuracy: 0.7584\n",
      "Epoch 21/50\n",
      "105/105 [==============================] - 0s 3ms/step - loss: 0.4424 - accuracy: 0.8135 - val_loss: 0.5314 - val_accuracy: 0.7715\n",
      "Epoch 22/50\n",
      "105/105 [==============================] - 0s 3ms/step - loss: 0.4473 - accuracy: 0.8162 - val_loss: 0.5380 - val_accuracy: 0.7763\n",
      "Epoch 23/50\n",
      "105/105 [==============================] - 0s 3ms/step - loss: 0.4396 - accuracy: 0.8159 - val_loss: 0.5225 - val_accuracy: 0.7620\n",
      "Epoch 24/50\n",
      "105/105 [==============================] - 0s 3ms/step - loss: 0.4348 - accuracy: 0.8171 - val_loss: 0.5280 - val_accuracy: 0.7608\n",
      "Epoch 25/50\n",
      "105/105 [==============================] - 0s 3ms/step - loss: 0.4388 - accuracy: 0.8177 - val_loss: 0.5433 - val_accuracy: 0.7656\n",
      "Epoch 26/50\n",
      "105/105 [==============================] - 0s 3ms/step - loss: 0.4422 - accuracy: 0.8099 - val_loss: 0.5271 - val_accuracy: 0.7787\n",
      "Epoch 27/50\n",
      "105/105 [==============================] - 0s 3ms/step - loss: 0.4422 - accuracy: 0.8156 - val_loss: 0.5325 - val_accuracy: 0.7656\n",
      "Epoch 28/50\n",
      "105/105 [==============================] - 0s 3ms/step - loss: 0.4356 - accuracy: 0.8177 - val_loss: 0.5383 - val_accuracy: 0.7632\n",
      "Epoch 29/50\n",
      "105/105 [==============================] - 0s 2ms/step - loss: 0.4359 - accuracy: 0.8171 - val_loss: 0.5331 - val_accuracy: 0.7524\n",
      "Epoch 30/50\n",
      "105/105 [==============================] - 0s 2ms/step - loss: 0.4336 - accuracy: 0.8168 - val_loss: 0.5279 - val_accuracy: 0.7656\n",
      "Epoch 31/50\n",
      "105/105 [==============================] - 0s 2ms/step - loss: 0.4295 - accuracy: 0.8195 - val_loss: 0.5332 - val_accuracy: 0.7644\n",
      "Epoch 32/50\n",
      "105/105 [==============================] - 0s 3ms/step - loss: 0.4328 - accuracy: 0.8177 - val_loss: 0.5334 - val_accuracy: 0.7524\n",
      "Epoch 33/50\n",
      "105/105 [==============================] - 0s 3ms/step - loss: 0.4316 - accuracy: 0.8165 - val_loss: 0.5398 - val_accuracy: 0.7751\n",
      "Epoch 34/50\n",
      "105/105 [==============================] - 0s 3ms/step - loss: 0.4320 - accuracy: 0.8186 - val_loss: 0.5549 - val_accuracy: 0.7584\n",
      "Epoch 35/50\n",
      "105/105 [==============================] - 0s 3ms/step - loss: 0.4354 - accuracy: 0.8150 - val_loss: 0.5371 - val_accuracy: 0.7608\n",
      "Epoch 36/50\n",
      "105/105 [==============================] - 0s 3ms/step - loss: 0.4283 - accuracy: 0.8213 - val_loss: 0.5360 - val_accuracy: 0.7656\n",
      "Epoch 37/50\n",
      "105/105 [==============================] - 0s 3ms/step - loss: 0.4271 - accuracy: 0.8150 - val_loss: 0.5366 - val_accuracy: 0.7548\n",
      "Epoch 38/50\n",
      "105/105 [==============================] - 0s 3ms/step - loss: 0.4240 - accuracy: 0.8231 - val_loss: 0.5803 - val_accuracy: 0.7560\n",
      "Epoch 39/50\n",
      "105/105 [==============================] - 0s 3ms/step - loss: 0.4235 - accuracy: 0.8204 - val_loss: 0.5377 - val_accuracy: 0.7667\n",
      "Epoch 40/50\n",
      "105/105 [==============================] - 0s 3ms/step - loss: 0.4190 - accuracy: 0.8234 - val_loss: 0.5415 - val_accuracy: 0.7656\n",
      "Epoch 41/50\n",
      "105/105 [==============================] - 0s 3ms/step - loss: 0.4231 - accuracy: 0.8234 - val_loss: 0.5409 - val_accuracy: 0.7536\n",
      "Epoch 42/50\n",
      "105/105 [==============================] - 0s 3ms/step - loss: 0.4157 - accuracy: 0.8237 - val_loss: 0.5446 - val_accuracy: 0.7620\n",
      "Epoch 43/50\n",
      "105/105 [==============================] - 0s 2ms/step - loss: 0.4236 - accuracy: 0.8132 - val_loss: 0.5435 - val_accuracy: 0.7620\n",
      "Epoch 44/50\n",
      "105/105 [==============================] - 0s 2ms/step - loss: 0.4208 - accuracy: 0.8255 - val_loss: 0.5500 - val_accuracy: 0.7596\n",
      "Epoch 45/50\n",
      "105/105 [==============================] - 0s 2ms/step - loss: 0.4144 - accuracy: 0.8237 - val_loss: 0.5522 - val_accuracy: 0.7608\n",
      "Epoch 46/50\n",
      "105/105 [==============================] - 0s 2ms/step - loss: 0.4149 - accuracy: 0.8234 - val_loss: 0.5646 - val_accuracy: 0.7464\n",
      "Epoch 47/50\n",
      "105/105 [==============================] - 0s 2ms/step - loss: 0.4210 - accuracy: 0.8210 - val_loss: 0.5654 - val_accuracy: 0.7536\n",
      "Epoch 48/50\n",
      "105/105 [==============================] - 0s 3ms/step - loss: 0.4123 - accuracy: 0.8249 - val_loss: 0.5545 - val_accuracy: 0.7584\n",
      "Epoch 49/50\n",
      "105/105 [==============================] - 0s 3ms/step - loss: 0.4183 - accuracy: 0.8204 - val_loss: 0.5507 - val_accuracy: 0.7512\n",
      "Epoch 50/50\n",
      "105/105 [==============================] - 0s 3ms/step - loss: 0.4085 - accuracy: 0.8219 - val_loss: 0.5542 - val_accuracy: 0.7560\n"
     ]
    }
   ],
   "source": [
    "history3 = new_model.fit(x_train_scaled,y_train,epochs=50,validation_data=(x_test_scaled,y_test),shuffle=True)"
   ]
  },
  {
   "cell_type": "code",
   "execution_count": 69,
   "id": "8a843843-0646-4403-b1e7-220b692591dc",
   "metadata": {},
   "outputs": [
    {
     "name": "stdout",
     "output_type": "stream",
     "text": [
      "105/105 [==============================] - 0s 2ms/step - loss: 0.3920 - accuracy: 0.8342\n"
     ]
    },
    {
     "data": {
      "text/plain": [
       "[0.3920021057128906, 0.8341813683509827]"
      ]
     },
     "execution_count": 69,
     "metadata": {},
     "output_type": "execute_result"
    }
   ],
   "source": [
    "new_model.evaluate(x_train_scaled,y_train)"
   ]
  },
  {
   "cell_type": "code",
   "execution_count": 70,
   "id": "91ac0a5c-8e9c-4294-b75d-cfae938735e1",
   "metadata": {},
   "outputs": [
    {
     "name": "stdout",
     "output_type": "stream",
     "text": [
      "27/27 [==============================] - 0s 2ms/step - loss: 0.5542 - accuracy: 0.7560\n"
     ]
    },
    {
     "data": {
      "text/plain": [
       "[0.5542469024658203, 0.7559808492660522]"
      ]
     },
     "execution_count": 70,
     "metadata": {},
     "output_type": "execute_result"
    }
   ],
   "source": [
    "new_model.evaluate(x_test_scaled,y_test)"
   ]
  },
  {
   "cell_type": "markdown",
   "id": "dc80dea2-4148-4090-b751-145129ad7d2e",
   "metadata": {},
   "source": [
    "* **과대 적합-> 규제 적용**\n",
    "* **Dropout,BatchNormalization 추가**"
   ]
  },
  {
   "cell_type": "code",
   "execution_count": 71,
   "id": "a4a95f12-0efc-45ea-bd78-03fcd27b4ab6",
   "metadata": {},
   "outputs": [
    {
     "name": "stdout",
     "output_type": "stream",
     "text": [
      "(3341, 10, 1)\n",
      "(836, 10, 1)\n"
     ]
    }
   ],
   "source": [
    "print(x_train_scaled.shape)\n",
    "print(x_test_scaled.shape)"
   ]
  },
  {
   "cell_type": "code",
   "execution_count": 72,
   "id": "38887237-0a78-4b20-8bdc-4d0536fe572d",
   "metadata": {},
   "outputs": [
    {
     "name": "stdout",
     "output_type": "stream",
     "text": [
      "Model: \"sequential_2\"\n",
      "_________________________________________________________________\n",
      " Layer (type)                Output Shape              Param #   \n",
      "=================================================================\n",
      " conv1d_1 (Conv1D)           (None, 8, 32)             128       \n",
      "                                                                 \n",
      " max_pooling1d_1 (MaxPooling  (None, 4, 32)            0         \n",
      " 1D)                                                             \n",
      "                                                                 \n",
      " conv1d_2 (Conv1D)           (None, 2, 64)             6208      \n",
      "                                                                 \n",
      " max_pooling1d_2 (MaxPooling  (None, 1, 64)            0         \n",
      " 1D)                                                             \n",
      "                                                                 \n",
      " flatten_2 (Flatten)         (None, 64)                0         \n",
      "                                                                 \n",
      " dense_4 (Dense)             (None, 64)                4160      \n",
      "                                                                 \n",
      " dense_5 (Dense)             (None, 3)                 195       \n",
      "                                                                 \n",
      "=================================================================\n",
      "Total params: 10,691\n",
      "Trainable params: 10,691\n",
      "Non-trainable params: 0\n",
      "_________________________________________________________________\n"
     ]
    }
   ],
   "source": [
    "new_model.summary()"
   ]
  },
  {
   "cell_type": "code",
   "execution_count": 73,
   "id": "eb14d302-9067-4cae-a880-529357146239",
   "metadata": {},
   "outputs": [
    {
     "name": "stdout",
     "output_type": "stream",
     "text": [
      "Model: \"sequential_3\"\n",
      "_________________________________________________________________\n",
      " Layer (type)                Output Shape              Param #   \n",
      "=================================================================\n",
      " conv1d_1 (Conv1D)           (None, 8, 32)             128       \n",
      "                                                                 \n",
      " max_pooling1d_1 (MaxPooling  (None, 4, 32)            0         \n",
      " 1D)                                                             \n",
      "                                                                 \n",
      "=================================================================\n",
      "Total params: 128\n",
      "Trainable params: 128\n",
      "Non-trainable params: 0\n",
      "_________________________________________________________________\n"
     ]
    }
   ],
   "source": [
    "new_model = remove_last_layers(new_model, 5)\n",
    "new_model.summary()"
   ]
  },
  {
   "cell_type": "code",
   "execution_count": 74,
   "id": "bf7d6ce4-5e67-4d97-95a2-e25e09cc953a",
   "metadata": {},
   "outputs": [
    {
     "name": "stdout",
     "output_type": "stream",
     "text": [
      "Model: \"sequential_3\"\n",
      "_________________________________________________________________\n",
      " Layer (type)                Output Shape              Param #   \n",
      "=================================================================\n",
      " conv1d_1 (Conv1D)           (None, 8, 32)             128       \n",
      "                                                                 \n",
      " max_pooling1d_1 (MaxPooling  (None, 4, 32)            0         \n",
      " 1D)                                                             \n",
      "                                                                 \n",
      " dropout (Dropout)           (None, 4, 32)             0         \n",
      "                                                                 \n",
      " conv1d_3 (Conv1D)           (None, 2, 64)             6208      \n",
      "                                                                 \n",
      " batch_normalization (BatchN  (None, 2, 64)            256       \n",
      " ormalization)                                                   \n",
      "                                                                 \n",
      " max_pooling1d_3 (MaxPooling  (None, 1, 64)            0         \n",
      " 1D)                                                             \n",
      "                                                                 \n",
      " dropout_1 (Dropout)         (None, 1, 64)             0         \n",
      "                                                                 \n",
      " flatten_3 (Flatten)         (None, 64)                0         \n",
      "                                                                 \n",
      " dense_6 (Dense)             (None, 64)                4160      \n",
      "                                                                 \n",
      " batch_normalization_1 (Batc  (None, 64)               256       \n",
      " hNormalization)                                                 \n",
      "                                                                 \n",
      " dropout_2 (Dropout)         (None, 64)                0         \n",
      "                                                                 \n",
      " dense_7 (Dense)             (None, 3)                 195       \n",
      "                                                                 \n",
      "=================================================================\n",
      "Total params: 11,203\n",
      "Trainable params: 10,947\n",
      "Non-trainable params: 256\n",
      "_________________________________________________________________\n"
     ]
    }
   ],
   "source": [
    "from tensorflow.keras.layers import Dropout, BatchNormalization\n",
    "\n",
    "new_model.add(Dropout(0.5))\n",
    "new_model.add(Conv1D(64,kernel_size=3,activation='relu'))\n",
    "new_model.add(BatchNormalization())\n",
    "new_model.add(MaxPooling1D(pool_size=2))\n",
    "new_model.add(Dropout(0.5))\n",
    "\n",
    "new_model.add(Flatten())\n",
    "new_model.add(Dense(64,activation='relu'))\n",
    "new_model.add(BatchNormalization())\n",
    "new_model.add(Dropout(0.5))\n",
    "new_model.add(Dense(3,activation='softmax'))\n",
    "\n",
    "new_model.summary()"
   ]
  },
  {
   "cell_type": "code",
   "execution_count": 75,
   "id": "b51fe158-c6c3-46c2-8afe-77f072a27206",
   "metadata": {},
   "outputs": [],
   "source": [
    "new_model.compile(optimizer='adam',loss='sparse_categorical_crossentropy',metrics=['accuracy'])\n"
   ]
  },
  {
   "cell_type": "code",
   "execution_count": 76,
   "id": "bec38d4e-f1d0-475d-857b-9cded3aed798",
   "metadata": {},
   "outputs": [
    {
     "name": "stdout",
     "output_type": "stream",
     "text": [
      "Epoch 1/100\n",
      "105/105 [==============================] - 2s 6ms/step - loss: 1.3503 - accuracy: 0.4765 - val_loss: 0.7609 - val_accuracy: 0.7105\n",
      "Epoch 2/100\n",
      "105/105 [==============================] - 0s 4ms/step - loss: 0.9846 - accuracy: 0.6073 - val_loss: 0.6995 - val_accuracy: 0.7261\n",
      "Epoch 3/100\n",
      "105/105 [==============================] - 0s 4ms/step - loss: 0.8591 - accuracy: 0.6477 - val_loss: 0.6748 - val_accuracy: 0.7297\n",
      "Epoch 4/100\n",
      "105/105 [==============================] - 0s 4ms/step - loss: 0.8100 - accuracy: 0.6522 - val_loss: 0.6604 - val_accuracy: 0.7309\n",
      "Epoch 5/100\n",
      "105/105 [==============================] - 0s 5ms/step - loss: 0.7777 - accuracy: 0.6806 - val_loss: 0.6509 - val_accuracy: 0.7309\n",
      "Epoch 6/100\n",
      "105/105 [==============================] - 0s 5ms/step - loss: 0.7300 - accuracy: 0.6935 - val_loss: 0.6409 - val_accuracy: 0.7273\n",
      "Epoch 7/100\n",
      "105/105 [==============================] - 0s 4ms/step - loss: 0.7262 - accuracy: 0.7001 - val_loss: 0.6376 - val_accuracy: 0.7273\n",
      "Epoch 8/100\n",
      "105/105 [==============================] - 0s 3ms/step - loss: 0.6988 - accuracy: 0.7157 - val_loss: 0.6389 - val_accuracy: 0.7285\n",
      "Epoch 9/100\n",
      "105/105 [==============================] - 0s 3ms/step - loss: 0.6772 - accuracy: 0.7174 - val_loss: 0.6374 - val_accuracy: 0.7285\n",
      "Epoch 10/100\n",
      "105/105 [==============================] - 0s 3ms/step - loss: 0.6901 - accuracy: 0.7154 - val_loss: 0.6336 - val_accuracy: 0.7285\n",
      "Epoch 11/100\n",
      "105/105 [==============================] - 0s 3ms/step - loss: 0.6813 - accuracy: 0.7195 - val_loss: 0.6253 - val_accuracy: 0.7297\n",
      "Epoch 12/100\n",
      "105/105 [==============================] - 0s 3ms/step - loss: 0.6669 - accuracy: 0.7243 - val_loss: 0.6222 - val_accuracy: 0.7321\n",
      "Epoch 13/100\n",
      "105/105 [==============================] - 0s 3ms/step - loss: 0.6651 - accuracy: 0.7136 - val_loss: 0.6140 - val_accuracy: 0.7344\n",
      "Epoch 14/100\n",
      "105/105 [==============================] - 0s 3ms/step - loss: 0.6571 - accuracy: 0.7273 - val_loss: 0.6080 - val_accuracy: 0.7333\n",
      "Epoch 15/100\n",
      "105/105 [==============================] - 0s 3ms/step - loss: 0.6519 - accuracy: 0.7258 - val_loss: 0.6081 - val_accuracy: 0.7321\n",
      "Epoch 16/100\n",
      "105/105 [==============================] - 0s 3ms/step - loss: 0.6539 - accuracy: 0.7246 - val_loss: 0.6026 - val_accuracy: 0.7356\n",
      "Epoch 17/100\n",
      "105/105 [==============================] - 0s 4ms/step - loss: 0.6402 - accuracy: 0.7402 - val_loss: 0.5919 - val_accuracy: 0.7392\n",
      "Epoch 18/100\n",
      "105/105 [==============================] - 0s 4ms/step - loss: 0.6385 - accuracy: 0.7375 - val_loss: 0.6058 - val_accuracy: 0.7321\n",
      "Epoch 19/100\n",
      "105/105 [==============================] - 0s 3ms/step - loss: 0.6395 - accuracy: 0.7297 - val_loss: 0.6066 - val_accuracy: 0.7321\n",
      "Epoch 20/100\n",
      "105/105 [==============================] - 0s 4ms/step - loss: 0.6404 - accuracy: 0.7300 - val_loss: 0.5881 - val_accuracy: 0.7464\n",
      "Epoch 21/100\n",
      "105/105 [==============================] - 0s 3ms/step - loss: 0.6297 - accuracy: 0.7345 - val_loss: 0.5800 - val_accuracy: 0.7452\n",
      "Epoch 22/100\n",
      "105/105 [==============================] - 0s 3ms/step - loss: 0.6277 - accuracy: 0.7357 - val_loss: 0.5729 - val_accuracy: 0.7488\n",
      "Epoch 23/100\n",
      "105/105 [==============================] - 0s 3ms/step - loss: 0.6312 - accuracy: 0.7369 - val_loss: 0.5757 - val_accuracy: 0.7416\n",
      "Epoch 24/100\n",
      "105/105 [==============================] - 0s 3ms/step - loss: 0.6230 - accuracy: 0.7342 - val_loss: 0.5709 - val_accuracy: 0.7476\n",
      "Epoch 25/100\n",
      "105/105 [==============================] - 0s 3ms/step - loss: 0.6221 - accuracy: 0.7420 - val_loss: 0.5729 - val_accuracy: 0.7464\n",
      "Epoch 26/100\n",
      "105/105 [==============================] - 0s 3ms/step - loss: 0.6335 - accuracy: 0.7324 - val_loss: 0.5804 - val_accuracy: 0.7380\n",
      "Epoch 27/100\n",
      "105/105 [==============================] - 0s 4ms/step - loss: 0.6338 - accuracy: 0.7342 - val_loss: 0.5731 - val_accuracy: 0.7380\n",
      "Epoch 28/100\n",
      "105/105 [==============================] - 0s 4ms/step - loss: 0.6167 - accuracy: 0.7429 - val_loss: 0.5683 - val_accuracy: 0.7476\n",
      "Epoch 29/100\n",
      "105/105 [==============================] - 0s 4ms/step - loss: 0.6186 - accuracy: 0.7375 - val_loss: 0.5685 - val_accuracy: 0.7512\n",
      "Epoch 30/100\n",
      "105/105 [==============================] - 0s 4ms/step - loss: 0.6083 - accuracy: 0.7426 - val_loss: 0.5588 - val_accuracy: 0.7536\n",
      "Epoch 31/100\n",
      "105/105 [==============================] - 0s 4ms/step - loss: 0.6022 - accuracy: 0.7444 - val_loss: 0.5580 - val_accuracy: 0.7536\n",
      "Epoch 32/100\n",
      "105/105 [==============================] - 0s 3ms/step - loss: 0.6134 - accuracy: 0.7441 - val_loss: 0.5586 - val_accuracy: 0.7548\n",
      "Epoch 33/100\n",
      "105/105 [==============================] - 0s 3ms/step - loss: 0.6073 - accuracy: 0.7375 - val_loss: 0.5552 - val_accuracy: 0.7572\n",
      "Epoch 34/100\n",
      "105/105 [==============================] - 0s 3ms/step - loss: 0.5993 - accuracy: 0.7432 - val_loss: 0.5526 - val_accuracy: 0.7500\n",
      "Epoch 35/100\n",
      "105/105 [==============================] - 0s 3ms/step - loss: 0.6004 - accuracy: 0.7504 - val_loss: 0.5519 - val_accuracy: 0.7584\n",
      "Epoch 36/100\n",
      "105/105 [==============================] - 0s 3ms/step - loss: 0.6042 - accuracy: 0.7405 - val_loss: 0.5491 - val_accuracy: 0.7548\n",
      "Epoch 37/100\n",
      "105/105 [==============================] - 0s 3ms/step - loss: 0.5988 - accuracy: 0.7492 - val_loss: 0.5508 - val_accuracy: 0.7584\n",
      "Epoch 38/100\n",
      "105/105 [==============================] - 0s 4ms/step - loss: 0.6080 - accuracy: 0.7441 - val_loss: 0.5537 - val_accuracy: 0.7536\n",
      "Epoch 39/100\n",
      "105/105 [==============================] - 0s 4ms/step - loss: 0.5945 - accuracy: 0.7516 - val_loss: 0.5478 - val_accuracy: 0.7596\n",
      "Epoch 40/100\n",
      "105/105 [==============================] - 0s 4ms/step - loss: 0.6003 - accuracy: 0.7402 - val_loss: 0.5510 - val_accuracy: 0.7476\n",
      "Epoch 41/100\n",
      "105/105 [==============================] - 0s 4ms/step - loss: 0.6126 - accuracy: 0.7402 - val_loss: 0.5450 - val_accuracy: 0.7608\n",
      "Epoch 42/100\n",
      "105/105 [==============================] - 0s 3ms/step - loss: 0.5958 - accuracy: 0.7468 - val_loss: 0.5496 - val_accuracy: 0.7560\n",
      "Epoch 43/100\n",
      "105/105 [==============================] - 0s 4ms/step - loss: 0.5832 - accuracy: 0.7522 - val_loss: 0.5454 - val_accuracy: 0.7644\n",
      "Epoch 44/100\n",
      "105/105 [==============================] - 0s 4ms/step - loss: 0.5895 - accuracy: 0.7417 - val_loss: 0.5405 - val_accuracy: 0.7608\n",
      "Epoch 45/100\n",
      "105/105 [==============================] - 0s 3ms/step - loss: 0.5877 - accuracy: 0.7501 - val_loss: 0.5409 - val_accuracy: 0.7596\n",
      "Epoch 46/100\n",
      "105/105 [==============================] - 0s 3ms/step - loss: 0.5920 - accuracy: 0.7498 - val_loss: 0.5460 - val_accuracy: 0.7572\n",
      "Epoch 47/100\n",
      "105/105 [==============================] - 0s 4ms/step - loss: 0.5905 - accuracy: 0.7495 - val_loss: 0.5417 - val_accuracy: 0.7548\n",
      "Epoch 48/100\n",
      "105/105 [==============================] - 0s 4ms/step - loss: 0.5877 - accuracy: 0.7531 - val_loss: 0.5400 - val_accuracy: 0.7584\n",
      "Epoch 49/100\n",
      "105/105 [==============================] - 0s 4ms/step - loss: 0.5991 - accuracy: 0.7576 - val_loss: 0.5380 - val_accuracy: 0.7572\n",
      "Epoch 50/100\n",
      "105/105 [==============================] - 0s 4ms/step - loss: 0.5965 - accuracy: 0.7489 - val_loss: 0.5381 - val_accuracy: 0.7608\n",
      "Epoch 51/100\n",
      "105/105 [==============================] - 0s 4ms/step - loss: 0.5974 - accuracy: 0.7489 - val_loss: 0.5373 - val_accuracy: 0.7667\n",
      "Epoch 52/100\n",
      "105/105 [==============================] - 0s 4ms/step - loss: 0.5948 - accuracy: 0.7510 - val_loss: 0.5445 - val_accuracy: 0.7596\n",
      "Epoch 53/100\n",
      "105/105 [==============================] - 0s 4ms/step - loss: 0.5884 - accuracy: 0.7456 - val_loss: 0.5377 - val_accuracy: 0.7608\n",
      "Epoch 54/100\n",
      "105/105 [==============================] - 0s 3ms/step - loss: 0.6021 - accuracy: 0.7438 - val_loss: 0.5457 - val_accuracy: 0.7596\n",
      "Epoch 55/100\n",
      "105/105 [==============================] - 0s 3ms/step - loss: 0.5832 - accuracy: 0.7525 - val_loss: 0.5517 - val_accuracy: 0.7524\n",
      "Epoch 56/100\n",
      "105/105 [==============================] - 0s 3ms/step - loss: 0.5967 - accuracy: 0.7423 - val_loss: 0.5364 - val_accuracy: 0.7656\n",
      "Epoch 57/100\n",
      "105/105 [==============================] - 0s 3ms/step - loss: 0.5903 - accuracy: 0.7471 - val_loss: 0.5419 - val_accuracy: 0.7560\n"
     ]
    },
    {
     "name": "stdout",
     "output_type": "stream",
     "text": [
      "Epoch 58/100\n",
      "105/105 [==============================] - 0s 3ms/step - loss: 0.5944 - accuracy: 0.7456 - val_loss: 0.5400 - val_accuracy: 0.7572\n",
      "Epoch 59/100\n",
      "105/105 [==============================] - 0s 4ms/step - loss: 0.5864 - accuracy: 0.7558 - val_loss: 0.5358 - val_accuracy: 0.7644\n",
      "Epoch 60/100\n",
      "105/105 [==============================] - 0s 4ms/step - loss: 0.5990 - accuracy: 0.7462 - val_loss: 0.5355 - val_accuracy: 0.7644\n",
      "Epoch 61/100\n",
      "105/105 [==============================] - 0s 4ms/step - loss: 0.5857 - accuracy: 0.7522 - val_loss: 0.5322 - val_accuracy: 0.7691\n",
      "Epoch 62/100\n",
      "105/105 [==============================] - 0s 4ms/step - loss: 0.5917 - accuracy: 0.7510 - val_loss: 0.5343 - val_accuracy: 0.7667\n",
      "Epoch 63/100\n",
      "105/105 [==============================] - 0s 4ms/step - loss: 0.5757 - accuracy: 0.7558 - val_loss: 0.5364 - val_accuracy: 0.7596\n",
      "Epoch 64/100\n",
      "105/105 [==============================] - 0s 4ms/step - loss: 0.5996 - accuracy: 0.7411 - val_loss: 0.5306 - val_accuracy: 0.7679\n",
      "Epoch 65/100\n",
      "105/105 [==============================] - 0s 4ms/step - loss: 0.5801 - accuracy: 0.7609 - val_loss: 0.5319 - val_accuracy: 0.7656\n",
      "Epoch 66/100\n",
      "105/105 [==============================] - 0s 3ms/step - loss: 0.5890 - accuracy: 0.7516 - val_loss: 0.5299 - val_accuracy: 0.7691\n",
      "Epoch 67/100\n",
      "105/105 [==============================] - 0s 3ms/step - loss: 0.5906 - accuracy: 0.7606 - val_loss: 0.5340 - val_accuracy: 0.7644\n",
      "Epoch 68/100\n",
      "105/105 [==============================] - 0s 3ms/step - loss: 0.5845 - accuracy: 0.7606 - val_loss: 0.5392 - val_accuracy: 0.7632\n",
      "Epoch 69/100\n",
      "105/105 [==============================] - 0s 3ms/step - loss: 0.5743 - accuracy: 0.7617 - val_loss: 0.5437 - val_accuracy: 0.7620\n",
      "Epoch 70/100\n",
      "105/105 [==============================] - 0s 3ms/step - loss: 0.5766 - accuracy: 0.7558 - val_loss: 0.5321 - val_accuracy: 0.7715\n",
      "Epoch 71/100\n",
      "105/105 [==============================] - 0s 4ms/step - loss: 0.5784 - accuracy: 0.7468 - val_loss: 0.5319 - val_accuracy: 0.7667\n",
      "Epoch 72/100\n",
      "105/105 [==============================] - 0s 4ms/step - loss: 0.5753 - accuracy: 0.7573 - val_loss: 0.5345 - val_accuracy: 0.7775\n",
      "Epoch 73/100\n",
      "105/105 [==============================] - 0s 4ms/step - loss: 0.5848 - accuracy: 0.7537 - val_loss: 0.5309 - val_accuracy: 0.7632\n",
      "Epoch 74/100\n",
      "105/105 [==============================] - 0s 3ms/step - loss: 0.5801 - accuracy: 0.7540 - val_loss: 0.5326 - val_accuracy: 0.7620\n",
      "Epoch 75/100\n",
      "105/105 [==============================] - 0s 3ms/step - loss: 0.5790 - accuracy: 0.7516 - val_loss: 0.5320 - val_accuracy: 0.7679\n",
      "Epoch 76/100\n",
      "105/105 [==============================] - 0s 3ms/step - loss: 0.5870 - accuracy: 0.7537 - val_loss: 0.5392 - val_accuracy: 0.7572\n",
      "Epoch 77/100\n",
      "105/105 [==============================] - 0s 3ms/step - loss: 0.5797 - accuracy: 0.7582 - val_loss: 0.5319 - val_accuracy: 0.7632\n",
      "Epoch 78/100\n",
      "105/105 [==============================] - 0s 3ms/step - loss: 0.5798 - accuracy: 0.7570 - val_loss: 0.5292 - val_accuracy: 0.7667\n",
      "Epoch 79/100\n",
      "105/105 [==============================] - 0s 3ms/step - loss: 0.5735 - accuracy: 0.7611 - val_loss: 0.5315 - val_accuracy: 0.7679\n",
      "Epoch 80/100\n",
      "105/105 [==============================] - 0s 3ms/step - loss: 0.5912 - accuracy: 0.7585 - val_loss: 0.5344 - val_accuracy: 0.7691\n",
      "Epoch 81/100\n",
      "105/105 [==============================] - 0s 4ms/step - loss: 0.5826 - accuracy: 0.7492 - val_loss: 0.5354 - val_accuracy: 0.7632\n",
      "Epoch 82/100\n",
      "105/105 [==============================] - 0s 4ms/step - loss: 0.5892 - accuracy: 0.7579 - val_loss: 0.5386 - val_accuracy: 0.7608\n",
      "Epoch 83/100\n",
      "105/105 [==============================] - 0s 4ms/step - loss: 0.5696 - accuracy: 0.7567 - val_loss: 0.5310 - val_accuracy: 0.7667\n",
      "Epoch 84/100\n",
      "105/105 [==============================] - 0s 4ms/step - loss: 0.5779 - accuracy: 0.7635 - val_loss: 0.5378 - val_accuracy: 0.7679\n",
      "Epoch 85/100\n",
      "105/105 [==============================] - 0s 4ms/step - loss: 0.5834 - accuracy: 0.7585 - val_loss: 0.5561 - val_accuracy: 0.7440\n",
      "Epoch 86/100\n",
      "105/105 [==============================] - 0s 3ms/step - loss: 0.5691 - accuracy: 0.7582 - val_loss: 0.5305 - val_accuracy: 0.7703\n",
      "Epoch 87/100\n",
      "105/105 [==============================] - 0s 3ms/step - loss: 0.5810 - accuracy: 0.7632 - val_loss: 0.5315 - val_accuracy: 0.7739\n",
      "Epoch 88/100\n",
      "105/105 [==============================] - 0s 3ms/step - loss: 0.5784 - accuracy: 0.7611 - val_loss: 0.5283 - val_accuracy: 0.7799\n",
      "Epoch 89/100\n",
      "105/105 [==============================] - 0s 3ms/step - loss: 0.5693 - accuracy: 0.7564 - val_loss: 0.5315 - val_accuracy: 0.7644\n",
      "Epoch 90/100\n",
      "105/105 [==============================] - 0s 3ms/step - loss: 0.5814 - accuracy: 0.7543 - val_loss: 0.5325 - val_accuracy: 0.7644\n",
      "Epoch 91/100\n",
      "105/105 [==============================] - 0s 3ms/step - loss: 0.5694 - accuracy: 0.7620 - val_loss: 0.5303 - val_accuracy: 0.7703\n",
      "Epoch 92/100\n",
      "105/105 [==============================] - 0s 3ms/step - loss: 0.5728 - accuracy: 0.7609 - val_loss: 0.5319 - val_accuracy: 0.7751\n",
      "Epoch 93/100\n",
      "105/105 [==============================] - 0s 4ms/step - loss: 0.5759 - accuracy: 0.7483 - val_loss: 0.5320 - val_accuracy: 0.7644\n",
      "Epoch 94/100\n",
      "105/105 [==============================] - 0s 4ms/step - loss: 0.5830 - accuracy: 0.7504 - val_loss: 0.5295 - val_accuracy: 0.7656\n",
      "Epoch 95/100\n",
      "105/105 [==============================] - 0s 4ms/step - loss: 0.5733 - accuracy: 0.7600 - val_loss: 0.5348 - val_accuracy: 0.7679\n",
      "Epoch 96/100\n",
      "105/105 [==============================] - 0s 4ms/step - loss: 0.5759 - accuracy: 0.7534 - val_loss: 0.5320 - val_accuracy: 0.7656\n",
      "Epoch 97/100\n",
      "105/105 [==============================] - 0s 4ms/step - loss: 0.5716 - accuracy: 0.7620 - val_loss: 0.5320 - val_accuracy: 0.7679\n",
      "Epoch 98/100\n",
      "105/105 [==============================] - 0s 3ms/step - loss: 0.5814 - accuracy: 0.7582 - val_loss: 0.5274 - val_accuracy: 0.7715\n",
      "Epoch 99/100\n",
      "105/105 [==============================] - 0s 3ms/step - loss: 0.5782 - accuracy: 0.7501 - val_loss: 0.5247 - val_accuracy: 0.7727\n",
      "Epoch 100/100\n",
      "105/105 [==============================] - 0s 3ms/step - loss: 0.5707 - accuracy: 0.7603 - val_loss: 0.5284 - val_accuracy: 0.7775\n"
     ]
    }
   ],
   "source": [
    "history4 = new_model.fit(x_train_scaled,y_train,epochs=100,validation_data=(x_test_scaled,y_test),shuffle=True)\n"
   ]
  },
  {
   "cell_type": "code",
   "execution_count": 77,
   "id": "3efa27f6-cc74-4f78-9151-b218ed7a2919",
   "metadata": {},
   "outputs": [
    {
     "name": "stdout",
     "output_type": "stream",
     "text": [
      "Model: \"sequential_3\"\n",
      "_________________________________________________________________\n",
      " Layer (type)                Output Shape              Param #   \n",
      "=================================================================\n",
      " conv1d_1 (Conv1D)           (None, 8, 32)             128       \n",
      "                                                                 \n",
      " max_pooling1d_1 (MaxPooling  (None, 4, 32)            0         \n",
      " 1D)                                                             \n",
      "                                                                 \n",
      " dropout (Dropout)           (None, 4, 32)             0         \n",
      "                                                                 \n",
      " conv1d_3 (Conv1D)           (None, 2, 64)             6208      \n",
      "                                                                 \n",
      " batch_normalization (BatchN  (None, 2, 64)            256       \n",
      " ormalization)                                                   \n",
      "                                                                 \n",
      " max_pooling1d_3 (MaxPooling  (None, 1, 64)            0         \n",
      " 1D)                                                             \n",
      "                                                                 \n",
      " dropout_1 (Dropout)         (None, 1, 64)             0         \n",
      "                                                                 \n",
      " flatten_3 (Flatten)         (None, 64)                0         \n",
      "                                                                 \n",
      " dense_6 (Dense)             (None, 64)                4160      \n",
      "                                                                 \n",
      " batch_normalization_1 (Batc  (None, 64)               256       \n",
      " hNormalization)                                                 \n",
      "                                                                 \n",
      " dropout_2 (Dropout)         (None, 64)                0         \n",
      "                                                                 \n",
      " dense_7 (Dense)             (None, 3)                 195       \n",
      "                                                                 \n",
      "=================================================================\n",
      "Total params: 11,203\n",
      "Trainable params: 10,947\n",
      "Non-trainable params: 256\n",
      "_________________________________________________________________\n"
     ]
    }
   ],
   "source": [
    "new_model.summary()"
   ]
  },
  {
   "cell_type": "code",
   "execution_count": 78,
   "id": "793b4868-d55f-4929-b599-48d58dee97e3",
   "metadata": {},
   "outputs": [
    {
     "name": "stdout",
     "output_type": "stream",
     "text": [
      "105/105 [==============================] - 0s 2ms/step - loss: 0.5182 - accuracy: 0.7845\n"
     ]
    },
    {
     "data": {
      "text/plain": [
       "[0.5181964635848999, 0.7844956517219543]"
      ]
     },
     "execution_count": 78,
     "metadata": {},
     "output_type": "execute_result"
    }
   ],
   "source": [
    "new_model.evaluate(x_train_scaled,y_train)"
   ]
  },
  {
   "cell_type": "code",
   "execution_count": 79,
   "id": "6d7b0ce4-74e8-4192-bf28-f7501526a6f4",
   "metadata": {},
   "outputs": [
    {
     "name": "stdout",
     "output_type": "stream",
     "text": [
      "27/27 [==============================] - 0s 2ms/step - loss: 0.5284 - accuracy: 0.7775\n"
     ]
    },
    {
     "data": {
      "text/plain": [
       "[0.5284181833267212, 0.7775119543075562]"
      ]
     },
     "execution_count": 79,
     "metadata": {},
     "output_type": "execute_result"
    }
   ],
   "source": [
    "new_model.evaluate(x_test_scaled,y_test)"
   ]
  },
  {
   "cell_type": "code",
   "execution_count": 80,
   "id": "2c97f5a9-1917-4c9d-a5c5-1030acc51d05",
   "metadata": {},
   "outputs": [
    {
     "data": {
      "text/plain": [
       "<matplotlib.legend.Legend at 0x1a6e36bfb50>"
      ]
     },
     "execution_count": 80,
     "metadata": {},
     "output_type": "execute_result"
    },
    {
     "data": {
      "image/png": "[encoded data removed]",
      "text/plain": [
       "<Figure size 640x480 with 1 Axes>"
      ]
     },
     "metadata": {},
     "output_type": "display_data"
    }
   ],
   "source": [
    "plt.plot(history4.history[\"loss\"], label = \"train\")\n",
    "plt.plot(history4.history[\"val_loss\"], label = \"test\")\n",
    "plt.legend()"
   ]
  },
  {
   "cell_type": "code",
   "execution_count": 81,
   "id": "f73ffffa-d4fa-4595-8a30-6d9316964d3d",
   "metadata": {},
   "outputs": [
    {
     "data": {
      "text/plain": [
       "<matplotlib.legend.Legend at 0x1a6e26a8fa0>"
      ]
     },
     "execution_count": 81,
     "metadata": {},
     "output_type": "execute_result"
    },
    {
     "data": {
      "image/png": "[encoded data removed]",
      "text/plain": [
       "<Figure size 640x480 with 1 Axes>"
      ]
     },
     "metadata": {},
     "output_type": "display_data"
    }
   ],
   "source": [
    "plt.plot(history4.history[\"accuracy\"],label=\"train\")\n",
    "plt.plot(history4.history[\"val_accuracy\"],label=\"test\")\n",
    "plt.legend()"
   ]
  },
  {
   "cell_type": "markdown",
   "id": "31ead40a-8a11-42f4-a92c-15bc356e1b77",
   "metadata": {},
   "source": [
    "1. 미세조정(드롭아웃,배치정규화)으로 과대적합은 해소되었지만 여전히 정확도가 낮음\n",
    "2. 데이터의 불균형이 원인으로 보임\n"
   ]
  },
  {
   "cell_type": "code",
   "execution_count": null,
   "id": "78b060a6-6d26-49e3-b090-6056c3bf8b7c",
   "metadata": {},
   "outputs": [],
   "source": []
  },
  {
   "cell_type": "code",
   "execution_count": null,
   "id": "5870729d",
   "metadata": {},
   "outputs": [],
   "source": []
  }
 ],
 "metadata": {
  "kernelspec": {
   "display_name": "Python 3 (ipykernel)",
   "language": "python",
   "name": "python3"
  },
  "language_info": {
   "codemirror_mode": {
    "name": "ipython",
    "version": 3
   },
   "file_extension": ".py",
   "mimetype": "text/x-python",
   "name": "python",
   "nbconvert_exporter": "python",
   "pygments_lexer": "ipython3",
   "version": "3.9.13"
  }
 },
 "nbformat": 4,
 "nbformat_minor": 5
}
