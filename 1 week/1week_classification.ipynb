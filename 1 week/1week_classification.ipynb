{
 "cells": [
  {
   "cell_type": "code",
   "execution_count": 1,
   "metadata": {
    "id": "TUNdzz1Mk7FH"
   },
   "outputs": [],
   "source": [
    "import numpy as np\n",
    "import matplotlib.pyplot as plt\n",
    "import pandas as pd\n"
   ]
  },
  {
   "cell_type": "markdown",
   "metadata": {
    "id": "cT00edjXlHzT"
   },
   "source": [
    "Random Forest,Decision Tree,Logistic Regression"
   ]
  },
  {
   "cell_type": "code",
   "execution_count": 2,
   "metadata": {
    "id": "mzXF6fbTllF3"
   },
   "outputs": [],
   "source": [
    "dataset=pd.read_csv(r\"C:\\Users\\jongmin\\Downloads\\DeepLearning\\data\\diabetes.csv\")\n",
    "x=dataset.iloc[:,:-1].values\n",
    "y=dataset.iloc[:,-1].values"
   ]
  },
  {
   "cell_type": "code",
   "execution_count": 3,
   "metadata": {
    "id": "_TSjoU5vm78o"
   },
   "outputs": [],
   "source": [
    "# test validation split 해주기\n",
    "from sklearn.model_selection import train_test_split\n",
    "x_train,x_test,y_train,y_test = train_test_split(x,y,test_size=0.2,random_state=1)"
   ]
  },
  {
   "cell_type": "code",
   "execution_count": 4,
   "metadata": {
    "id": "AVXZgkw4nw4c"
   },
   "outputs": [],
   "source": [
    "# feature scaling\n",
    "from sklearn.preprocessing import StandardScaler\n",
    "sc = StandardScaler()\n",
    "x_train = sc.fit_transform(x_train)\n",
    "x_test = sc.transform(x_test)\n"
   ]
  },
  {
   "cell_type": "code",
   "execution_count": 5,
   "metadata": {
    "id": "ZGCt4GXzqIfH"
   },
   "outputs": [],
   "source": [
    "from sklearn.linear_model import LogisticRegression\n",
    "from sklearn.ensemble import RandomForestClassifier\n",
    "from sklearn.tree import DecisionTreeClassifier\n",
    "from sklearn.metrics import accuracy_score,confusion_matrix"
   ]
  },
  {
   "cell_type": "markdown",
   "metadata": {
    "id": "pCimQ0FnstN1"
   },
   "source": [
    "Logistic Regression"
   ]
  },
  {
   "cell_type": "code",
   "execution_count": 6,
   "metadata": {
    "colab": {
     "base_uri": "https://localhost:8080/",
     "height": 74
    },
    "id": "cT0lJpZuqh1C",
    "outputId": "66829f48-d1f3-4152-d094-937d7f412c22"
   },
   "outputs": [
    {
     "data": {
      "text/plain": [
       "LogisticRegression(random_state=0)"
      ]
     },
     "execution_count": 6,
     "metadata": {},
     "output_type": "execute_result"
    }
   ],
   "source": [
    "lr=LogisticRegression(random_state=0)\n",
    "lr.fit(x_train,y_train)"
   ]
  },
  {
   "cell_type": "code",
   "execution_count": 7,
   "metadata": {
    "colab": {
     "base_uri": "https://localhost:8080/"
    },
    "id": "cG2lktMNrVFR",
    "outputId": "065b5416-cf6b-433c-bdd0-42c43c11641d"
   },
   "outputs": [
    {
     "name": "stdout",
     "output_type": "stream",
     "text": [
      "[[0 0]\n",
      " [0 0]\n",
      " [0 0]\n",
      " [0 0]\n",
      " [0 0]\n",
      " [0 0]\n",
      " [0 0]\n",
      " [0 0]\n",
      " [0 0]\n",
      " [0 0]\n",
      " [0 0]\n",
      " [0 0]\n",
      " [1 1]\n",
      " [1 1]\n",
      " [0 0]\n",
      " [1 1]\n",
      " [0 1]\n",
      " [0 0]\n",
      " [0 0]\n",
      " [0 0]\n",
      " [0 1]\n",
      " [0 1]\n",
      " [1 1]\n",
      " [0 1]\n",
      " [0 0]\n",
      " [0 0]\n",
      " [0 0]\n",
      " [1 1]\n",
      " [0 0]\n",
      " [1 1]\n",
      " [0 1]\n",
      " [0 0]\n",
      " [0 0]\n",
      " [1 1]\n",
      " [0 0]\n",
      " [1 1]\n",
      " [0 0]\n",
      " [0 0]\n",
      " [0 0]\n",
      " [1 0]\n",
      " [0 0]\n",
      " [0 0]\n",
      " [0 0]\n",
      " [0 1]\n",
      " [0 0]\n",
      " [0 0]\n",
      " [1 1]\n",
      " [1 1]\n",
      " [0 0]\n",
      " [0 1]\n",
      " [0 0]\n",
      " [0 0]\n",
      " [1 1]\n",
      " [0 0]\n",
      " [1 1]\n",
      " [0 0]\n",
      " [1 1]\n",
      " [0 0]\n",
      " [1 0]\n",
      " [0 0]\n",
      " [1 0]\n",
      " [0 0]\n",
      " [1 1]\n",
      " [0 0]\n",
      " [0 1]\n",
      " [0 0]\n",
      " [0 1]\n",
      " [0 1]\n",
      " [1 0]\n",
      " [1 1]\n",
      " [1 1]\n",
      " [1 0]\n",
      " [1 0]\n",
      " [0 0]\n",
      " [1 1]\n",
      " [0 1]\n",
      " [1 1]\n",
      " [0 0]\n",
      " [0 0]\n",
      " [1 1]\n",
      " [1 1]\n",
      " [0 0]\n",
      " [0 1]\n",
      " [0 1]\n",
      " [0 0]\n",
      " [1 0]\n",
      " [1 1]\n",
      " [0 0]\n",
      " [0 0]\n",
      " [0 0]\n",
      " [0 0]\n",
      " [0 0]\n",
      " [0 0]\n",
      " [0 0]\n",
      " [1 1]\n",
      " [0 0]\n",
      " [0 0]\n",
      " [0 0]\n",
      " [1 1]\n",
      " [0 0]\n",
      " [0 0]\n",
      " [0 0]\n",
      " [1 1]\n",
      " [0 0]\n",
      " [0 0]\n",
      " [0 0]\n",
      " [1 1]\n",
      " [1 0]\n",
      " [0 1]\n",
      " [0 0]\n",
      " [0 1]\n",
      " [0 0]\n",
      " [0 0]\n",
      " [0 0]\n",
      " [0 1]\n",
      " [0 0]\n",
      " [0 0]\n",
      " [0 1]\n",
      " [0 0]\n",
      " [0 1]\n",
      " [0 0]\n",
      " [1 1]\n",
      " [0 1]\n",
      " [0 0]\n",
      " [0 0]\n",
      " [0 0]\n",
      " [0 0]\n",
      " [0 1]\n",
      " [1 0]\n",
      " [0 0]\n",
      " [1 1]\n",
      " [0 0]\n",
      " [0 1]\n",
      " [0 0]\n",
      " [0 0]\n",
      " [0 0]\n",
      " [0 0]\n",
      " [1 0]\n",
      " [0 1]\n",
      " [0 0]\n",
      " [1 1]\n",
      " [0 0]\n",
      " [0 0]\n",
      " [1 1]\n",
      " [1 1]\n",
      " [0 1]\n",
      " [0 0]\n",
      " [0 0]\n",
      " [0 1]\n",
      " [0 0]\n",
      " [0 0]\n",
      " [1 1]\n",
      " [0 0]\n",
      " [0 0]]\n"
     ]
    }
   ],
   "source": [
    "y_pred = lr.predict(x_test)\n",
    "print(np.concatenate((y_pred.reshape(len(y_pred),1), y_test.reshape(len(y_test),1)),1))"
   ]
  },
  {
   "cell_type": "code",
   "execution_count": 8,
   "metadata": {
    "colab": {
     "base_uri": "https://localhost:8080/"
    },
    "id": "Pl6AEfnDrrOv",
    "outputId": "5951e8b7-42a9-438c-c4af-de9f9c0efca1"
   },
   "outputs": [
    {
     "name": "stdout",
     "output_type": "stream",
     "text": [
      "[[89 10]\n",
      " [24 31]]\n"
     ]
    },
    {
     "data": {
      "text/plain": [
       "0.7792207792207793"
      ]
     },
     "execution_count": 8,
     "metadata": {},
     "output_type": "execute_result"
    }
   ],
   "source": [
    "lr_cm=confusion_matrix(y_test,y_pred)\n",
    "print(lr_cm)\n",
    "accuracy_score(y_test,y_pred)"
   ]
  },
  {
   "cell_type": "markdown",
   "metadata": {
    "id": "GQlpExy0s1Fg"
   },
   "source": [
    "Random Forest"
   ]
  },
  {
   "cell_type": "code",
   "execution_count": 9,
   "metadata": {
    "colab": {
     "base_uri": "https://localhost:8080/",
     "height": 74
    },
    "id": "v8y7fwRSsCcP",
    "outputId": "9e5f465b-9a1a-485a-f7b7-c511542e8d21"
   },
   "outputs": [
    {
     "data": {
      "text/plain": [
       "RandomForestClassifier(criterion='entropy', n_estimators=15, random_state=0)"
      ]
     },
     "execution_count": 9,
     "metadata": {},
     "output_type": "execute_result"
    }
   ],
   "source": [
    "rf=RandomForestClassifier(n_estimators=15,criterion='entropy',random_state=0)\n",
    "rf.fit(x_train,y_train)"
   ]
  },
  {
   "cell_type": "code",
   "execution_count": 10,
   "metadata": {
    "colab": {
     "base_uri": "https://localhost:8080/"
    },
    "id": "9AsWBSuStaWm",
    "outputId": "2d103356-7a5e-45a4-b3f9-746c63aafbcc"
   },
   "outputs": [
    {
     "name": "stdout",
     "output_type": "stream",
     "text": [
      "[[1 0]\n",
      " [0 0]\n",
      " [0 0]\n",
      " [0 0]\n",
      " [0 0]\n",
      " [0 0]\n",
      " [1 0]\n",
      " [0 0]\n",
      " [0 0]\n",
      " [0 0]\n",
      " [0 0]\n",
      " [0 0]\n",
      " [1 1]\n",
      " [1 1]\n",
      " [0 0]\n",
      " [1 1]\n",
      " [0 1]\n",
      " [0 0]\n",
      " [0 0]\n",
      " [0 0]\n",
      " [1 1]\n",
      " [0 1]\n",
      " [0 1]\n",
      " [0 1]\n",
      " [0 0]\n",
      " [1 0]\n",
      " [0 0]\n",
      " [1 1]\n",
      " [0 0]\n",
      " [1 1]\n",
      " [1 1]\n",
      " [0 0]\n",
      " [0 0]\n",
      " [1 1]\n",
      " [0 0]\n",
      " [1 1]\n",
      " [0 0]\n",
      " [0 0]\n",
      " [0 0]\n",
      " [0 0]\n",
      " [0 0]\n",
      " [0 0]\n",
      " [0 0]\n",
      " [0 1]\n",
      " [0 0]\n",
      " [0 0]\n",
      " [1 1]\n",
      " [1 1]\n",
      " [0 0]\n",
      " [0 1]\n",
      " [0 0]\n",
      " [0 0]\n",
      " [1 1]\n",
      " [0 0]\n",
      " [1 1]\n",
      " [0 0]\n",
      " [0 1]\n",
      " [0 0]\n",
      " [0 0]\n",
      " [0 0]\n",
      " [0 0]\n",
      " [0 0]\n",
      " [1 1]\n",
      " [0 0]\n",
      " [1 1]\n",
      " [0 0]\n",
      " [0 1]\n",
      " [1 1]\n",
      " [0 0]\n",
      " [1 1]\n",
      " [1 1]\n",
      " [1 0]\n",
      " [1 0]\n",
      " [0 0]\n",
      " [1 1]\n",
      " [0 1]\n",
      " [1 1]\n",
      " [0 0]\n",
      " [0 0]\n",
      " [1 1]\n",
      " [1 1]\n",
      " [0 0]\n",
      " [0 1]\n",
      " [0 1]\n",
      " [0 0]\n",
      " [1 0]\n",
      " [1 1]\n",
      " [0 0]\n",
      " [1 0]\n",
      " [1 0]\n",
      " [0 0]\n",
      " [0 0]\n",
      " [0 0]\n",
      " [0 0]\n",
      " [1 1]\n",
      " [1 0]\n",
      " [1 0]\n",
      " [0 0]\n",
      " [1 1]\n",
      " [0 0]\n",
      " [0 0]\n",
      " [0 0]\n",
      " [1 1]\n",
      " [0 0]\n",
      " [0 0]\n",
      " [0 0]\n",
      " [1 1]\n",
      " [1 0]\n",
      " [0 1]\n",
      " [0 0]\n",
      " [0 1]\n",
      " [0 0]\n",
      " [1 0]\n",
      " [0 0]\n",
      " [0 1]\n",
      " [0 0]\n",
      " [0 0]\n",
      " [0 1]\n",
      " [0 0]\n",
      " [1 1]\n",
      " [0 0]\n",
      " [1 1]\n",
      " [0 1]\n",
      " [0 0]\n",
      " [0 0]\n",
      " [0 0]\n",
      " [0 0]\n",
      " [1 1]\n",
      " [1 0]\n",
      " [0 0]\n",
      " [1 1]\n",
      " [0 0]\n",
      " [1 1]\n",
      " [0 0]\n",
      " [0 0]\n",
      " [0 0]\n",
      " [0 0]\n",
      " [1 0]\n",
      " [0 1]\n",
      " [0 0]\n",
      " [1 1]\n",
      " [0 0]\n",
      " [0 0]\n",
      " [1 1]\n",
      " [1 1]\n",
      " [0 1]\n",
      " [0 0]\n",
      " [0 0]\n",
      " [1 1]\n",
      " [0 0]\n",
      " [0 0]\n",
      " [1 1]\n",
      " [0 0]\n",
      " [0 0]]\n"
     ]
    }
   ],
   "source": [
    "y_pred = rf.predict(x_test)\n",
    "print(np.concatenate((y_pred.reshape(len(y_pred),1), y_test.reshape(len(y_test),1)),1))"
   ]
  },
  {
   "cell_type": "code",
   "execution_count": 11,
   "metadata": {
    "colab": {
     "base_uri": "https://localhost:8080/"
    },
    "id": "zF3Es7A6tiCJ",
    "outputId": "48339ba8-0fd5-4760-de9e-311411d5ecef"
   },
   "outputs": [
    {
     "name": "stdout",
     "output_type": "stream",
     "text": [
      "[[85 14]\n",
      " [18 37]]\n"
     ]
    },
    {
     "data": {
      "text/plain": [
       "0.7922077922077922"
      ]
     },
     "execution_count": 11,
     "metadata": {},
     "output_type": "execute_result"
    }
   ],
   "source": [
    "rf_cm=confusion_matrix(y_test,y_pred)\n",
    "print(rf_cm)\n",
    "accuracy_score(y_test,y_pred)"
   ]
  },
  {
   "cell_type": "markdown",
   "metadata": {
    "id": "aB1zq8g5t7R2"
   },
   "source": [
    "Decision Tree"
   ]
  },
  {
   "cell_type": "code",
   "execution_count": 12,
   "metadata": {
    "colab": {
     "base_uri": "https://localhost:8080/",
     "height": 74
    },
    "id": "Ih-eVn3Jt8uM",
    "outputId": "1edda9d1-4c21-4df0-c4fa-27b4451f725b"
   },
   "outputs": [
    {
     "data": {
      "text/plain": [
       "DecisionTreeClassifier(criterion='entropy', random_state=0)"
      ]
     },
     "execution_count": 12,
     "metadata": {},
     "output_type": "execute_result"
    }
   ],
   "source": [
    "dt = DecisionTreeClassifier(criterion='entropy',random_state=0)\n",
    "dt.fit(x_train,y_train)"
   ]
  },
  {
   "cell_type": "code",
   "execution_count": 13,
   "metadata": {
    "colab": {
     "base_uri": "https://localhost:8080/"
    },
    "id": "l4Gp1vCIuIFy",
    "outputId": "a6d3da4d-2209-48ca-9232-a41ed59adee5"
   },
   "outputs": [
    {
     "name": "stdout",
     "output_type": "stream",
     "text": [
      "[[1 0]\n",
      " [0 0]\n",
      " [0 0]\n",
      " [0 0]\n",
      " [0 0]\n",
      " [0 0]\n",
      " [0 0]\n",
      " [0 0]\n",
      " [0 0]\n",
      " [0 0]\n",
      " [1 0]\n",
      " [1 0]\n",
      " [1 1]\n",
      " [1 1]\n",
      " [1 0]\n",
      " [1 1]\n",
      " [0 1]\n",
      " [1 0]\n",
      " [0 0]\n",
      " [0 0]\n",
      " [1 1]\n",
      " [0 1]\n",
      " [1 1]\n",
      " [0 1]\n",
      " [0 0]\n",
      " [0 0]\n",
      " [0 0]\n",
      " [1 1]\n",
      " [0 0]\n",
      " [0 1]\n",
      " [0 1]\n",
      " [1 0]\n",
      " [0 0]\n",
      " [1 1]\n",
      " [1 0]\n",
      " [1 1]\n",
      " [0 0]\n",
      " [1 0]\n",
      " [0 0]\n",
      " [0 0]\n",
      " [0 0]\n",
      " [0 0]\n",
      " [0 0]\n",
      " [1 1]\n",
      " [0 0]\n",
      " [0 0]\n",
      " [1 1]\n",
      " [0 1]\n",
      " [0 0]\n",
      " [0 1]\n",
      " [0 0]\n",
      " [1 0]\n",
      " [1 1]\n",
      " [0 0]\n",
      " [1 1]\n",
      " [0 0]\n",
      " [1 1]\n",
      " [0 0]\n",
      " [0 0]\n",
      " [0 0]\n",
      " [1 0]\n",
      " [0 0]\n",
      " [0 1]\n",
      " [0 0]\n",
      " [0 1]\n",
      " [0 0]\n",
      " [0 1]\n",
      " [1 1]\n",
      " [1 0]\n",
      " [0 1]\n",
      " [1 1]\n",
      " [1 0]\n",
      " [0 0]\n",
      " [0 0]\n",
      " [0 1]\n",
      " [1 1]\n",
      " [1 1]\n",
      " [1 0]\n",
      " [0 0]\n",
      " [1 1]\n",
      " [1 1]\n",
      " [0 0]\n",
      " [0 1]\n",
      " [0 1]\n",
      " [0 0]\n",
      " [0 0]\n",
      " [1 1]\n",
      " [1 0]\n",
      " [1 0]\n",
      " [1 0]\n",
      " [0 0]\n",
      " [0 0]\n",
      " [1 0]\n",
      " [0 0]\n",
      " [1 1]\n",
      " [1 0]\n",
      " [0 0]\n",
      " [0 0]\n",
      " [1 1]\n",
      " [0 0]\n",
      " [0 0]\n",
      " [0 0]\n",
      " [1 1]\n",
      " [0 0]\n",
      " [0 0]\n",
      " [0 0]\n",
      " [0 1]\n",
      " [1 0]\n",
      " [0 1]\n",
      " [0 0]\n",
      " [1 1]\n",
      " [0 0]\n",
      " [0 0]\n",
      " [1 0]\n",
      " [0 1]\n",
      " [0 0]\n",
      " [1 0]\n",
      " [0 1]\n",
      " [1 0]\n",
      " [1 1]\n",
      " [0 0]\n",
      " [0 1]\n",
      " [0 1]\n",
      " [0 0]\n",
      " [0 0]\n",
      " [0 0]\n",
      " [0 0]\n",
      " [0 1]\n",
      " [1 0]\n",
      " [0 0]\n",
      " [1 1]\n",
      " [0 0]\n",
      " [1 1]\n",
      " [0 0]\n",
      " [0 0]\n",
      " [0 0]\n",
      " [0 0]\n",
      " [1 0]\n",
      " [0 1]\n",
      " [0 0]\n",
      " [1 1]\n",
      " [0 0]\n",
      " [0 0]\n",
      " [1 1]\n",
      " [0 1]\n",
      " [1 1]\n",
      " [0 0]\n",
      " [0 0]\n",
      " [0 1]\n",
      " [1 0]\n",
      " [0 0]\n",
      " [1 1]\n",
      " [0 0]\n",
      " [1 0]]\n"
     ]
    }
   ],
   "source": [
    "y_pred = dt.predict(x_test)\n",
    "np.set_printoptions(precision=2)\n",
    "\n",
    "print(np.concatenate((y_pred.reshape(len(y_pred),1), y_test.reshape(len(y_test),1)),1))"
   ]
  },
  {
   "cell_type": "code",
   "execution_count": 14,
   "metadata": {
    "colab": {
     "base_uri": "https://localhost:8080/"
    },
    "id": "EHyQa_-SuNLt",
    "outputId": "5122e32a-5917-4d2c-e1e8-a24848cc6f5d"
   },
   "outputs": [
    {
     "name": "stdout",
     "output_type": "stream",
     "text": [
      "[[73 26]\n",
      " [24 31]]\n"
     ]
    },
    {
     "data": {
      "text/plain": [
       "0.6753246753246753"
      ]
     },
     "execution_count": 14,
     "metadata": {},
     "output_type": "execute_result"
    }
   ],
   "source": [
    "dt_cm=confusion_matrix(y_test,y_pred)\n",
    "print(dt_cm)\n",
    "accuracy_score(y_test,y_pred)"
   ]
  },
  {
   "cell_type": "markdown",
   "metadata": {
    "id": "DpwI44uCvGL-"
   },
   "source": [
    "딥러닝 DenseLayer"
   ]
  },
  {
   "cell_type": "code",
   "execution_count": null,
   "metadata": {
    "colab": {
     "base_uri": "https://localhost:8080/"
    },
    "id": "dcEUD0Nbw0-E",
    "outputId": "3036e72e-39bf-4a89-df40-e76f8b9ed788"
   },
   "outputs": [],
   "source": []
  },
  {
   "cell_type": "code",
   "execution_count": 15,
   "metadata": {
    "id": "puuQTuRcviy3"
   },
   "outputs": [],
   "source": [
    "from tensorflow import keras\n",
    "from tensorflow.keras import layers\n",
    "\n",
    "model=keras.Sequential([\n",
    "    layers.Dense(8,activation=\"relu\"),\n",
    "    layers.Dense(8,activation=\"relu\"),\n",
    "    layers.Dense(1,activation=\"sigmoid\")\n",
    "])"
   ]
  },
  {
   "cell_type": "code",
   "execution_count": 16,
   "metadata": {
    "id": "JjwX-lGLxIiU"
   },
   "outputs": [],
   "source": [
    "model.compile(optimizer=\"adam\",loss=\"binary_crossentropy\",metrics=[\"accuracy\"])"
   ]
  },
  {
   "cell_type": "code",
   "execution_count": 17,
   "metadata": {
    "colab": {
     "base_uri": "https://localhost:8080/"
    },
    "id": "q0HWRNQ7xmUW",
    "outputId": "c981561b-fa49-4996-c244-675da07e9a24"
   },
   "outputs": [
    {
     "name": "stdout",
     "output_type": "stream",
     "text": [
      "Epoch 1/150\n",
      "20/20 [==============================] - 1s 2ms/step - loss: 0.6856 - accuracy: 0.5586\n",
      "Epoch 2/150\n",
      "20/20 [==============================] - 0s 2ms/step - loss: 0.6643 - accuracy: 0.6287\n",
      "Epoch 3/150\n",
      "20/20 [==============================] - 0s 2ms/step - loss: 0.6463 - accuracy: 0.6368\n",
      "Epoch 4/150\n",
      "20/20 [==============================] - 0s 2ms/step - loss: 0.6268 - accuracy: 0.6580\n",
      "Epoch 5/150\n",
      "20/20 [==============================] - 0s 2ms/step - loss: 0.6065 - accuracy: 0.6792\n",
      "Epoch 6/150\n",
      "20/20 [==============================] - 0s 2ms/step - loss: 0.5853 - accuracy: 0.6840\n",
      "Epoch 7/150\n",
      "20/20 [==============================] - 0s 2ms/step - loss: 0.5650 - accuracy: 0.6873\n",
      "Epoch 8/150\n",
      "20/20 [==============================] - 0s 2ms/step - loss: 0.5476 - accuracy: 0.6873\n",
      "Epoch 9/150\n",
      "20/20 [==============================] - 0s 2ms/step - loss: 0.5355 - accuracy: 0.6922\n",
      "Epoch 10/150\n",
      "20/20 [==============================] - 0s 2ms/step - loss: 0.5240 - accuracy: 0.6954\n",
      "Epoch 11/150\n",
      "20/20 [==============================] - 0s 2ms/step - loss: 0.5156 - accuracy: 0.7085\n",
      "Epoch 12/150\n",
      "20/20 [==============================] - 0s 2ms/step - loss: 0.5080 - accuracy: 0.7068\n",
      "Epoch 13/150\n",
      "20/20 [==============================] - 0s 2ms/step - loss: 0.5021 - accuracy: 0.7199\n",
      "Epoch 14/150\n",
      "20/20 [==============================] - 0s 2ms/step - loss: 0.4971 - accuracy: 0.7248\n",
      "Epoch 15/150\n",
      "20/20 [==============================] - 0s 2ms/step - loss: 0.4923 - accuracy: 0.7313\n",
      "Epoch 16/150\n",
      "20/20 [==============================] - 0s 2ms/step - loss: 0.4881 - accuracy: 0.7394\n",
      "Epoch 17/150\n",
      "20/20 [==============================] - 0s 2ms/step - loss: 0.4848 - accuracy: 0.7476\n",
      "Epoch 18/150\n",
      "20/20 [==============================] - 0s 2ms/step - loss: 0.4822 - accuracy: 0.7459\n",
      "Epoch 19/150\n",
      "20/20 [==============================] - 0s 2ms/step - loss: 0.4798 - accuracy: 0.7410\n",
      "Epoch 20/150\n",
      "20/20 [==============================] - 0s 2ms/step - loss: 0.4776 - accuracy: 0.7410\n",
      "Epoch 21/150\n",
      "20/20 [==============================] - 0s 2ms/step - loss: 0.4757 - accuracy: 0.7476\n",
      "Epoch 22/150\n",
      "20/20 [==============================] - 0s 2ms/step - loss: 0.4742 - accuracy: 0.7508\n",
      "Epoch 23/150\n",
      "20/20 [==============================] - 0s 2ms/step - loss: 0.4730 - accuracy: 0.7541\n",
      "Epoch 24/150\n",
      "20/20 [==============================] - 0s 2ms/step - loss: 0.4714 - accuracy: 0.7508\n",
      "Epoch 25/150\n",
      "20/20 [==============================] - 0s 2ms/step - loss: 0.4694 - accuracy: 0.7557\n",
      "Epoch 26/150\n",
      "20/20 [==============================] - 0s 2ms/step - loss: 0.4683 - accuracy: 0.7606\n",
      "Epoch 27/150\n",
      "20/20 [==============================] - 0s 2ms/step - loss: 0.4670 - accuracy: 0.7622\n",
      "Epoch 28/150\n",
      "20/20 [==============================] - 0s 2ms/step - loss: 0.4659 - accuracy: 0.7671\n",
      "Epoch 29/150\n",
      "20/20 [==============================] - 0s 3ms/step - loss: 0.4649 - accuracy: 0.7671\n",
      "Epoch 30/150\n",
      "20/20 [==============================] - 0s 2ms/step - loss: 0.4643 - accuracy: 0.7736\n",
      "Epoch 31/150\n",
      "20/20 [==============================] - 0s 2ms/step - loss: 0.4630 - accuracy: 0.7752\n",
      "Epoch 32/150\n",
      "20/20 [==============================] - 0s 2ms/step - loss: 0.4625 - accuracy: 0.7704\n",
      "Epoch 33/150\n",
      "20/20 [==============================] - 0s 2ms/step - loss: 0.4612 - accuracy: 0.7720\n",
      "Epoch 34/150\n",
      "20/20 [==============================] - 0s 2ms/step - loss: 0.4610 - accuracy: 0.7671\n",
      "Epoch 35/150\n",
      "20/20 [==============================] - 0s 2ms/step - loss: 0.4599 - accuracy: 0.7704\n",
      "Epoch 36/150\n",
      "20/20 [==============================] - 0s 2ms/step - loss: 0.4594 - accuracy: 0.7736\n",
      "Epoch 37/150\n",
      "20/20 [==============================] - 0s 2ms/step - loss: 0.4587 - accuracy: 0.7720\n",
      "Epoch 38/150\n",
      "20/20 [==============================] - 0s 2ms/step - loss: 0.4579 - accuracy: 0.7769\n",
      "Epoch 39/150\n",
      "20/20 [==============================] - 0s 2ms/step - loss: 0.4571 - accuracy: 0.7752\n",
      "Epoch 40/150\n",
      "20/20 [==============================] - 0s 2ms/step - loss: 0.4572 - accuracy: 0.7720\n",
      "Epoch 41/150\n",
      "20/20 [==============================] - 0s 2ms/step - loss: 0.4561 - accuracy: 0.7736\n",
      "Epoch 42/150\n",
      "20/20 [==============================] - 0s 2ms/step - loss: 0.4552 - accuracy: 0.7752\n",
      "Epoch 43/150\n",
      "20/20 [==============================] - 0s 2ms/step - loss: 0.4549 - accuracy: 0.7752\n",
      "Epoch 44/150\n",
      "20/20 [==============================] - 0s 2ms/step - loss: 0.4545 - accuracy: 0.7785\n",
      "Epoch 45/150\n",
      "20/20 [==============================] - 0s 2ms/step - loss: 0.4539 - accuracy: 0.7801\n",
      "Epoch 46/150\n",
      "20/20 [==============================] - 0s 2ms/step - loss: 0.4537 - accuracy: 0.7752\n",
      "Epoch 47/150\n",
      "20/20 [==============================] - 0s 2ms/step - loss: 0.4529 - accuracy: 0.7736\n",
      "Epoch 48/150\n",
      "20/20 [==============================] - 0s 2ms/step - loss: 0.4526 - accuracy: 0.7769\n",
      "Epoch 49/150\n",
      "20/20 [==============================] - 0s 2ms/step - loss: 0.4523 - accuracy: 0.7769\n",
      "Epoch 50/150\n",
      "20/20 [==============================] - 0s 2ms/step - loss: 0.4519 - accuracy: 0.7736\n",
      "Epoch 51/150\n",
      "20/20 [==============================] - 0s 2ms/step - loss: 0.4514 - accuracy: 0.7818\n",
      "Epoch 52/150\n",
      "20/20 [==============================] - 0s 2ms/step - loss: 0.4510 - accuracy: 0.7834\n",
      "Epoch 53/150\n",
      "20/20 [==============================] - 0s 2ms/step - loss: 0.4507 - accuracy: 0.7818\n",
      "Epoch 54/150\n",
      "20/20 [==============================] - 0s 2ms/step - loss: 0.4504 - accuracy: 0.7769\n",
      "Epoch 55/150\n",
      "20/20 [==============================] - 0s 2ms/step - loss: 0.4502 - accuracy: 0.7769\n",
      "Epoch 56/150\n",
      "20/20 [==============================] - 0s 2ms/step - loss: 0.4498 - accuracy: 0.7752\n",
      "Epoch 57/150\n",
      "20/20 [==============================] - 0s 2ms/step - loss: 0.4496 - accuracy: 0.7769\n",
      "Epoch 58/150\n",
      "20/20 [==============================] - 0s 2ms/step - loss: 0.4489 - accuracy: 0.7736\n",
      "Epoch 59/150\n",
      "20/20 [==============================] - 0s 2ms/step - loss: 0.4487 - accuracy: 0.7785\n",
      "Epoch 60/150\n",
      "20/20 [==============================] - 0s 2ms/step - loss: 0.4496 - accuracy: 0.7850\n",
      "Epoch 61/150\n",
      "20/20 [==============================] - 0s 2ms/step - loss: 0.4485 - accuracy: 0.7818\n",
      "Epoch 62/150\n",
      "20/20 [==============================] - 0s 2ms/step - loss: 0.4484 - accuracy: 0.7850\n",
      "Epoch 63/150\n",
      "20/20 [==============================] - 0s 2ms/step - loss: 0.4472 - accuracy: 0.7834\n",
      "Epoch 64/150\n",
      "20/20 [==============================] - 0s 2ms/step - loss: 0.4470 - accuracy: 0.7818\n",
      "Epoch 65/150\n",
      "20/20 [==============================] - 0s 2ms/step - loss: 0.4469 - accuracy: 0.7801\n",
      "Epoch 66/150\n",
      "20/20 [==============================] - 0s 2ms/step - loss: 0.4464 - accuracy: 0.7818\n",
      "Epoch 67/150\n",
      "20/20 [==============================] - 0s 2ms/step - loss: 0.4462 - accuracy: 0.7834\n",
      "Epoch 68/150\n",
      "20/20 [==============================] - 0s 2ms/step - loss: 0.4455 - accuracy: 0.7850\n",
      "Epoch 69/150\n",
      "20/20 [==============================] - 0s 2ms/step - loss: 0.4457 - accuracy: 0.7866\n",
      "Epoch 70/150\n",
      "20/20 [==============================] - 0s 2ms/step - loss: 0.4453 - accuracy: 0.7866\n",
      "Epoch 71/150\n",
      "20/20 [==============================] - 0s 2ms/step - loss: 0.4448 - accuracy: 0.7866\n",
      "Epoch 72/150\n",
      "20/20 [==============================] - 0s 2ms/step - loss: 0.4448 - accuracy: 0.7834\n",
      "Epoch 73/150\n",
      "20/20 [==============================] - 0s 2ms/step - loss: 0.4443 - accuracy: 0.7866\n",
      "Epoch 74/150\n",
      "20/20 [==============================] - 0s 2ms/step - loss: 0.4441 - accuracy: 0.7818\n",
      "Epoch 75/150\n",
      "20/20 [==============================] - 0s 2ms/step - loss: 0.4441 - accuracy: 0.7883\n",
      "Epoch 76/150\n",
      "20/20 [==============================] - 0s 2ms/step - loss: 0.4437 - accuracy: 0.7834\n",
      "Epoch 77/150\n",
      "20/20 [==============================] - 0s 2ms/step - loss: 0.4432 - accuracy: 0.7834\n",
      "Epoch 78/150\n",
      "20/20 [==============================] - 0s 2ms/step - loss: 0.4429 - accuracy: 0.7866\n",
      "Epoch 79/150\n",
      "20/20 [==============================] - 0s 2ms/step - loss: 0.4431 - accuracy: 0.7866\n",
      "Epoch 80/150\n",
      "20/20 [==============================] - 0s 2ms/step - loss: 0.4430 - accuracy: 0.7801\n",
      "Epoch 81/150\n",
      "20/20 [==============================] - 0s 2ms/step - loss: 0.4424 - accuracy: 0.7769\n",
      "Epoch 82/150\n",
      "20/20 [==============================] - 0s 2ms/step - loss: 0.4413 - accuracy: 0.7883\n",
      "Epoch 83/150\n"
     ]
    },
    {
     "name": "stdout",
     "output_type": "stream",
     "text": [
      "20/20 [==============================] - 0s 2ms/step - loss: 0.4417 - accuracy: 0.7850\n",
      "Epoch 84/150\n",
      "20/20 [==============================] - 0s 2ms/step - loss: 0.4413 - accuracy: 0.7866\n",
      "Epoch 85/150\n",
      "20/20 [==============================] - 0s 2ms/step - loss: 0.4409 - accuracy: 0.7850\n",
      "Epoch 86/150\n",
      "20/20 [==============================] - 0s 2ms/step - loss: 0.4408 - accuracy: 0.7834\n",
      "Epoch 87/150\n",
      "20/20 [==============================] - 0s 2ms/step - loss: 0.4402 - accuracy: 0.7850\n",
      "Epoch 88/150\n",
      "20/20 [==============================] - 0s 1ms/step - loss: 0.4407 - accuracy: 0.7818\n",
      "Epoch 89/150\n",
      "20/20 [==============================] - 0s 2ms/step - loss: 0.4401 - accuracy: 0.7801\n",
      "Epoch 90/150\n",
      "20/20 [==============================] - 0s 1ms/step - loss: 0.4399 - accuracy: 0.7818\n",
      "Epoch 91/150\n",
      "20/20 [==============================] - 0s 2ms/step - loss: 0.4392 - accuracy: 0.7866\n",
      "Epoch 92/150\n",
      "20/20 [==============================] - 0s 2ms/step - loss: 0.4393 - accuracy: 0.7866\n",
      "Epoch 93/150\n",
      "20/20 [==============================] - 0s 1ms/step - loss: 0.4389 - accuracy: 0.7834\n",
      "Epoch 94/150\n",
      "20/20 [==============================] - 0s 2ms/step - loss: 0.4386 - accuracy: 0.7850\n",
      "Epoch 95/150\n",
      "20/20 [==============================] - 0s 2ms/step - loss: 0.4385 - accuracy: 0.7818\n",
      "Epoch 96/150\n",
      "20/20 [==============================] - 0s 2ms/step - loss: 0.4381 - accuracy: 0.7834\n",
      "Epoch 97/150\n",
      "20/20 [==============================] - 0s 1ms/step - loss: 0.4380 - accuracy: 0.7834\n",
      "Epoch 98/150\n",
      "20/20 [==============================] - 0s 1ms/step - loss: 0.4378 - accuracy: 0.7834\n",
      "Epoch 99/150\n",
      "20/20 [==============================] - 0s 1ms/step - loss: 0.4375 - accuracy: 0.7818\n",
      "Epoch 100/150\n",
      "20/20 [==============================] - 0s 1ms/step - loss: 0.4370 - accuracy: 0.7834\n",
      "Epoch 101/150\n",
      "20/20 [==============================] - 0s 2ms/step - loss: 0.4372 - accuracy: 0.7818\n",
      "Epoch 102/150\n",
      "20/20 [==============================] - 0s 2ms/step - loss: 0.4366 - accuracy: 0.7818\n",
      "Epoch 103/150\n",
      "20/20 [==============================] - 0s 2ms/step - loss: 0.4368 - accuracy: 0.7801\n",
      "Epoch 104/150\n",
      "20/20 [==============================] - 0s 1ms/step - loss: 0.4365 - accuracy: 0.7785\n",
      "Epoch 105/150\n",
      "20/20 [==============================] - 0s 1ms/step - loss: 0.4359 - accuracy: 0.7834\n",
      "Epoch 106/150\n",
      "20/20 [==============================] - 0s 2ms/step - loss: 0.4360 - accuracy: 0.7801\n",
      "Epoch 107/150\n",
      "20/20 [==============================] - 0s 2ms/step - loss: 0.4357 - accuracy: 0.7801\n",
      "Epoch 108/150\n",
      "20/20 [==============================] - 0s 2ms/step - loss: 0.4358 - accuracy: 0.7818\n",
      "Epoch 109/150\n",
      "20/20 [==============================] - 0s 2ms/step - loss: 0.4355 - accuracy: 0.7866\n",
      "Epoch 110/150\n",
      "20/20 [==============================] - 0s 2ms/step - loss: 0.4349 - accuracy: 0.7850\n",
      "Epoch 111/150\n",
      "20/20 [==============================] - 0s 2ms/step - loss: 0.4350 - accuracy: 0.7769\n",
      "Epoch 112/150\n",
      "20/20 [==============================] - 0s 2ms/step - loss: 0.4352 - accuracy: 0.7801\n",
      "Epoch 113/150\n",
      "20/20 [==============================] - 0s 2ms/step - loss: 0.4346 - accuracy: 0.7785\n",
      "Epoch 114/150\n",
      "20/20 [==============================] - 0s 1ms/step - loss: 0.4347 - accuracy: 0.7785\n",
      "Epoch 115/150\n",
      "20/20 [==============================] - 0s 2ms/step - loss: 0.4342 - accuracy: 0.7801\n",
      "Epoch 116/150\n",
      "20/20 [==============================] - 0s 1ms/step - loss: 0.4342 - accuracy: 0.7785\n",
      "Epoch 117/150\n",
      "20/20 [==============================] - 0s 1ms/step - loss: 0.4344 - accuracy: 0.7785\n",
      "Epoch 118/150\n",
      "20/20 [==============================] - 0s 2ms/step - loss: 0.4349 - accuracy: 0.7818\n",
      "Epoch 119/150\n",
      "20/20 [==============================] - 0s 2ms/step - loss: 0.4336 - accuracy: 0.7818\n",
      "Epoch 120/150\n",
      "20/20 [==============================] - 0s 2ms/step - loss: 0.4337 - accuracy: 0.7818\n",
      "Epoch 121/150\n",
      "20/20 [==============================] - 0s 2ms/step - loss: 0.4332 - accuracy: 0.7850\n",
      "Epoch 122/150\n",
      "20/20 [==============================] - 0s 1ms/step - loss: 0.4335 - accuracy: 0.7801\n",
      "Epoch 123/150\n",
      "20/20 [==============================] - 0s 2ms/step - loss: 0.4331 - accuracy: 0.7801\n",
      "Epoch 124/150\n",
      "20/20 [==============================] - 0s 2ms/step - loss: 0.4326 - accuracy: 0.7866\n",
      "Epoch 125/150\n",
      "20/20 [==============================] - 0s 2ms/step - loss: 0.4325 - accuracy: 0.7801\n",
      "Epoch 126/150\n",
      "20/20 [==============================] - 0s 2ms/step - loss: 0.4322 - accuracy: 0.7834\n",
      "Epoch 127/150\n",
      "20/20 [==============================] - 0s 2ms/step - loss: 0.4327 - accuracy: 0.7818\n",
      "Epoch 128/150\n",
      "20/20 [==============================] - 0s 2ms/step - loss: 0.4321 - accuracy: 0.7834\n",
      "Epoch 129/150\n",
      "20/20 [==============================] - 0s 2ms/step - loss: 0.4318 - accuracy: 0.7801\n",
      "Epoch 130/150\n",
      "20/20 [==============================] - 0s 2ms/step - loss: 0.4325 - accuracy: 0.7834\n",
      "Epoch 131/150\n",
      "20/20 [==============================] - 0s 2ms/step - loss: 0.4320 - accuracy: 0.7850\n",
      "Epoch 132/150\n",
      "20/20 [==============================] - 0s 2ms/step - loss: 0.4317 - accuracy: 0.7850\n",
      "Epoch 133/150\n",
      "20/20 [==============================] - 0s 2ms/step - loss: 0.4312 - accuracy: 0.7818\n",
      "Epoch 134/150\n",
      "20/20 [==============================] - 0s 2ms/step - loss: 0.4314 - accuracy: 0.7818\n",
      "Epoch 135/150\n",
      "20/20 [==============================] - 0s 1ms/step - loss: 0.4312 - accuracy: 0.7818\n",
      "Epoch 136/150\n",
      "20/20 [==============================] - 0s 2ms/step - loss: 0.4312 - accuracy: 0.7850\n",
      "Epoch 137/150\n",
      "20/20 [==============================] - 0s 2ms/step - loss: 0.4312 - accuracy: 0.7801\n",
      "Epoch 138/150\n",
      "20/20 [==============================] - 0s 2ms/step - loss: 0.4303 - accuracy: 0.7818\n",
      "Epoch 139/150\n",
      "20/20 [==============================] - 0s 2ms/step - loss: 0.4303 - accuracy: 0.7834\n",
      "Epoch 140/150\n",
      "20/20 [==============================] - 0s 2ms/step - loss: 0.4300 - accuracy: 0.7834\n",
      "Epoch 141/150\n",
      "20/20 [==============================] - 0s 2ms/step - loss: 0.4301 - accuracy: 0.7818\n",
      "Epoch 142/150\n",
      "20/20 [==============================] - 0s 2ms/step - loss: 0.4297 - accuracy: 0.7801\n",
      "Epoch 143/150\n",
      "20/20 [==============================] - 0s 2ms/step - loss: 0.4300 - accuracy: 0.7785\n",
      "Epoch 144/150\n",
      "20/20 [==============================] - 0s 2ms/step - loss: 0.4298 - accuracy: 0.7834\n",
      "Epoch 145/150\n",
      "20/20 [==============================] - 0s 2ms/step - loss: 0.4301 - accuracy: 0.7850\n",
      "Epoch 146/150\n",
      "20/20 [==============================] - 0s 2ms/step - loss: 0.4296 - accuracy: 0.7801\n",
      "Epoch 147/150\n",
      "20/20 [==============================] - 0s 2ms/step - loss: 0.4298 - accuracy: 0.7834\n",
      "Epoch 148/150\n",
      "20/20 [==============================] - 0s 2ms/step - loss: 0.4293 - accuracy: 0.7834\n",
      "Epoch 149/150\n",
      "20/20 [==============================] - 0s 2ms/step - loss: 0.4292 - accuracy: 0.7818\n",
      "Epoch 150/150\n",
      "20/20 [==============================] - 0s 2ms/step - loss: 0.4289 - accuracy: 0.7866\n"
     ]
    }
   ],
   "source": [
    "history=model.fit(x_train,y_train,epochs=150,batch_size=32)"
   ]
  },
  {
   "cell_type": "code",
   "execution_count": 18,
   "metadata": {
    "colab": {
     "base_uri": "https://localhost:8080/",
     "height": 472
    },
    "id": "BCzQp2qfyPWk",
    "outputId": "28edd656-f741-4c83-ae7f-ba9333cfb80b"
   },
   "outputs": [
    {
     "data": {
      "image/png": "[encoded data removed]",
      "text/plain": [
       "<Figure size 640x480 with 1 Axes>"
      ]
     },
     "metadata": {},
     "output_type": "display_data"
    }
   ],
   "source": [
    "history_dict=history.history\n",
    "loss_values=history_dict[\"loss\"]\n",
    "epochs=range(1,len(loss_values)+1)\n",
    "plt.plot(epochs,loss_values,\"b\",label=\"Training loss\")\n",
    "plt.title(\"Training Loss \")\n",
    "plt.xlabel(\"Epochs\")\n",
    "plt.ylabel(\"Loss\")\n",
    "plt.legend()\n",
    "plt.show()"
   ]
  },
  {
   "cell_type": "code",
   "execution_count": 19,
   "metadata": {
    "colab": {
     "base_uri": "https://localhost:8080/",
     "height": 472
    },
    "id": "YlUt1B7_z-fI",
    "outputId": "5812e9ea-7836-48a4-f5d4-730272ce9536"
   },
   "outputs": [
    {
     "data": {
      "image/png": "[encoded data removed]",
      "text/plain": [
       "<Figure size 640x480 with 1 Axes>"
      ]
     },
     "metadata": {},
     "output_type": "display_data"
    }
   ],
   "source": [
    "history_dict=history.history\n",
    "accuracy=history_dict[\"accuracy\"]\n",
    "epochs=range(1,len(loss_values)+1)\n",
    "plt.plot(epochs,accuracy,\"b\",label=\"Validation loss\")\n",
    "plt.title(\"Training accuracy \")\n",
    "plt.xlabel(\"Epochs\")\n",
    "plt.ylabel(\"accuracy\")\n",
    "plt.legend()\n",
    "plt.show()"
   ]
  },
  {
   "cell_type": "markdown",
   "metadata": {
    "id": "10rqz56m0d4x"
   },
   "source": []
  }
 ],
 "metadata": {
  "colab": {
   "provenance": []
  },
  "kernelspec": {
   "display_name": "Python 3 (ipykernel)",
   "language": "python",
   "name": "python3"
  },
  "language_info": {
   "codemirror_mode": {
    "name": "ipython",
    "version": 3
   },
   "file_extension": ".py",
   "mimetype": "text/x-python",
   "name": "python",
   "nbconvert_exporter": "python",
   "pygments_lexer": "ipython3",
   "version": "3.9.13"
  }
 },
 "nbformat": 4,
 "nbformat_minor": 4
}
